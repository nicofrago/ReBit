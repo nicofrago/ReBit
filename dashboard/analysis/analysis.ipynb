{
 "cells": [
  {
   "cell_type": "code",
   "execution_count": 1,
   "metadata": {},
   "outputs": [],
   "source": [
    "import pandas as pd\n",
    "import numpy as np\n",
    "import plotly.graph_objs as go\n",
    "import matplotlib.pyplot as plt\n",
    "from statsmodels.tsa.stattools import grangercausalitytests\n",
    "from sklearn.linear_model import LinearRegression\n",
    "from sklearn.model_selection import train_test_split\n",
    "import plotly.express as px\n",
    "\n",
    "import sys\n",
    "sys.path.append('../')\n",
    "from utils import get_comments2sentiments_per_minutes, bitcoin_sentiment_scatter_norm"
   ]
  },
  {
   "cell_type": "code",
   "execution_count": 2,
   "metadata": {},
   "outputs": [],
   "source": [
    "bitcoin_data = pd.read_csv('bitcoin_data.csv')\n",
    "bitcoin_data['bitcoin_norm'] = (bitcoin_data['bitcoin'] - bitcoin_data['bitcoin'].min()) / (bitcoin_data['bitcoin'].max() - bitcoin_data['bitcoin'].min())\n",
    "comments_data = pd.read_csv('bitcoin_reddit_comments.csv')\n",
    "sentiments = get_comments2sentiments_per_minutes(comments_data, minutes=10)\n",
    "sentiments['compound_norm'] = (sentiments['compound_mean'] + 1 ) * 0.5\n",
    "\n",
    "# Merge sentiments with bitcoin_data on the closest date\n",
    "sentiments['date'] = pd.to_datetime(sentiments['date'])\n",
    "bitcoin_data['date'] = pd.to_datetime(bitcoin_data['date'])\n",
    "\n",
    "# Find the closest date in bitcoin_data for each date in sentiments\n",
    "sentiments['closest_date'] = sentiments['date'].apply(lambda x: bitcoin_data.iloc[(bitcoin_data['date'] - x).abs().argsort()[:1]]['date'].values[0])\n",
    "\n",
    "# Merge the dataframes on the closest date\n",
    "sentiments = sentiments.merge(bitcoin_data[['date', 'bitcoin_norm']], left_on='closest_date', right_on='date', suffixes=('', '_bitcoin'))\n",
    "\n",
    "# Drop the extra date columns\n",
    "sentiments.drop(columns=['closest_date', 'date_bitcoin'], inplace=True)"
   ]
  },
  {
   "cell_type": "code",
   "execution_count": 3,
   "metadata": {},
   "outputs": [
    {
     "data": {
      "text/html": [
       "<div>\n",
       "<style scoped>\n",
       "    .dataframe tbody tr th:only-of-type {\n",
       "        vertical-align: middle;\n",
       "    }\n",
       "\n",
       "    .dataframe tbody tr th {\n",
       "        vertical-align: top;\n",
       "    }\n",
       "\n",
       "    .dataframe thead th {\n",
       "        text-align: right;\n",
       "    }\n",
       "</style>\n",
       "<table border=\"1\" class=\"dataframe\">\n",
       "  <thead>\n",
       "    <tr style=\"text-align: right;\">\n",
       "      <th></th>\n",
       "      <th>title</th>\n",
       "      <th>body</th>\n",
       "      <th>author</th>\n",
       "      <th>url</th>\n",
       "      <th>created_utc</th>\n",
       "      <th>upvotes</th>\n",
       "      <th>type</th>\n",
       "      <th>comments</th>\n",
       "      <th>neg</th>\n",
       "      <th>neu</th>\n",
       "      <th>pos</th>\n",
       "      <th>compound</th>\n",
       "    </tr>\n",
       "  </thead>\n",
       "  <tbody>\n",
       "    <tr>\n",
       "      <th>0</th>\n",
       "      <td>OKX Referral Code : FEEKICKBACK 🤍 (15% Fee Dis...</td>\n",
       "      <td>OKX Referral Code : FEEKICKBACK\\n\\nRegister wi...</td>\n",
       "      <td>Ok_Conflict9643</td>\n",
       "      <td>https://www.reddit.com/r/referralcodes/comment...</td>\n",
       "      <td>2024-12-04 14:08:16</td>\n",
       "      <td>1</td>\n",
       "      <td>title</td>\n",
       "      <td>0.0</td>\n",
       "      <td>0.147</td>\n",
       "      <td>0.54</td>\n",
       "      <td>0.313</td>\n",
       "      <td>0.9538</td>\n",
       "    </tr>\n",
       "    <tr>\n",
       "      <th>1</th>\n",
       "      <td>\"Unlocking Value: Saylor on $MSFT 💰🔑\"</td>\n",
       "      <td>. 🚨 BREAKING: 🇺🇸 Michael Saylor thinks Microso...</td>\n",
       "      <td>Warm-Echo5540</td>\n",
       "      <td>https://www.reddit.com/r/BitunixCrypto/comment...</td>\n",
       "      <td>2024-12-04 14:05:47</td>\n",
       "      <td>1</td>\n",
       "      <td>title</td>\n",
       "      <td>0.0</td>\n",
       "      <td>0.000</td>\n",
       "      <td>0.80</td>\n",
       "      <td>0.200</td>\n",
       "      <td>0.7901</td>\n",
       "    </tr>\n",
       "    <tr>\n",
       "      <th>2</th>\n",
       "      <td>Trezor vs Coldcard (x-post from /r/Bitcoin)</td>\n",
       "      <td>NaN</td>\n",
       "      <td>ASICmachine</td>\n",
       "      <td>https://www.reddit.com/r/Bitcoin/comments/1h6g...</td>\n",
       "      <td>2024-12-04 14:04:20</td>\n",
       "      <td>1</td>\n",
       "      <td>title</td>\n",
       "      <td>0.0</td>\n",
       "      <td>0.000</td>\n",
       "      <td>1.00</td>\n",
       "      <td>0.000</td>\n",
       "      <td>0.0000</td>\n",
       "    </tr>\n",
       "    <tr>\n",
       "      <th>3</th>\n",
       "      <td>Paul Atkins as new SEC Chair!! (x-post from /r...</td>\n",
       "      <td>NaN</td>\n",
       "      <td>ASICmachine</td>\n",
       "      <td>https://www.reddit.com/r/Bitcoin/comments/1h6g...</td>\n",
       "      <td>2024-12-04 14:04:20</td>\n",
       "      <td>1</td>\n",
       "      <td>title</td>\n",
       "      <td>0.0</td>\n",
       "      <td>0.000</td>\n",
       "      <td>1.00</td>\n",
       "      <td>0.000</td>\n",
       "      <td>0.0000</td>\n",
       "    </tr>\n",
       "    <tr>\n",
       "      <th>4</th>\n",
       "      <td>LazyLambo (x-post from /r/Bitcoin)</td>\n",
       "      <td>NaN</td>\n",
       "      <td>ASICmachine</td>\n",
       "      <td>https://www.reddit.com/r/Bitcoin/comments/1h6g...</td>\n",
       "      <td>2024-12-04 14:04:20</td>\n",
       "      <td>1</td>\n",
       "      <td>title</td>\n",
       "      <td>0.0</td>\n",
       "      <td>0.000</td>\n",
       "      <td>1.00</td>\n",
       "      <td>0.000</td>\n",
       "      <td>0.0000</td>\n",
       "    </tr>\n",
       "  </tbody>\n",
       "</table>\n",
       "</div>"
      ],
      "text/plain": [
       "                                               title  \\\n",
       "0  OKX Referral Code : FEEKICKBACK 🤍 (15% Fee Dis...   \n",
       "1              \"Unlocking Value: Saylor on $MSFT 💰🔑\"   \n",
       "2        Trezor vs Coldcard (x-post from /r/Bitcoin)   \n",
       "3  Paul Atkins as new SEC Chair!! (x-post from /r...   \n",
       "4                 LazyLambo (x-post from /r/Bitcoin)   \n",
       "\n",
       "                                                body           author  \\\n",
       "0  OKX Referral Code : FEEKICKBACK\\n\\nRegister wi...  Ok_Conflict9643   \n",
       "1  . 🚨 BREAKING: 🇺🇸 Michael Saylor thinks Microso...    Warm-Echo5540   \n",
       "2                                                NaN      ASICmachine   \n",
       "3                                                NaN      ASICmachine   \n",
       "4                                                NaN      ASICmachine   \n",
       "\n",
       "                                                 url         created_utc  \\\n",
       "0  https://www.reddit.com/r/referralcodes/comment... 2024-12-04 14:08:16   \n",
       "1  https://www.reddit.com/r/BitunixCrypto/comment... 2024-12-04 14:05:47   \n",
       "2  https://www.reddit.com/r/Bitcoin/comments/1h6g... 2024-12-04 14:04:20   \n",
       "3  https://www.reddit.com/r/Bitcoin/comments/1h6g... 2024-12-04 14:04:20   \n",
       "4  https://www.reddit.com/r/Bitcoin/comments/1h6g... 2024-12-04 14:04:20   \n",
       "\n",
       "   upvotes   type  comments    neg   neu    pos  compound  \n",
       "0        1  title       0.0  0.147  0.54  0.313    0.9538  \n",
       "1        1  title       0.0  0.000  0.80  0.200    0.7901  \n",
       "2        1  title       0.0  0.000  1.00  0.000    0.0000  \n",
       "3        1  title       0.0  0.000  1.00  0.000    0.0000  \n",
       "4        1  title       0.0  0.000  1.00  0.000    0.0000  "
      ]
     },
     "execution_count": 3,
     "metadata": {},
     "output_type": "execute_result"
    }
   ],
   "source": [
    "comments_data.head()"
   ]
  },
  {
   "cell_type": "code",
   "execution_count": 4,
   "metadata": {},
   "outputs": [
    {
     "data": {
      "text/html": [
       "<div>\n",
       "<style scoped>\n",
       "    .dataframe tbody tr th:only-of-type {\n",
       "        vertical-align: middle;\n",
       "    }\n",
       "\n",
       "    .dataframe tbody tr th {\n",
       "        vertical-align: top;\n",
       "    }\n",
       "\n",
       "    .dataframe thead th {\n",
       "        text-align: right;\n",
       "    }\n",
       "</style>\n",
       "<table border=\"1\" class=\"dataframe\">\n",
       "  <thead>\n",
       "    <tr style=\"text-align: right;\">\n",
       "      <th></th>\n",
       "      <th>currency</th>\n",
       "      <th>bitcoin</th>\n",
       "      <th>date</th>\n",
       "    </tr>\n",
       "  </thead>\n",
       "  <tbody>\n",
       "    <tr>\n",
       "      <th>0</th>\n",
       "      <td>usd</td>\n",
       "      <td>95539</td>\n",
       "      <td>2024-12-04 14:00:06</td>\n",
       "    </tr>\n",
       "    <tr>\n",
       "      <th>1</th>\n",
       "      <td>usd</td>\n",
       "      <td>95692</td>\n",
       "      <td>2024-12-04 14:10:06</td>\n",
       "    </tr>\n",
       "    <tr>\n",
       "      <th>2</th>\n",
       "      <td>usd</td>\n",
       "      <td>95640</td>\n",
       "      <td>2024-12-04 14:20:07</td>\n",
       "    </tr>\n",
       "    <tr>\n",
       "      <th>3</th>\n",
       "      <td>usd</td>\n",
       "      <td>95799</td>\n",
       "      <td>2024-12-04 14:30:06</td>\n",
       "    </tr>\n",
       "    <tr>\n",
       "      <th>4</th>\n",
       "      <td>usd</td>\n",
       "      <td>96340</td>\n",
       "      <td>2024-12-04 14:40:06</td>\n",
       "    </tr>\n",
       "  </tbody>\n",
       "</table>\n",
       "</div>"
      ],
      "text/plain": [
       "  currency  bitcoin                date\n",
       "0      usd    95539 2024-12-04 14:00:06\n",
       "1      usd    95692 2024-12-04 14:10:06\n",
       "2      usd    95640 2024-12-04 14:20:07\n",
       "3      usd    95799 2024-12-04 14:30:06\n",
       "4      usd    96340 2024-12-04 14:40:06"
      ]
     },
     "execution_count": 4,
     "metadata": {},
     "output_type": "execute_result"
    }
   ],
   "source": [
    "bitcoin_data[['currency', 'bitcoin', 'date']].head()"
   ]
  },
  {
   "cell_type": "code",
   "execution_count": 5,
   "metadata": {},
   "outputs": [
    {
     "name": "stdout",
     "output_type": "stream",
     "text": [
      "Average number of comments per hour: 0.4725352805765616\n"
     ]
    },
    {
     "name": "stderr",
     "output_type": "stream",
     "text": [
      "C:\\Users\\nicof\\AppData\\Local\\Temp\\ipykernel_10180\\3905927.py:5: FutureWarning: 'H' is deprecated and will be removed in a future version, please use 'h' instead.\n",
      "  comments_per_hour = comments_data.set_index('created_utc').resample('H')['comments'].mean()\n"
     ]
    }
   ],
   "source": [
    "# Ensure 'created_utc' is in datetime format\n",
    "comments_data['created_utc'] = pd.to_datetime(comments_data['created_utc'])\n",
    "\n",
    "# Group by hour and calculate the mean number of comments\n",
    "comments_per_hour = comments_data.set_index('created_utc').resample('H')['comments'].mean()\n",
    "\n",
    "# Compute the average number of comments per hour\n",
    "average_comments_per_hour = comments_per_hour.mean()\n",
    "\n",
    "print(f\"Average number of comments per hour: {average_comments_per_hour}\")"
   ]
  },
  {
   "cell_type": "code",
   "execution_count": 8,
   "metadata": {},
   "outputs": [
    {
     "data": {
      "application/vnd.plotly.v1+json": {
       "config": {
        "plotlyServerURL": "https://plot.ly"
       },
       "data": [
        {
         "hovertemplate": "Sentiment=%{x}<br>Bitcoin price=%{y}<extra></extra>",
         "legendgroup": "",
         "marker": {
          "color": "#636efa",
          "symbol": "circle"
         },
         "mode": "markers",
         "name": "",
         "orientation": "v",
         "showlegend": false,
         "type": "scatter",
         "x": [
          0.6614277777777778,
          0.56608,
          0.76595,
          0.56608,
          0.6673,
          0.50186875,
          0.5611333333333334,
          0.9804999999999999,
          0.05149999999999999,
          0.6634166666666667,
          0.6806,
          0.6647416666666667,
          0.5893416666666667,
          0.61283625,
          0.5720583333333333,
          0.5908765957446809,
          0.57025,
          0.6021418918918919,
          0.5,
          0.6802146341463414,
          0.62644,
          0.5476416666666667,
          0.6440851851851852,
          0.26492499999999997,
          0.5032603448275862,
          0.4097,
          0.7788999999999999,
          0.5619,
          0.5,
          0.6542,
          0.5464875,
          0.7256666666666667,
          0.5,
          0.5931275862068965,
          0.6423136363636364,
          0.7012973684210526,
          0.5908,
          0.6905384615384615,
          0.7152612903225807,
          0.59335,
          0.5717153846153846,
          0.8121833333333333,
          0.6279769230769231,
          0.5766666666666667,
          0.53055,
          0.52498,
          0.49435,
          0.5531333333333334,
          0.6486562499999999,
          0.40759,
          0.6715139999999999,
          0.72675,
          0.5164944444444445,
          0.38455,
          0.6521363636363636,
          0.5662785714285714,
          0.5386,
          0.64449,
          0.6350133333333333,
          0.75766,
          0.5,
          0.6035791666666667,
          0.7539,
          0.5083666666666666,
          0.69685,
          0.79295,
          0.6622666666666667,
          0.7434166666666666,
          0.9995499999999999,
          0.9335,
          0.692775,
          0.4422,
          0.07164999999999999,
          0.5911444444444445,
          0.7851772727272728,
          0.7254916666666666,
          0.24524999999999997,
          0.45028999999999997,
          0.3853,
          0.62765,
          0.64903,
          0.6909,
          0.86425,
          0.67378,
          0.5354625,
          0.69345,
          0.8075333333333333,
          0.5264866666666667,
          0.51935,
          0.61495,
          0.5121666666666667,
          0.7969999999999999,
          0.72985,
          0.5340333333333334,
          0.8569,
          0.6999,
          0.4892142857142857,
          0.39077142857142855,
          0.46595,
          0.6012062499999999,
          0.50595,
          0.468525,
          0.28995000000000004,
          0.4897722222222222,
          0.5,
          0.5387714285714286,
          0.4487,
          0.6642722222222223,
          0.736675,
          0.5789291666666667,
          0.53585,
          0.57983,
          0.55753,
          0.23225,
          0.8405833333333332,
          0.7184900000000001,
          0.692925,
          0.6348833333333334,
          0.5898857142857142,
          0.5,
          0.5,
          0.63935,
          0.74595,
          0.30979999999999996,
          0.56153125,
          0.8825000000000001,
          0.68860625,
          0.394625,
          0.46213333333333334,
          0.5253583333333334,
          0.5084785714285714,
          0.5,
          0.3900423076923077,
          0.52837,
          0.91525,
          0.5,
          0.3486,
          0.70095,
          0.587025,
          0.545925,
          0.58895,
          0.6086166666666667,
          0.34191666666666665,
          0.7066399999999999,
          0.28215,
          0.607675,
          0.9375,
          0.9981,
          0.5619636363636363,
          0.6800333333333334,
          0.5921,
          0.7916571428571428,
          0.7484,
          0.5951,
          0.5767615384615384,
          0.6166285714285714,
          0.5452323529411764,
          0.35109999999999997,
          0.629065,
          0.387375,
          0.7255964285714286,
          0.9037,
          0.7082125,
          0.4691547619047619,
          0.5,
          0.6980227272727273,
          0.635575,
          0.5,
          0.6071,
          0.733725,
          0.5999444444444444,
          0.7271000000000001,
          0.5716227272727272,
          0.5719333333333333,
          0.42878461538461543,
          0.66300625,
          0.5,
          0.8825000000000001,
          0.639475,
          0.69361,
          0.66313,
          0.48905000000000004,
          0.426,
          0.53955,
          0.5,
          0.6187,
          0.88915,
          0.7637,
          0.5169333333333334,
          0.47534375,
          0.16952499999999998,
          0.5301,
          0.61315,
          0.5122454545454546,
          0.9169,
          0.82684,
          0.5955333333333334,
          0.6177272727272727,
          0.7713466666666666,
          0.81245,
          0.5600499999999999,
          0.453775,
          0.619621875,
          0.4436333333333333,
          0.57135,
          0.42693333333333333,
          0.5829166666666666,
          0.543675,
          0.6466000000000001,
          0.7070083333333333,
          0.583871875,
          0.1126833333333333,
          0.5854,
          0.395025,
          0.785725,
          0.6656117647058823,
          0.6030833333333333,
          0.5802363636363637,
          0.16475,
          0.5739285714285715,
          0.55135,
          0.8503227272727273,
          0.6908833333333333,
          0.9997,
          0.9757499999999999,
          0.5,
          0.738475,
          0.634,
          0.6486833333333333,
          0.6036833333333333,
          0.57655,
          0.6199461538461538,
          0.574,
          0.5919884615384615,
          0.36224999999999996,
          0.5453875,
          0.648,
          0.61574,
          0.3902333333333333,
          0.4724333333333333,
          0.75882,
          0.9080666666666666,
          0.5,
          0.6466666666666667,
          0.375,
          0.94235,
          0.80715,
          0.7479307692307692,
          0.5,
          0.7423045454545455,
          0.30910000000000004,
          0.5786333333333333,
          0.6294500000000001,
          0.5530333333333334
         ],
         "xaxis": "x",
         "y": [
          0.12411111111111112,
          0.14455555555555555,
          0.11033333333333334,
          0.059666666666666666,
          0.04611111111111111,
          0.07977777777777778,
          0.06544444444444444,
          0.48544444444444446,
          0.448,
          0.43722222222222223,
          0.45844444444444443,
          0.9546666666666667,
          0.9856666666666667,
          0.8977777777777778,
          0.9308888888888889,
          0.9835555555555555,
          0.9634444444444444,
          0.9568888888888889,
          0.8386666666666667,
          0.8837777777777778,
          0.8218888888888889,
          0.755,
          0.9026666666666666,
          0.9522222222222222,
          0.9154444444444444,
          0.9056666666666666,
          0.8717777777777778,
          0.8731111111111111,
          0.8884444444444445,
          0.9292222222222222,
          0.9245555555555556,
          0.9146666666666666,
          0.9145555555555556,
          0.9817777777777777,
          0.8811111111111111,
          0.8192222222222222,
          0.8052222222222222,
          0.829,
          0.7817777777777778,
          0.7627777777777778,
          0.7165555555555555,
          0.7204444444444444,
          0.6908888888888889,
          0.6795555555555556,
          0.7067777777777777,
          0.437,
          0.4776666666666667,
          0.5296666666666666,
          0.417,
          0.0971111111111111,
          0.23622222222222222,
          0.29488888888888887,
          0.2833333333333333,
          0.2952222222222222,
          0.3188888888888889,
          0.44855555555555554,
          0.4702222222222222,
          0.37777777777777777,
          0.3632222222222222,
          0.32966666666666666,
          0.35588888888888887,
          0.33211111111111113,
          0.3728888888888889,
          0.38255555555555554,
          0.38966666666666666,
          0.37155555555555553,
          0.4176666666666667,
          0.418,
          0.388,
          0.4037777777777778,
          0.3808888888888889,
          0.43233333333333335,
          0.46166666666666667,
          0.49044444444444446,
          0.48377777777777775,
          0.49666666666666665,
          0.48055555555555557,
          0.4881111111111111,
          0.491,
          0.808,
          0.8256666666666667,
          0.7861111111111111,
          0.614,
          0.6357777777777778,
          0.6167777777777778,
          0.5658888888888889,
          0.5471111111111111,
          0.5641111111111111,
          0.5321111111111111,
          0.5433333333333333,
          0.574,
          0.5657777777777778,
          0.5794444444444444,
          0.5593333333333333,
          0.5511111111111111,
          0.557,
          0.5671111111111111,
          0.5482222222222223,
          0.5455555555555556,
          0.5168888888888888,
          0.5282222222222223,
          0.5578888888888889,
          0.5586666666666666,
          0.5632222222222222,
          0.5726666666666667,
          0.5686666666666667,
          0.5676666666666667,
          0.6361111111111111,
          0.5952222222222222,
          0.5776666666666667,
          0.5942222222222222,
          0.6227777777777778,
          0.6073333333333333,
          0.6338888888888888,
          0.6121111111111112,
          0.5813333333333334,
          0.5441111111111111,
          0.5448888888888889,
          0.5252222222222223,
          0.5245555555555556,
          0.5018888888888889,
          0.5305555555555556,
          0.5171111111111111,
          0.5314444444444445,
          0.5698888888888889,
          0.5941111111111111,
          0.6276666666666667,
          0.6218888888888889,
          0.6177777777777778,
          0.5601111111111111,
          0.5816666666666667,
          0.5907777777777777,
          0.5804444444444444,
          0.5786666666666667,
          0.5792222222222222,
          0.5843333333333334,
          0.6815555555555556,
          0.7524444444444445,
          0.5551111111111111,
          0.5724444444444444,
          0.525,
          0.5053333333333333,
          0.5252222222222223,
          0.5488888888888889,
          0.556,
          0.5037777777777778,
          0.42944444444444446,
          0.42233333333333334,
          0.41533333333333333,
          0.49333333333333335,
          0.5,
          0.49944444444444447,
          0.35988888888888887,
          0.39055555555555554,
          0.3672222222222222,
          0.3576666666666667,
          0.324,
          0.33055555555555555,
          0.26811111111111113,
          0.26266666666666666,
          0.23244444444444445,
          0.21122222222222223,
          0.197,
          0.30577777777777776,
          0.2408888888888889,
          0.28044444444444444,
          0.30977777777777776,
          0.2777777777777778,
          0.3675555555555556,
          0.31677777777777777,
          0.1981111111111111,
          0.17733333333333334,
          0.18433333333333332,
          0.263,
          0.21622222222222223,
          0.2638888888888889,
          0.25522222222222224,
          0.2568888888888889,
          0.2806666666666667,
          0.29744444444444446,
          0.29433333333333334,
          0.26211111111111113,
          0.29655555555555557,
          0.3343333333333333,
          0.3357777777777778,
          0.3312222222222222,
          0.30144444444444446,
          0.3451111111111111,
          0.3532222222222222,
          0.3041111111111111,
          0.28833333333333333,
          0.3273333333333333,
          0.34044444444444444,
          0.37866666666666665,
          0.3841111111111111,
          0.4092222222222222,
          0.33944444444444444,
          0.26266666666666666,
          0.17744444444444443,
          0.13266666666666665,
          0.023666666666666666,
          0.2131111111111111,
          0.025,
          0.009333333333333334,
          0.08588888888888889,
          0.00044444444444444447,
          0.06344444444444444,
          0.059444444444444446,
          0.10633333333333334,
          0.05388888888888889,
          0.11822222222222223,
          0.15955555555555556,
          0.11155555555555556,
          0.15333333333333332,
          0.1978888888888889,
          0.24644444444444444,
          0.22444444444444445,
          0.2683333333333333,
          0.2597777777777778,
          0.2693333333333333,
          0.26055555555555554,
          0.2776666666666667,
          0.26122222222222224,
          0.19077777777777777,
          0.161,
          0.2222222222222222,
          0.1771111111111111,
          0.18955555555555556,
          0.31555555555555553,
          0.3224444444444444,
          0.31344444444444447,
          0.31422222222222224,
          0.31422222222222224,
          0.30966666666666665,
          0.3015555555555556,
          0.30622222222222223,
          0.3318888888888889,
          0.31433333333333335,
          0.32355555555555554,
          0.33766666666666667,
          0.3397777777777778,
          0.32,
          0.34644444444444444,
          0.37866666666666665,
          0.3658888888888889,
          0.37477777777777777,
          0.3932222222222222,
          0.3791111111111111,
          0.3854444444444444,
          0.4112222222222222,
          0.429,
          0.41955555555555557,
          0.4246666666666667,
          0.43344444444444447
         ],
         "yaxis": "y"
        }
       ],
       "layout": {
        "legend": {
         "tracegroupgap": 0
        },
        "template": {
         "data": {
          "bar": [
           {
            "error_x": {
             "color": "#2a3f5f"
            },
            "error_y": {
             "color": "#2a3f5f"
            },
            "marker": {
             "line": {
              "color": "#E5ECF6",
              "width": 0.5
             },
             "pattern": {
              "fillmode": "overlay",
              "size": 10,
              "solidity": 0.2
             }
            },
            "type": "bar"
           }
          ],
          "barpolar": [
           {
            "marker": {
             "line": {
              "color": "#E5ECF6",
              "width": 0.5
             },
             "pattern": {
              "fillmode": "overlay",
              "size": 10,
              "solidity": 0.2
             }
            },
            "type": "barpolar"
           }
          ],
          "carpet": [
           {
            "aaxis": {
             "endlinecolor": "#2a3f5f",
             "gridcolor": "white",
             "linecolor": "white",
             "minorgridcolor": "white",
             "startlinecolor": "#2a3f5f"
            },
            "baxis": {
             "endlinecolor": "#2a3f5f",
             "gridcolor": "white",
             "linecolor": "white",
             "minorgridcolor": "white",
             "startlinecolor": "#2a3f5f"
            },
            "type": "carpet"
           }
          ],
          "choropleth": [
           {
            "colorbar": {
             "outlinewidth": 0,
             "ticks": ""
            },
            "type": "choropleth"
           }
          ],
          "contour": [
           {
            "colorbar": {
             "outlinewidth": 0,
             "ticks": ""
            },
            "colorscale": [
             [
              0,
              "#0d0887"
             ],
             [
              0.1111111111111111,
              "#46039f"
             ],
             [
              0.2222222222222222,
              "#7201a8"
             ],
             [
              0.3333333333333333,
              "#9c179e"
             ],
             [
              0.4444444444444444,
              "#bd3786"
             ],
             [
              0.5555555555555556,
              "#d8576b"
             ],
             [
              0.6666666666666666,
              "#ed7953"
             ],
             [
              0.7777777777777778,
              "#fb9f3a"
             ],
             [
              0.8888888888888888,
              "#fdca26"
             ],
             [
              1,
              "#f0f921"
             ]
            ],
            "type": "contour"
           }
          ],
          "contourcarpet": [
           {
            "colorbar": {
             "outlinewidth": 0,
             "ticks": ""
            },
            "type": "contourcarpet"
           }
          ],
          "heatmap": [
           {
            "colorbar": {
             "outlinewidth": 0,
             "ticks": ""
            },
            "colorscale": [
             [
              0,
              "#0d0887"
             ],
             [
              0.1111111111111111,
              "#46039f"
             ],
             [
              0.2222222222222222,
              "#7201a8"
             ],
             [
              0.3333333333333333,
              "#9c179e"
             ],
             [
              0.4444444444444444,
              "#bd3786"
             ],
             [
              0.5555555555555556,
              "#d8576b"
             ],
             [
              0.6666666666666666,
              "#ed7953"
             ],
             [
              0.7777777777777778,
              "#fb9f3a"
             ],
             [
              0.8888888888888888,
              "#fdca26"
             ],
             [
              1,
              "#f0f921"
             ]
            ],
            "type": "heatmap"
           }
          ],
          "heatmapgl": [
           {
            "colorbar": {
             "outlinewidth": 0,
             "ticks": ""
            },
            "colorscale": [
             [
              0,
              "#0d0887"
             ],
             [
              0.1111111111111111,
              "#46039f"
             ],
             [
              0.2222222222222222,
              "#7201a8"
             ],
             [
              0.3333333333333333,
              "#9c179e"
             ],
             [
              0.4444444444444444,
              "#bd3786"
             ],
             [
              0.5555555555555556,
              "#d8576b"
             ],
             [
              0.6666666666666666,
              "#ed7953"
             ],
             [
              0.7777777777777778,
              "#fb9f3a"
             ],
             [
              0.8888888888888888,
              "#fdca26"
             ],
             [
              1,
              "#f0f921"
             ]
            ],
            "type": "heatmapgl"
           }
          ],
          "histogram": [
           {
            "marker": {
             "pattern": {
              "fillmode": "overlay",
              "size": 10,
              "solidity": 0.2
             }
            },
            "type": "histogram"
           }
          ],
          "histogram2d": [
           {
            "colorbar": {
             "outlinewidth": 0,
             "ticks": ""
            },
            "colorscale": [
             [
              0,
              "#0d0887"
             ],
             [
              0.1111111111111111,
              "#46039f"
             ],
             [
              0.2222222222222222,
              "#7201a8"
             ],
             [
              0.3333333333333333,
              "#9c179e"
             ],
             [
              0.4444444444444444,
              "#bd3786"
             ],
             [
              0.5555555555555556,
              "#d8576b"
             ],
             [
              0.6666666666666666,
              "#ed7953"
             ],
             [
              0.7777777777777778,
              "#fb9f3a"
             ],
             [
              0.8888888888888888,
              "#fdca26"
             ],
             [
              1,
              "#f0f921"
             ]
            ],
            "type": "histogram2d"
           }
          ],
          "histogram2dcontour": [
           {
            "colorbar": {
             "outlinewidth": 0,
             "ticks": ""
            },
            "colorscale": [
             [
              0,
              "#0d0887"
             ],
             [
              0.1111111111111111,
              "#46039f"
             ],
             [
              0.2222222222222222,
              "#7201a8"
             ],
             [
              0.3333333333333333,
              "#9c179e"
             ],
             [
              0.4444444444444444,
              "#bd3786"
             ],
             [
              0.5555555555555556,
              "#d8576b"
             ],
             [
              0.6666666666666666,
              "#ed7953"
             ],
             [
              0.7777777777777778,
              "#fb9f3a"
             ],
             [
              0.8888888888888888,
              "#fdca26"
             ],
             [
              1,
              "#f0f921"
             ]
            ],
            "type": "histogram2dcontour"
           }
          ],
          "mesh3d": [
           {
            "colorbar": {
             "outlinewidth": 0,
             "ticks": ""
            },
            "type": "mesh3d"
           }
          ],
          "parcoords": [
           {
            "line": {
             "colorbar": {
              "outlinewidth": 0,
              "ticks": ""
             }
            },
            "type": "parcoords"
           }
          ],
          "pie": [
           {
            "automargin": true,
            "type": "pie"
           }
          ],
          "scatter": [
           {
            "fillpattern": {
             "fillmode": "overlay",
             "size": 10,
             "solidity": 0.2
            },
            "type": "scatter"
           }
          ],
          "scatter3d": [
           {
            "line": {
             "colorbar": {
              "outlinewidth": 0,
              "ticks": ""
             }
            },
            "marker": {
             "colorbar": {
              "outlinewidth": 0,
              "ticks": ""
             }
            },
            "type": "scatter3d"
           }
          ],
          "scattercarpet": [
           {
            "marker": {
             "colorbar": {
              "outlinewidth": 0,
              "ticks": ""
             }
            },
            "type": "scattercarpet"
           }
          ],
          "scattergeo": [
           {
            "marker": {
             "colorbar": {
              "outlinewidth": 0,
              "ticks": ""
             }
            },
            "type": "scattergeo"
           }
          ],
          "scattergl": [
           {
            "marker": {
             "colorbar": {
              "outlinewidth": 0,
              "ticks": ""
             }
            },
            "type": "scattergl"
           }
          ],
          "scattermapbox": [
           {
            "marker": {
             "colorbar": {
              "outlinewidth": 0,
              "ticks": ""
             }
            },
            "type": "scattermapbox"
           }
          ],
          "scatterpolar": [
           {
            "marker": {
             "colorbar": {
              "outlinewidth": 0,
              "ticks": ""
             }
            },
            "type": "scatterpolar"
           }
          ],
          "scatterpolargl": [
           {
            "marker": {
             "colorbar": {
              "outlinewidth": 0,
              "ticks": ""
             }
            },
            "type": "scatterpolargl"
           }
          ],
          "scatterternary": [
           {
            "marker": {
             "colorbar": {
              "outlinewidth": 0,
              "ticks": ""
             }
            },
            "type": "scatterternary"
           }
          ],
          "surface": [
           {
            "colorbar": {
             "outlinewidth": 0,
             "ticks": ""
            },
            "colorscale": [
             [
              0,
              "#0d0887"
             ],
             [
              0.1111111111111111,
              "#46039f"
             ],
             [
              0.2222222222222222,
              "#7201a8"
             ],
             [
              0.3333333333333333,
              "#9c179e"
             ],
             [
              0.4444444444444444,
              "#bd3786"
             ],
             [
              0.5555555555555556,
              "#d8576b"
             ],
             [
              0.6666666666666666,
              "#ed7953"
             ],
             [
              0.7777777777777778,
              "#fb9f3a"
             ],
             [
              0.8888888888888888,
              "#fdca26"
             ],
             [
              1,
              "#f0f921"
             ]
            ],
            "type": "surface"
           }
          ],
          "table": [
           {
            "cells": {
             "fill": {
              "color": "#EBF0F8"
             },
             "line": {
              "color": "white"
             }
            },
            "header": {
             "fill": {
              "color": "#C8D4E3"
             },
             "line": {
              "color": "white"
             }
            },
            "type": "table"
           }
          ]
         },
         "layout": {
          "annotationdefaults": {
           "arrowcolor": "#2a3f5f",
           "arrowhead": 0,
           "arrowwidth": 1
          },
          "autotypenumbers": "strict",
          "coloraxis": {
           "colorbar": {
            "outlinewidth": 0,
            "ticks": ""
           }
          },
          "colorscale": {
           "diverging": [
            [
             0,
             "#8e0152"
            ],
            [
             0.1,
             "#c51b7d"
            ],
            [
             0.2,
             "#de77ae"
            ],
            [
             0.3,
             "#f1b6da"
            ],
            [
             0.4,
             "#fde0ef"
            ],
            [
             0.5,
             "#f7f7f7"
            ],
            [
             0.6,
             "#e6f5d0"
            ],
            [
             0.7,
             "#b8e186"
            ],
            [
             0.8,
             "#7fbc41"
            ],
            [
             0.9,
             "#4d9221"
            ],
            [
             1,
             "#276419"
            ]
           ],
           "sequential": [
            [
             0,
             "#0d0887"
            ],
            [
             0.1111111111111111,
             "#46039f"
            ],
            [
             0.2222222222222222,
             "#7201a8"
            ],
            [
             0.3333333333333333,
             "#9c179e"
            ],
            [
             0.4444444444444444,
             "#bd3786"
            ],
            [
             0.5555555555555556,
             "#d8576b"
            ],
            [
             0.6666666666666666,
             "#ed7953"
            ],
            [
             0.7777777777777778,
             "#fb9f3a"
            ],
            [
             0.8888888888888888,
             "#fdca26"
            ],
            [
             1,
             "#f0f921"
            ]
           ],
           "sequentialminus": [
            [
             0,
             "#0d0887"
            ],
            [
             0.1111111111111111,
             "#46039f"
            ],
            [
             0.2222222222222222,
             "#7201a8"
            ],
            [
             0.3333333333333333,
             "#9c179e"
            ],
            [
             0.4444444444444444,
             "#bd3786"
            ],
            [
             0.5555555555555556,
             "#d8576b"
            ],
            [
             0.6666666666666666,
             "#ed7953"
            ],
            [
             0.7777777777777778,
             "#fb9f3a"
            ],
            [
             0.8888888888888888,
             "#fdca26"
            ],
            [
             1,
             "#f0f921"
            ]
           ]
          },
          "colorway": [
           "#636efa",
           "#EF553B",
           "#00cc96",
           "#ab63fa",
           "#FFA15A",
           "#19d3f3",
           "#FF6692",
           "#B6E880",
           "#FF97FF",
           "#FECB52"
          ],
          "font": {
           "color": "#2a3f5f"
          },
          "geo": {
           "bgcolor": "white",
           "lakecolor": "white",
           "landcolor": "#E5ECF6",
           "showlakes": true,
           "showland": true,
           "subunitcolor": "white"
          },
          "hoverlabel": {
           "align": "left"
          },
          "hovermode": "closest",
          "mapbox": {
           "style": "light"
          },
          "paper_bgcolor": "white",
          "plot_bgcolor": "#E5ECF6",
          "polar": {
           "angularaxis": {
            "gridcolor": "white",
            "linecolor": "white",
            "ticks": ""
           },
           "bgcolor": "#E5ECF6",
           "radialaxis": {
            "gridcolor": "white",
            "linecolor": "white",
            "ticks": ""
           }
          },
          "scene": {
           "xaxis": {
            "backgroundcolor": "#E5ECF6",
            "gridcolor": "white",
            "gridwidth": 2,
            "linecolor": "white",
            "showbackground": true,
            "ticks": "",
            "zerolinecolor": "white"
           },
           "yaxis": {
            "backgroundcolor": "#E5ECF6",
            "gridcolor": "white",
            "gridwidth": 2,
            "linecolor": "white",
            "showbackground": true,
            "ticks": "",
            "zerolinecolor": "white"
           },
           "zaxis": {
            "backgroundcolor": "#E5ECF6",
            "gridcolor": "white",
            "gridwidth": 2,
            "linecolor": "white",
            "showbackground": true,
            "ticks": "",
            "zerolinecolor": "white"
           }
          },
          "shapedefaults": {
           "line": {
            "color": "#2a3f5f"
           }
          },
          "ternary": {
           "aaxis": {
            "gridcolor": "white",
            "linecolor": "white",
            "ticks": ""
           },
           "baxis": {
            "gridcolor": "white",
            "linecolor": "white",
            "ticks": ""
           },
           "bgcolor": "#E5ECF6",
           "caxis": {
            "gridcolor": "white",
            "linecolor": "white",
            "ticks": ""
           }
          },
          "title": {
           "x": 0.05
          },
          "xaxis": {
           "automargin": true,
           "gridcolor": "white",
           "linecolor": "white",
           "ticks": "",
           "title": {
            "standoff": 15
           },
           "zerolinecolor": "white",
           "zerolinewidth": 2
          },
          "yaxis": {
           "automargin": true,
           "gridcolor": "white",
           "linecolor": "white",
           "ticks": "",
           "title": {
            "standoff": 15
           },
           "zerolinecolor": "white",
           "zerolinewidth": 2
          }
         }
        },
        "title": {
         "text": "Bitcoin price vs Sentiment"
        },
        "xaxis": {
         "anchor": "y",
         "domain": [
          0,
          1
         ],
         "title": {
          "text": "Sentiment"
         }
        },
        "yaxis": {
         "anchor": "x",
         "domain": [
          0,
          1
         ],
         "title": {
          "text": "Bitcoin price"
         }
        }
       }
      }
     },
     "metadata": {},
     "output_type": "display_data"
    }
   ],
   "source": [
    "fig = px.scatter(sentiments, x='compound_norm', y='bitcoin_norm', title='Bitcoin price vs Sentiment', labels={'compound_norm': 'Sentiment', 'bitcoin_norm': 'Bitcoin price'})\n",
    "fig.show()\n",
    "# fig.update_traces(marker=dict(size=3))"
   ]
  },
  {
   "cell_type": "code",
   "execution_count": 9,
   "metadata": {},
   "outputs": [
    {
     "data": {
      "application/vnd.plotly.v1+json": {
       "config": {
        "plotlyServerURL": "https://plot.ly"
       },
       "data": [
        {
         "hovertemplate": "variable=bitcoin_norm<br>date=%{x}<br>value=%{y}<extra></extra>",
         "legendgroup": "bitcoin_norm",
         "marker": {
          "color": "#636efa",
          "symbol": "circle"
         },
         "mode": "lines",
         "name": "bitcoin_norm",
         "orientation": "v",
         "showlegend": true,
         "type": "scatter",
         "x": [
          "2024-12-04T14:10:00",
          "2024-12-04T15:20:00",
          "2024-12-04T16:10:00",
          "2024-12-04T16:30:00",
          "2024-12-04T17:20:00",
          "2024-12-04T17:40:00",
          "2024-12-04T17:50:00",
          "2024-12-05T00:30:00",
          "2024-12-05T00:40:00",
          "2024-12-05T01:30:00",
          "2024-12-05T02:30:00",
          "2024-12-05T03:50:00",
          "2024-12-05T04:00:00",
          "2024-12-05T04:40:00",
          "2024-12-05T04:50:00",
          "2024-12-05T05:10:00",
          "2024-12-05T05:20:00",
          "2024-12-05T05:40:00",
          "2024-12-05T05:50:00",
          "2024-12-05T06:10:00",
          "2024-12-05T06:20:00",
          "2024-12-05T07:20:00",
          "2024-12-05T09:10:00",
          "2024-12-05T09:20:00",
          "2024-12-05T10:20:00",
          "2024-12-05T10:30:00",
          "2024-12-05T11:10:00",
          "2024-12-05T11:30:00",
          "2024-12-05T11:40:00",
          "2024-12-05T12:40:00",
          "2024-12-05T12:50:00",
          "2024-12-05T14:10:00",
          "2024-12-05T14:20:00",
          "2024-12-05T15:20:00",
          "2024-12-05T15:30:00",
          "2024-12-05T15:40:00",
          "2024-12-05T15:50:00",
          "2024-12-05T16:30:00",
          "2024-12-05T16:50:00",
          "2024-12-05T17:00:00",
          "2024-12-05T17:40:00",
          "2024-12-05T17:50:00",
          "2024-12-05T18:50:00",
          "2024-12-05T19:20:00",
          "2024-12-05T19:30:00",
          "2024-12-05T20:30:00",
          "2024-12-05T20:40:00",
          "2024-12-05T21:30:00",
          "2024-12-05T22:30:00",
          "2024-12-05T22:40:00",
          "2024-12-05T23:50:00",
          "2024-12-06T00:00:00",
          "2024-12-06T00:20:00",
          "2024-12-06T00:30:00",
          "2024-12-06T01:20:00",
          "2024-12-06T01:50:00",
          "2024-12-06T02:00:00",
          "2024-12-06T02:20:00",
          "2024-12-06T02:50:00",
          "2024-12-06T03:20:00",
          "2024-12-06T04:10:00",
          "2024-12-06T04:30:00",
          "2024-12-06T04:40:00",
          "2024-12-06T06:50:00",
          "2024-12-06T07:10:00",
          "2024-12-06T07:20:00",
          "2024-12-06T09:30:00",
          "2024-12-06T09:50:00",
          "2024-12-06T10:40:00",
          "2024-12-06T11:30:00",
          "2024-12-06T11:50:00",
          "2024-12-06T14:10:00",
          "2024-12-06T14:20:00",
          "2024-12-06T14:30:00",
          "2024-12-06T15:20:00",
          "2024-12-06T15:40:00",
          "2024-12-06T15:50:00",
          "2024-12-06T16:50:00",
          "2024-12-06T17:00:00",
          "2024-12-06T20:20:00",
          "2024-12-06T20:40:00",
          "2024-12-06T20:50:00",
          "2024-12-07T00:10:00",
          "2024-12-07T01:40:00",
          "2024-12-07T02:50:00",
          "2024-12-07T03:40:00",
          "2024-12-07T05:10:00",
          "2024-12-07T05:30:00",
          "2024-12-07T05:40:00",
          "2024-12-07T06:40:00",
          "2024-12-07T09:20:00",
          "2024-12-07T09:50:00",
          "2024-12-07T10:10:00",
          "2024-12-07T10:30:00",
          "2024-12-07T10:40:00",
          "2024-12-07T11:20:00",
          "2024-12-07T11:40:00",
          "2024-12-07T13:10:00",
          "2024-12-07T13:20:00",
          "2024-12-07T14:20:00",
          "2024-12-07T14:30:00",
          "2024-12-07T15:30:00",
          "2024-12-07T15:40:00",
          "2024-12-07T16:40:00",
          "2024-12-07T16:50:00",
          "2024-12-07T17:50:00",
          "2024-12-07T18:00:00",
          "2024-12-07T20:30:00",
          "2024-12-07T23:10:00",
          "2024-12-08T00:20:00",
          "2024-12-08T00:30:00",
          "2024-12-08T01:10:00",
          "2024-12-08T02:20:00",
          "2024-12-08T02:30:00",
          "2024-12-08T03:30:00",
          "2024-12-08T04:40:00",
          "2024-12-08T05:50:00",
          "2024-12-08T06:10:00",
          "2024-12-08T09:20:00",
          "2024-12-08T09:40:00",
          "2024-12-08T09:50:00",
          "2024-12-08T10:50:00",
          "2024-12-08T11:10:00",
          "2024-12-08T11:20:00",
          "2024-12-08T12:40:00",
          "2024-12-08T12:50:00",
          "2024-12-08T13:30:00",
          "2024-12-08T13:40:00",
          "2024-12-08T14:40:00",
          "2024-12-08T15:20:00",
          "2024-12-08T16:30:00",
          "2024-12-08T16:40:00",
          "2024-12-08T18:50:00",
          "2024-12-08T19:00:00",
          "2024-12-08T21:10:00",
          "2024-12-08T21:20:00",
          "2024-12-08T23:50:00",
          "2024-12-09T00:00:00",
          "2024-12-09T01:20:00",
          "2024-12-09T01:30:00",
          "2024-12-09T02:30:00",
          "2024-12-09T02:50:00",
          "2024-12-09T04:20:00",
          "2024-12-09T05:30:00",
          "2024-12-09T05:50:00",
          "2024-12-09T06:40:00",
          "2024-12-09T09:40:00",
          "2024-12-09T10:50:00",
          "2024-12-09T12:20:00",
          "2024-12-09T13:30:00",
          "2024-12-09T13:40:00",
          "2024-12-09T13:50:00",
          "2024-12-09T16:10:00",
          "2024-12-09T16:20:00",
          "2024-12-09T17:20:00",
          "2024-12-09T17:30:00",
          "2024-12-09T19:20:00",
          "2024-12-09T19:30:00",
          "2024-12-09T20:10:00",
          "2024-12-09T20:20:00",
          "2024-12-09T20:40:00",
          "2024-12-09T20:50:00",
          "2024-12-09T21:10:00",
          "2024-12-09T21:40:00",
          "2024-12-09T21:50:00",
          "2024-12-09T22:30:00",
          "2024-12-09T23:50:00",
          "2024-12-10T00:10:00",
          "2024-12-10T02:20:00",
          "2024-12-10T02:30:00",
          "2024-12-10T03:10:00",
          "2024-12-10T03:20:00",
          "2024-12-10T03:40:00",
          "2024-12-10T03:50:00",
          "2024-12-10T04:10:00",
          "2024-12-10T04:40:00",
          "2024-12-10T04:50:00",
          "2024-12-10T05:50:00",
          "2024-12-10T06:10:00",
          "2024-12-10T06:40:00",
          "2024-12-10T07:10:00",
          "2024-12-10T07:40:00",
          "2024-12-10T07:50:00",
          "2024-12-10T09:10:00",
          "2024-12-10T09:20:00",
          "2024-12-10T09:40:00",
          "2024-12-10T09:50:00",
          "2024-12-10T10:10:00",
          "2024-12-10T11:30:00",
          "2024-12-10T12:30:00",
          "2024-12-10T12:40:00",
          "2024-12-10T13:30:00",
          "2024-12-10T13:40:00",
          "2024-12-10T14:20:00",
          "2024-12-10T14:30:00",
          "2024-12-10T14:50:00",
          "2024-12-10T15:20:00",
          "2024-12-10T15:30:00",
          "2024-12-10T15:50:00",
          "2024-12-10T16:00:00",
          "2024-12-10T16:50:00",
          "2024-12-10T17:00:00",
          "2024-12-10T17:20:00",
          "2024-12-10T17:30:00",
          "2024-12-10T17:50:00",
          "2024-12-10T18:00:00",
          "2024-12-10T18:20:00",
          "2024-12-10T18:30:00",
          "2024-12-10T18:50:00",
          "2024-12-10T19:00:00",
          "2024-12-10T19:20:00",
          "2024-12-10T19:30:00",
          "2024-12-10T19:50:00",
          "2024-12-10T20:00:00",
          "2024-12-10T20:40:00",
          "2024-12-10T21:10:00",
          "2024-12-10T21:20:00",
          "2024-12-10T21:40:00",
          "2024-12-10T21:50:00",
          "2024-12-10T22:10:00",
          "2024-12-10T22:40:00",
          "2024-12-10T23:10:00",
          "2024-12-10T23:40:00",
          "2024-12-11T01:10:00",
          "2024-12-11T01:30:00",
          "2024-12-11T01:40:00",
          "2024-12-11T02:20:00",
          "2024-12-11T02:30:00",
          "2024-12-11T02:50:00",
          "2024-12-11T03:20:00",
          "2024-12-11T03:30:00",
          "2024-12-11T03:50:00",
          "2024-12-11T04:00:00",
          "2024-12-11T04:20:00",
          "2024-12-11T04:30:00",
          "2024-12-11T04:50:00",
          "2024-12-11T05:00:00",
          "2024-12-11T05:20:00",
          "2024-12-11T05:50:00",
          "2024-12-11T06:20:00",
          "2024-12-11T06:50:00",
          "2024-12-11T07:40:00",
          "2024-12-11T08:10:00",
          "2024-12-11T09:10:00",
          "2024-12-11T09:40:00",
          "2024-12-11T09:50:00",
          "2024-12-11T10:10:00",
          "2024-12-11T10:40:00",
          "2024-12-11T10:50:00",
          "2024-12-11T11:10:00",
          "2024-12-11T11:20:00",
          "2024-12-11T11:40:00",
          "2024-12-11T12:10:00",
          "2024-12-11T12:20:00"
         ],
         "xaxis": "x",
         "y": [
          0.12411111111111112,
          0.14455555555555555,
          0.11033333333333334,
          0.059666666666666666,
          0.04611111111111111,
          0.07977777777777778,
          0.06544444444444444,
          0.48544444444444446,
          0.448,
          0.43722222222222223,
          0.45844444444444443,
          0.9546666666666667,
          0.9856666666666667,
          0.8977777777777778,
          0.9308888888888889,
          0.9835555555555555,
          0.9634444444444444,
          0.9568888888888889,
          0.8386666666666667,
          0.8837777777777778,
          0.8218888888888889,
          0.755,
          0.9026666666666666,
          0.9522222222222222,
          0.9154444444444444,
          0.9056666666666666,
          0.8717777777777778,
          0.8731111111111111,
          0.8884444444444445,
          0.9292222222222222,
          0.9245555555555556,
          0.9146666666666666,
          0.9145555555555556,
          0.9817777777777777,
          0.8811111111111111,
          0.8192222222222222,
          0.8052222222222222,
          0.829,
          0.7817777777777778,
          0.7627777777777778,
          0.7165555555555555,
          0.7204444444444444,
          0.6908888888888889,
          0.6795555555555556,
          0.7067777777777777,
          0.437,
          0.4776666666666667,
          0.5296666666666666,
          0.417,
          0.0971111111111111,
          0.23622222222222222,
          0.29488888888888887,
          0.2833333333333333,
          0.2952222222222222,
          0.3188888888888889,
          0.44855555555555554,
          0.4702222222222222,
          0.37777777777777777,
          0.3632222222222222,
          0.32966666666666666,
          0.35588888888888887,
          0.33211111111111113,
          0.3728888888888889,
          0.38255555555555554,
          0.38966666666666666,
          0.37155555555555553,
          0.4176666666666667,
          0.418,
          0.388,
          0.4037777777777778,
          0.3808888888888889,
          0.43233333333333335,
          0.46166666666666667,
          0.49044444444444446,
          0.48377777777777775,
          0.49666666666666665,
          0.48055555555555557,
          0.4881111111111111,
          0.491,
          0.808,
          0.8256666666666667,
          0.7861111111111111,
          0.614,
          0.6357777777777778,
          0.6167777777777778,
          0.5658888888888889,
          0.5471111111111111,
          0.5641111111111111,
          0.5321111111111111,
          0.5433333333333333,
          0.574,
          0.5657777777777778,
          0.5794444444444444,
          0.5593333333333333,
          0.5511111111111111,
          0.557,
          0.5671111111111111,
          0.5482222222222223,
          0.5455555555555556,
          0.5168888888888888,
          0.5282222222222223,
          0.5578888888888889,
          0.5586666666666666,
          0.5632222222222222,
          0.5726666666666667,
          0.5686666666666667,
          0.5676666666666667,
          0.6361111111111111,
          0.5952222222222222,
          0.5776666666666667,
          0.5942222222222222,
          0.6227777777777778,
          0.6073333333333333,
          0.6338888888888888,
          0.6121111111111112,
          0.5813333333333334,
          0.5441111111111111,
          0.5448888888888889,
          0.5252222222222223,
          0.5245555555555556,
          0.5018888888888889,
          0.5305555555555556,
          0.5171111111111111,
          0.5314444444444445,
          0.5698888888888889,
          0.5941111111111111,
          0.6276666666666667,
          0.6218888888888889,
          0.6177777777777778,
          0.5601111111111111,
          0.5816666666666667,
          0.5907777777777777,
          0.5804444444444444,
          0.5786666666666667,
          0.5792222222222222,
          0.5843333333333334,
          0.6815555555555556,
          0.7524444444444445,
          0.5551111111111111,
          0.5724444444444444,
          0.525,
          0.5053333333333333,
          0.5252222222222223,
          0.5488888888888889,
          0.556,
          0.5037777777777778,
          0.42944444444444446,
          0.42233333333333334,
          0.41533333333333333,
          0.49333333333333335,
          0.5,
          0.49944444444444447,
          0.35988888888888887,
          0.39055555555555554,
          0.3672222222222222,
          0.3576666666666667,
          0.324,
          0.33055555555555555,
          0.26811111111111113,
          0.26266666666666666,
          0.23244444444444445,
          0.21122222222222223,
          0.197,
          0.30577777777777776,
          0.2408888888888889,
          0.28044444444444444,
          0.30977777777777776,
          0.2777777777777778,
          0.3675555555555556,
          0.31677777777777777,
          0.1981111111111111,
          0.17733333333333334,
          0.18433333333333332,
          0.263,
          0.21622222222222223,
          0.2638888888888889,
          0.25522222222222224,
          0.2568888888888889,
          0.2806666666666667,
          0.29744444444444446,
          0.29433333333333334,
          0.26211111111111113,
          0.29655555555555557,
          0.3343333333333333,
          0.3357777777777778,
          0.3312222222222222,
          0.30144444444444446,
          0.3451111111111111,
          0.3532222222222222,
          0.3041111111111111,
          0.28833333333333333,
          0.3273333333333333,
          0.34044444444444444,
          0.37866666666666665,
          0.3841111111111111,
          0.4092222222222222,
          0.33944444444444444,
          0.26266666666666666,
          0.17744444444444443,
          0.13266666666666665,
          0.023666666666666666,
          0.2131111111111111,
          0.025,
          0.009333333333333334,
          0.08588888888888889,
          0.00044444444444444447,
          0.06344444444444444,
          0.059444444444444446,
          0.10633333333333334,
          0.05388888888888889,
          0.11822222222222223,
          0.15955555555555556,
          0.11155555555555556,
          0.15333333333333332,
          0.1978888888888889,
          0.24644444444444444,
          0.22444444444444445,
          0.2683333333333333,
          0.2597777777777778,
          0.2693333333333333,
          0.26055555555555554,
          0.2776666666666667,
          0.26122222222222224,
          0.19077777777777777,
          0.161,
          0.2222222222222222,
          0.1771111111111111,
          0.18955555555555556,
          0.31555555555555553,
          0.3224444444444444,
          0.31344444444444447,
          0.31422222222222224,
          0.31422222222222224,
          0.30966666666666665,
          0.3015555555555556,
          0.30622222222222223,
          0.3318888888888889,
          0.31433333333333335,
          0.32355555555555554,
          0.33766666666666667,
          0.3397777777777778,
          0.32,
          0.34644444444444444,
          0.37866666666666665,
          0.3658888888888889,
          0.37477777777777777,
          0.3932222222222222,
          0.3791111111111111,
          0.3854444444444444,
          0.4112222222222222,
          0.429,
          0.41955555555555557,
          0.4246666666666667,
          0.43344444444444447
         ],
         "yaxis": "y"
        },
        {
         "hovertemplate": "variable=compound_norm<br>date=%{x}<br>value=%{y}<extra></extra>",
         "legendgroup": "compound_norm",
         "marker": {
          "color": "#EF553B",
          "symbol": "circle"
         },
         "mode": "lines",
         "name": "compound_norm",
         "orientation": "v",
         "showlegend": true,
         "type": "scatter",
         "x": [
          "2024-12-04T14:10:00",
          "2024-12-04T15:20:00",
          "2024-12-04T16:10:00",
          "2024-12-04T16:30:00",
          "2024-12-04T17:20:00",
          "2024-12-04T17:40:00",
          "2024-12-04T17:50:00",
          "2024-12-05T00:30:00",
          "2024-12-05T00:40:00",
          "2024-12-05T01:30:00",
          "2024-12-05T02:30:00",
          "2024-12-05T03:50:00",
          "2024-12-05T04:00:00",
          "2024-12-05T04:40:00",
          "2024-12-05T04:50:00",
          "2024-12-05T05:10:00",
          "2024-12-05T05:20:00",
          "2024-12-05T05:40:00",
          "2024-12-05T05:50:00",
          "2024-12-05T06:10:00",
          "2024-12-05T06:20:00",
          "2024-12-05T07:20:00",
          "2024-12-05T09:10:00",
          "2024-12-05T09:20:00",
          "2024-12-05T10:20:00",
          "2024-12-05T10:30:00",
          "2024-12-05T11:10:00",
          "2024-12-05T11:30:00",
          "2024-12-05T11:40:00",
          "2024-12-05T12:40:00",
          "2024-12-05T12:50:00",
          "2024-12-05T14:10:00",
          "2024-12-05T14:20:00",
          "2024-12-05T15:20:00",
          "2024-12-05T15:30:00",
          "2024-12-05T15:40:00",
          "2024-12-05T15:50:00",
          "2024-12-05T16:30:00",
          "2024-12-05T16:50:00",
          "2024-12-05T17:00:00",
          "2024-12-05T17:40:00",
          "2024-12-05T17:50:00",
          "2024-12-05T18:50:00",
          "2024-12-05T19:20:00",
          "2024-12-05T19:30:00",
          "2024-12-05T20:30:00",
          "2024-12-05T20:40:00",
          "2024-12-05T21:30:00",
          "2024-12-05T22:30:00",
          "2024-12-05T22:40:00",
          "2024-12-05T23:50:00",
          "2024-12-06T00:00:00",
          "2024-12-06T00:20:00",
          "2024-12-06T00:30:00",
          "2024-12-06T01:20:00",
          "2024-12-06T01:50:00",
          "2024-12-06T02:00:00",
          "2024-12-06T02:20:00",
          "2024-12-06T02:50:00",
          "2024-12-06T03:20:00",
          "2024-12-06T04:10:00",
          "2024-12-06T04:30:00",
          "2024-12-06T04:40:00",
          "2024-12-06T06:50:00",
          "2024-12-06T07:10:00",
          "2024-12-06T07:20:00",
          "2024-12-06T09:30:00",
          "2024-12-06T09:50:00",
          "2024-12-06T10:40:00",
          "2024-12-06T11:30:00",
          "2024-12-06T11:50:00",
          "2024-12-06T14:10:00",
          "2024-12-06T14:20:00",
          "2024-12-06T14:30:00",
          "2024-12-06T15:20:00",
          "2024-12-06T15:40:00",
          "2024-12-06T15:50:00",
          "2024-12-06T16:50:00",
          "2024-12-06T17:00:00",
          "2024-12-06T20:20:00",
          "2024-12-06T20:40:00",
          "2024-12-06T20:50:00",
          "2024-12-07T00:10:00",
          "2024-12-07T01:40:00",
          "2024-12-07T02:50:00",
          "2024-12-07T03:40:00",
          "2024-12-07T05:10:00",
          "2024-12-07T05:30:00",
          "2024-12-07T05:40:00",
          "2024-12-07T06:40:00",
          "2024-12-07T09:20:00",
          "2024-12-07T09:50:00",
          "2024-12-07T10:10:00",
          "2024-12-07T10:30:00",
          "2024-12-07T10:40:00",
          "2024-12-07T11:20:00",
          "2024-12-07T11:40:00",
          "2024-12-07T13:10:00",
          "2024-12-07T13:20:00",
          "2024-12-07T14:20:00",
          "2024-12-07T14:30:00",
          "2024-12-07T15:30:00",
          "2024-12-07T15:40:00",
          "2024-12-07T16:40:00",
          "2024-12-07T16:50:00",
          "2024-12-07T17:50:00",
          "2024-12-07T18:00:00",
          "2024-12-07T20:30:00",
          "2024-12-07T23:10:00",
          "2024-12-08T00:20:00",
          "2024-12-08T00:30:00",
          "2024-12-08T01:10:00",
          "2024-12-08T02:20:00",
          "2024-12-08T02:30:00",
          "2024-12-08T03:30:00",
          "2024-12-08T04:40:00",
          "2024-12-08T05:50:00",
          "2024-12-08T06:10:00",
          "2024-12-08T09:20:00",
          "2024-12-08T09:40:00",
          "2024-12-08T09:50:00",
          "2024-12-08T10:50:00",
          "2024-12-08T11:10:00",
          "2024-12-08T11:20:00",
          "2024-12-08T12:40:00",
          "2024-12-08T12:50:00",
          "2024-12-08T13:30:00",
          "2024-12-08T13:40:00",
          "2024-12-08T14:40:00",
          "2024-12-08T15:20:00",
          "2024-12-08T16:30:00",
          "2024-12-08T16:40:00",
          "2024-12-08T18:50:00",
          "2024-12-08T19:00:00",
          "2024-12-08T21:10:00",
          "2024-12-08T21:20:00",
          "2024-12-08T23:50:00",
          "2024-12-09T00:00:00",
          "2024-12-09T01:20:00",
          "2024-12-09T01:30:00",
          "2024-12-09T02:30:00",
          "2024-12-09T02:50:00",
          "2024-12-09T04:20:00",
          "2024-12-09T05:30:00",
          "2024-12-09T05:50:00",
          "2024-12-09T06:40:00",
          "2024-12-09T09:40:00",
          "2024-12-09T10:50:00",
          "2024-12-09T12:20:00",
          "2024-12-09T13:30:00",
          "2024-12-09T13:40:00",
          "2024-12-09T13:50:00",
          "2024-12-09T16:10:00",
          "2024-12-09T16:20:00",
          "2024-12-09T17:20:00",
          "2024-12-09T17:30:00",
          "2024-12-09T19:20:00",
          "2024-12-09T19:30:00",
          "2024-12-09T20:10:00",
          "2024-12-09T20:20:00",
          "2024-12-09T20:40:00",
          "2024-12-09T20:50:00",
          "2024-12-09T21:10:00",
          "2024-12-09T21:40:00",
          "2024-12-09T21:50:00",
          "2024-12-09T22:30:00",
          "2024-12-09T23:50:00",
          "2024-12-10T00:10:00",
          "2024-12-10T02:20:00",
          "2024-12-10T02:30:00",
          "2024-12-10T03:10:00",
          "2024-12-10T03:20:00",
          "2024-12-10T03:40:00",
          "2024-12-10T03:50:00",
          "2024-12-10T04:10:00",
          "2024-12-10T04:40:00",
          "2024-12-10T04:50:00",
          "2024-12-10T05:50:00",
          "2024-12-10T06:10:00",
          "2024-12-10T06:40:00",
          "2024-12-10T07:10:00",
          "2024-12-10T07:40:00",
          "2024-12-10T07:50:00",
          "2024-12-10T09:10:00",
          "2024-12-10T09:20:00",
          "2024-12-10T09:40:00",
          "2024-12-10T09:50:00",
          "2024-12-10T10:10:00",
          "2024-12-10T11:30:00",
          "2024-12-10T12:30:00",
          "2024-12-10T12:40:00",
          "2024-12-10T13:30:00",
          "2024-12-10T13:40:00",
          "2024-12-10T14:20:00",
          "2024-12-10T14:30:00",
          "2024-12-10T14:50:00",
          "2024-12-10T15:20:00",
          "2024-12-10T15:30:00",
          "2024-12-10T15:50:00",
          "2024-12-10T16:00:00",
          "2024-12-10T16:50:00",
          "2024-12-10T17:00:00",
          "2024-12-10T17:20:00",
          "2024-12-10T17:30:00",
          "2024-12-10T17:50:00",
          "2024-12-10T18:00:00",
          "2024-12-10T18:20:00",
          "2024-12-10T18:30:00",
          "2024-12-10T18:50:00",
          "2024-12-10T19:00:00",
          "2024-12-10T19:20:00",
          "2024-12-10T19:30:00",
          "2024-12-10T19:50:00",
          "2024-12-10T20:00:00",
          "2024-12-10T20:40:00",
          "2024-12-10T21:10:00",
          "2024-12-10T21:20:00",
          "2024-12-10T21:40:00",
          "2024-12-10T21:50:00",
          "2024-12-10T22:10:00",
          "2024-12-10T22:40:00",
          "2024-12-10T23:10:00",
          "2024-12-10T23:40:00",
          "2024-12-11T01:10:00",
          "2024-12-11T01:30:00",
          "2024-12-11T01:40:00",
          "2024-12-11T02:20:00",
          "2024-12-11T02:30:00",
          "2024-12-11T02:50:00",
          "2024-12-11T03:20:00",
          "2024-12-11T03:30:00",
          "2024-12-11T03:50:00",
          "2024-12-11T04:00:00",
          "2024-12-11T04:20:00",
          "2024-12-11T04:30:00",
          "2024-12-11T04:50:00",
          "2024-12-11T05:00:00",
          "2024-12-11T05:20:00",
          "2024-12-11T05:50:00",
          "2024-12-11T06:20:00",
          "2024-12-11T06:50:00",
          "2024-12-11T07:40:00",
          "2024-12-11T08:10:00",
          "2024-12-11T09:10:00",
          "2024-12-11T09:40:00",
          "2024-12-11T09:50:00",
          "2024-12-11T10:10:00",
          "2024-12-11T10:40:00",
          "2024-12-11T10:50:00",
          "2024-12-11T11:10:00",
          "2024-12-11T11:20:00",
          "2024-12-11T11:40:00",
          "2024-12-11T12:10:00",
          "2024-12-11T12:20:00"
         ],
         "xaxis": "x",
         "y": [
          0.6614277777777778,
          0.56608,
          0.76595,
          0.56608,
          0.6673,
          0.50186875,
          0.5611333333333334,
          0.9804999999999999,
          0.05149999999999999,
          0.6634166666666667,
          0.6806,
          0.6647416666666667,
          0.5893416666666667,
          0.61283625,
          0.5720583333333333,
          0.5908765957446809,
          0.57025,
          0.6021418918918919,
          0.5,
          0.6802146341463414,
          0.62644,
          0.5476416666666667,
          0.6440851851851852,
          0.26492499999999997,
          0.5032603448275862,
          0.4097,
          0.7788999999999999,
          0.5619,
          0.5,
          0.6542,
          0.5464875,
          0.7256666666666667,
          0.5,
          0.5931275862068965,
          0.6423136363636364,
          0.7012973684210526,
          0.5908,
          0.6905384615384615,
          0.7152612903225807,
          0.59335,
          0.5717153846153846,
          0.8121833333333333,
          0.6279769230769231,
          0.5766666666666667,
          0.53055,
          0.52498,
          0.49435,
          0.5531333333333334,
          0.6486562499999999,
          0.40759,
          0.6715139999999999,
          0.72675,
          0.5164944444444445,
          0.38455,
          0.6521363636363636,
          0.5662785714285714,
          0.5386,
          0.64449,
          0.6350133333333333,
          0.75766,
          0.5,
          0.6035791666666667,
          0.7539,
          0.5083666666666666,
          0.69685,
          0.79295,
          0.6622666666666667,
          0.7434166666666666,
          0.9995499999999999,
          0.9335,
          0.692775,
          0.4422,
          0.07164999999999999,
          0.5911444444444445,
          0.7851772727272728,
          0.7254916666666666,
          0.24524999999999997,
          0.45028999999999997,
          0.3853,
          0.62765,
          0.64903,
          0.6909,
          0.86425,
          0.67378,
          0.5354625,
          0.69345,
          0.8075333333333333,
          0.5264866666666667,
          0.51935,
          0.61495,
          0.5121666666666667,
          0.7969999999999999,
          0.72985,
          0.5340333333333334,
          0.8569,
          0.6999,
          0.4892142857142857,
          0.39077142857142855,
          0.46595,
          0.6012062499999999,
          0.50595,
          0.468525,
          0.28995000000000004,
          0.4897722222222222,
          0.5,
          0.5387714285714286,
          0.4487,
          0.6642722222222223,
          0.736675,
          0.5789291666666667,
          0.53585,
          0.57983,
          0.55753,
          0.23225,
          0.8405833333333332,
          0.7184900000000001,
          0.692925,
          0.6348833333333334,
          0.5898857142857142,
          0.5,
          0.5,
          0.63935,
          0.74595,
          0.30979999999999996,
          0.56153125,
          0.8825000000000001,
          0.68860625,
          0.394625,
          0.46213333333333334,
          0.5253583333333334,
          0.5084785714285714,
          0.5,
          0.3900423076923077,
          0.52837,
          0.91525,
          0.5,
          0.3486,
          0.70095,
          0.587025,
          0.545925,
          0.58895,
          0.6086166666666667,
          0.34191666666666665,
          0.7066399999999999,
          0.28215,
          0.607675,
          0.9375,
          0.9981,
          0.5619636363636363,
          0.6800333333333334,
          0.5921,
          0.7916571428571428,
          0.7484,
          0.5951,
          0.5767615384615384,
          0.6166285714285714,
          0.5452323529411764,
          0.35109999999999997,
          0.629065,
          0.387375,
          0.7255964285714286,
          0.9037,
          0.7082125,
          0.4691547619047619,
          0.5,
          0.6980227272727273,
          0.635575,
          0.5,
          0.6071,
          0.733725,
          0.5999444444444444,
          0.7271000000000001,
          0.5716227272727272,
          0.5719333333333333,
          0.42878461538461543,
          0.66300625,
          0.5,
          0.8825000000000001,
          0.639475,
          0.69361,
          0.66313,
          0.48905000000000004,
          0.426,
          0.53955,
          0.5,
          0.6187,
          0.88915,
          0.7637,
          0.5169333333333334,
          0.47534375,
          0.16952499999999998,
          0.5301,
          0.61315,
          0.5122454545454546,
          0.9169,
          0.82684,
          0.5955333333333334,
          0.6177272727272727,
          0.7713466666666666,
          0.81245,
          0.5600499999999999,
          0.453775,
          0.619621875,
          0.4436333333333333,
          0.57135,
          0.42693333333333333,
          0.5829166666666666,
          0.543675,
          0.6466000000000001,
          0.7070083333333333,
          0.583871875,
          0.1126833333333333,
          0.5854,
          0.395025,
          0.785725,
          0.6656117647058823,
          0.6030833333333333,
          0.5802363636363637,
          0.16475,
          0.5739285714285715,
          0.55135,
          0.8503227272727273,
          0.6908833333333333,
          0.9997,
          0.9757499999999999,
          0.5,
          0.738475,
          0.634,
          0.6486833333333333,
          0.6036833333333333,
          0.57655,
          0.6199461538461538,
          0.574,
          0.5919884615384615,
          0.36224999999999996,
          0.5453875,
          0.648,
          0.61574,
          0.3902333333333333,
          0.4724333333333333,
          0.75882,
          0.9080666666666666,
          0.5,
          0.6466666666666667,
          0.375,
          0.94235,
          0.80715,
          0.7479307692307692,
          0.5,
          0.7423045454545455,
          0.30910000000000004,
          0.5786333333333333,
          0.6294500000000001,
          0.5530333333333334
         ],
         "yaxis": "y"
        }
       ],
       "layout": {
        "legend": {
         "title": {
          "text": "variable"
         },
         "tracegroupgap": 0
        },
        "template": {
         "data": {
          "bar": [
           {
            "error_x": {
             "color": "#2a3f5f"
            },
            "error_y": {
             "color": "#2a3f5f"
            },
            "marker": {
             "line": {
              "color": "#E5ECF6",
              "width": 0.5
             },
             "pattern": {
              "fillmode": "overlay",
              "size": 10,
              "solidity": 0.2
             }
            },
            "type": "bar"
           }
          ],
          "barpolar": [
           {
            "marker": {
             "line": {
              "color": "#E5ECF6",
              "width": 0.5
             },
             "pattern": {
              "fillmode": "overlay",
              "size": 10,
              "solidity": 0.2
             }
            },
            "type": "barpolar"
           }
          ],
          "carpet": [
           {
            "aaxis": {
             "endlinecolor": "#2a3f5f",
             "gridcolor": "white",
             "linecolor": "white",
             "minorgridcolor": "white",
             "startlinecolor": "#2a3f5f"
            },
            "baxis": {
             "endlinecolor": "#2a3f5f",
             "gridcolor": "white",
             "linecolor": "white",
             "minorgridcolor": "white",
             "startlinecolor": "#2a3f5f"
            },
            "type": "carpet"
           }
          ],
          "choropleth": [
           {
            "colorbar": {
             "outlinewidth": 0,
             "ticks": ""
            },
            "type": "choropleth"
           }
          ],
          "contour": [
           {
            "colorbar": {
             "outlinewidth": 0,
             "ticks": ""
            },
            "colorscale": [
             [
              0,
              "#0d0887"
             ],
             [
              0.1111111111111111,
              "#46039f"
             ],
             [
              0.2222222222222222,
              "#7201a8"
             ],
             [
              0.3333333333333333,
              "#9c179e"
             ],
             [
              0.4444444444444444,
              "#bd3786"
             ],
             [
              0.5555555555555556,
              "#d8576b"
             ],
             [
              0.6666666666666666,
              "#ed7953"
             ],
             [
              0.7777777777777778,
              "#fb9f3a"
             ],
             [
              0.8888888888888888,
              "#fdca26"
             ],
             [
              1,
              "#f0f921"
             ]
            ],
            "type": "contour"
           }
          ],
          "contourcarpet": [
           {
            "colorbar": {
             "outlinewidth": 0,
             "ticks": ""
            },
            "type": "contourcarpet"
           }
          ],
          "heatmap": [
           {
            "colorbar": {
             "outlinewidth": 0,
             "ticks": ""
            },
            "colorscale": [
             [
              0,
              "#0d0887"
             ],
             [
              0.1111111111111111,
              "#46039f"
             ],
             [
              0.2222222222222222,
              "#7201a8"
             ],
             [
              0.3333333333333333,
              "#9c179e"
             ],
             [
              0.4444444444444444,
              "#bd3786"
             ],
             [
              0.5555555555555556,
              "#d8576b"
             ],
             [
              0.6666666666666666,
              "#ed7953"
             ],
             [
              0.7777777777777778,
              "#fb9f3a"
             ],
             [
              0.8888888888888888,
              "#fdca26"
             ],
             [
              1,
              "#f0f921"
             ]
            ],
            "type": "heatmap"
           }
          ],
          "heatmapgl": [
           {
            "colorbar": {
             "outlinewidth": 0,
             "ticks": ""
            },
            "colorscale": [
             [
              0,
              "#0d0887"
             ],
             [
              0.1111111111111111,
              "#46039f"
             ],
             [
              0.2222222222222222,
              "#7201a8"
             ],
             [
              0.3333333333333333,
              "#9c179e"
             ],
             [
              0.4444444444444444,
              "#bd3786"
             ],
             [
              0.5555555555555556,
              "#d8576b"
             ],
             [
              0.6666666666666666,
              "#ed7953"
             ],
             [
              0.7777777777777778,
              "#fb9f3a"
             ],
             [
              0.8888888888888888,
              "#fdca26"
             ],
             [
              1,
              "#f0f921"
             ]
            ],
            "type": "heatmapgl"
           }
          ],
          "histogram": [
           {
            "marker": {
             "pattern": {
              "fillmode": "overlay",
              "size": 10,
              "solidity": 0.2
             }
            },
            "type": "histogram"
           }
          ],
          "histogram2d": [
           {
            "colorbar": {
             "outlinewidth": 0,
             "ticks": ""
            },
            "colorscale": [
             [
              0,
              "#0d0887"
             ],
             [
              0.1111111111111111,
              "#46039f"
             ],
             [
              0.2222222222222222,
              "#7201a8"
             ],
             [
              0.3333333333333333,
              "#9c179e"
             ],
             [
              0.4444444444444444,
              "#bd3786"
             ],
             [
              0.5555555555555556,
              "#d8576b"
             ],
             [
              0.6666666666666666,
              "#ed7953"
             ],
             [
              0.7777777777777778,
              "#fb9f3a"
             ],
             [
              0.8888888888888888,
              "#fdca26"
             ],
             [
              1,
              "#f0f921"
             ]
            ],
            "type": "histogram2d"
           }
          ],
          "histogram2dcontour": [
           {
            "colorbar": {
             "outlinewidth": 0,
             "ticks": ""
            },
            "colorscale": [
             [
              0,
              "#0d0887"
             ],
             [
              0.1111111111111111,
              "#46039f"
             ],
             [
              0.2222222222222222,
              "#7201a8"
             ],
             [
              0.3333333333333333,
              "#9c179e"
             ],
             [
              0.4444444444444444,
              "#bd3786"
             ],
             [
              0.5555555555555556,
              "#d8576b"
             ],
             [
              0.6666666666666666,
              "#ed7953"
             ],
             [
              0.7777777777777778,
              "#fb9f3a"
             ],
             [
              0.8888888888888888,
              "#fdca26"
             ],
             [
              1,
              "#f0f921"
             ]
            ],
            "type": "histogram2dcontour"
           }
          ],
          "mesh3d": [
           {
            "colorbar": {
             "outlinewidth": 0,
             "ticks": ""
            },
            "type": "mesh3d"
           }
          ],
          "parcoords": [
           {
            "line": {
             "colorbar": {
              "outlinewidth": 0,
              "ticks": ""
             }
            },
            "type": "parcoords"
           }
          ],
          "pie": [
           {
            "automargin": true,
            "type": "pie"
           }
          ],
          "scatter": [
           {
            "fillpattern": {
             "fillmode": "overlay",
             "size": 10,
             "solidity": 0.2
            },
            "type": "scatter"
           }
          ],
          "scatter3d": [
           {
            "line": {
             "colorbar": {
              "outlinewidth": 0,
              "ticks": ""
             }
            },
            "marker": {
             "colorbar": {
              "outlinewidth": 0,
              "ticks": ""
             }
            },
            "type": "scatter3d"
           }
          ],
          "scattercarpet": [
           {
            "marker": {
             "colorbar": {
              "outlinewidth": 0,
              "ticks": ""
             }
            },
            "type": "scattercarpet"
           }
          ],
          "scattergeo": [
           {
            "marker": {
             "colorbar": {
              "outlinewidth": 0,
              "ticks": ""
             }
            },
            "type": "scattergeo"
           }
          ],
          "scattergl": [
           {
            "marker": {
             "colorbar": {
              "outlinewidth": 0,
              "ticks": ""
             }
            },
            "type": "scattergl"
           }
          ],
          "scattermapbox": [
           {
            "marker": {
             "colorbar": {
              "outlinewidth": 0,
              "ticks": ""
             }
            },
            "type": "scattermapbox"
           }
          ],
          "scatterpolar": [
           {
            "marker": {
             "colorbar": {
              "outlinewidth": 0,
              "ticks": ""
             }
            },
            "type": "scatterpolar"
           }
          ],
          "scatterpolargl": [
           {
            "marker": {
             "colorbar": {
              "outlinewidth": 0,
              "ticks": ""
             }
            },
            "type": "scatterpolargl"
           }
          ],
          "scatterternary": [
           {
            "marker": {
             "colorbar": {
              "outlinewidth": 0,
              "ticks": ""
             }
            },
            "type": "scatterternary"
           }
          ],
          "surface": [
           {
            "colorbar": {
             "outlinewidth": 0,
             "ticks": ""
            },
            "colorscale": [
             [
              0,
              "#0d0887"
             ],
             [
              0.1111111111111111,
              "#46039f"
             ],
             [
              0.2222222222222222,
              "#7201a8"
             ],
             [
              0.3333333333333333,
              "#9c179e"
             ],
             [
              0.4444444444444444,
              "#bd3786"
             ],
             [
              0.5555555555555556,
              "#d8576b"
             ],
             [
              0.6666666666666666,
              "#ed7953"
             ],
             [
              0.7777777777777778,
              "#fb9f3a"
             ],
             [
              0.8888888888888888,
              "#fdca26"
             ],
             [
              1,
              "#f0f921"
             ]
            ],
            "type": "surface"
           }
          ],
          "table": [
           {
            "cells": {
             "fill": {
              "color": "#EBF0F8"
             },
             "line": {
              "color": "white"
             }
            },
            "header": {
             "fill": {
              "color": "#C8D4E3"
             },
             "line": {
              "color": "white"
             }
            },
            "type": "table"
           }
          ]
         },
         "layout": {
          "annotationdefaults": {
           "arrowcolor": "#2a3f5f",
           "arrowhead": 0,
           "arrowwidth": 1
          },
          "autotypenumbers": "strict",
          "coloraxis": {
           "colorbar": {
            "outlinewidth": 0,
            "ticks": ""
           }
          },
          "colorscale": {
           "diverging": [
            [
             0,
             "#8e0152"
            ],
            [
             0.1,
             "#c51b7d"
            ],
            [
             0.2,
             "#de77ae"
            ],
            [
             0.3,
             "#f1b6da"
            ],
            [
             0.4,
             "#fde0ef"
            ],
            [
             0.5,
             "#f7f7f7"
            ],
            [
             0.6,
             "#e6f5d0"
            ],
            [
             0.7,
             "#b8e186"
            ],
            [
             0.8,
             "#7fbc41"
            ],
            [
             0.9,
             "#4d9221"
            ],
            [
             1,
             "#276419"
            ]
           ],
           "sequential": [
            [
             0,
             "#0d0887"
            ],
            [
             0.1111111111111111,
             "#46039f"
            ],
            [
             0.2222222222222222,
             "#7201a8"
            ],
            [
             0.3333333333333333,
             "#9c179e"
            ],
            [
             0.4444444444444444,
             "#bd3786"
            ],
            [
             0.5555555555555556,
             "#d8576b"
            ],
            [
             0.6666666666666666,
             "#ed7953"
            ],
            [
             0.7777777777777778,
             "#fb9f3a"
            ],
            [
             0.8888888888888888,
             "#fdca26"
            ],
            [
             1,
             "#f0f921"
            ]
           ],
           "sequentialminus": [
            [
             0,
             "#0d0887"
            ],
            [
             0.1111111111111111,
             "#46039f"
            ],
            [
             0.2222222222222222,
             "#7201a8"
            ],
            [
             0.3333333333333333,
             "#9c179e"
            ],
            [
             0.4444444444444444,
             "#bd3786"
            ],
            [
             0.5555555555555556,
             "#d8576b"
            ],
            [
             0.6666666666666666,
             "#ed7953"
            ],
            [
             0.7777777777777778,
             "#fb9f3a"
            ],
            [
             0.8888888888888888,
             "#fdca26"
            ],
            [
             1,
             "#f0f921"
            ]
           ]
          },
          "colorway": [
           "#636efa",
           "#EF553B",
           "#00cc96",
           "#ab63fa",
           "#FFA15A",
           "#19d3f3",
           "#FF6692",
           "#B6E880",
           "#FF97FF",
           "#FECB52"
          ],
          "font": {
           "color": "#2a3f5f"
          },
          "geo": {
           "bgcolor": "white",
           "lakecolor": "white",
           "landcolor": "#E5ECF6",
           "showlakes": true,
           "showland": true,
           "subunitcolor": "white"
          },
          "hoverlabel": {
           "align": "left"
          },
          "hovermode": "closest",
          "mapbox": {
           "style": "light"
          },
          "paper_bgcolor": "white",
          "plot_bgcolor": "#E5ECF6",
          "polar": {
           "angularaxis": {
            "gridcolor": "white",
            "linecolor": "white",
            "ticks": ""
           },
           "bgcolor": "#E5ECF6",
           "radialaxis": {
            "gridcolor": "white",
            "linecolor": "white",
            "ticks": ""
           }
          },
          "scene": {
           "xaxis": {
            "backgroundcolor": "#E5ECF6",
            "gridcolor": "white",
            "gridwidth": 2,
            "linecolor": "white",
            "showbackground": true,
            "ticks": "",
            "zerolinecolor": "white"
           },
           "yaxis": {
            "backgroundcolor": "#E5ECF6",
            "gridcolor": "white",
            "gridwidth": 2,
            "linecolor": "white",
            "showbackground": true,
            "ticks": "",
            "zerolinecolor": "white"
           },
           "zaxis": {
            "backgroundcolor": "#E5ECF6",
            "gridcolor": "white",
            "gridwidth": 2,
            "linecolor": "white",
            "showbackground": true,
            "ticks": "",
            "zerolinecolor": "white"
           }
          },
          "shapedefaults": {
           "line": {
            "color": "#2a3f5f"
           }
          },
          "ternary": {
           "aaxis": {
            "gridcolor": "white",
            "linecolor": "white",
            "ticks": ""
           },
           "baxis": {
            "gridcolor": "white",
            "linecolor": "white",
            "ticks": ""
           },
           "bgcolor": "#E5ECF6",
           "caxis": {
            "gridcolor": "white",
            "linecolor": "white",
            "ticks": ""
           }
          },
          "title": {
           "x": 0.05
          },
          "xaxis": {
           "automargin": true,
           "gridcolor": "white",
           "linecolor": "white",
           "ticks": "",
           "title": {
            "standoff": 15
           },
           "zerolinecolor": "white",
           "zerolinewidth": 2
          },
          "yaxis": {
           "automargin": true,
           "gridcolor": "white",
           "linecolor": "white",
           "ticks": "",
           "title": {
            "standoff": 15
           },
           "zerolinecolor": "white",
           "zerolinewidth": 2
          }
         }
        },
        "title": {
         "text": "Bitcoin price vs Sentiment"
        },
        "xaxis": {
         "anchor": "y",
         "domain": [
          0,
          1
         ],
         "title": {
          "text": "date"
         }
        },
        "yaxis": {
         "anchor": "x",
         "domain": [
          0,
          1
         ],
         "title": {
          "text": "value"
         }
        }
       }
      }
     },
     "metadata": {},
     "output_type": "display_data"
    }
   ],
   "source": [
    "fig = px.scatter(sentiments, x='date', y=['bitcoin_norm', 'compound_norm'], title='Bitcoin price vs Sentiment', labels={'compound_norm': 'Sentiment', 'bitcoin_norm': 'Bitcoin price'})\n",
    "fig.update_traces(mode='lines')\n",
    "fig.show()\n"
   ]
  },
  {
   "cell_type": "code",
   "execution_count": 10,
   "metadata": {},
   "outputs": [
    {
     "data": {
      "text/plain": [
       "-0.03323810276784893"
      ]
     },
     "execution_count": 10,
     "metadata": {},
     "output_type": "execute_result"
    }
   ],
   "source": [
    "sentiments['bitcoin_norm'].corr(sentiments['compound_norm'], method='pearson')"
   ]
  },
  {
   "cell_type": "code",
   "execution_count": 11,
   "metadata": {},
   "outputs": [
    {
     "data": {
      "text/plain": [
       "-0.03438086852584593"
      ]
     },
     "execution_count": 11,
     "metadata": {},
     "output_type": "execute_result"
    }
   ],
   "source": [
    "sentiments['bitcoin_norm'].corr(sentiments['compound_norm'], method='spearman')"
   ]
  },
  {
   "cell_type": "code",
   "execution_count": 12,
   "metadata": {},
   "outputs": [
    {
     "data": {
      "text/plain": [
       "-0.034380868525845924"
      ]
     },
     "execution_count": 12,
     "metadata": {},
     "output_type": "execute_result"
    }
   ],
   "source": [
    "sentiments['compound_norm'].corr(sentiments['bitcoin_norm'], method='spearman')"
   ]
  },
  {
   "cell_type": "code",
   "execution_count": 13,
   "metadata": {},
   "outputs": [
    {
     "data": {
      "text/plain": [
       "-0.012260883494005639"
      ]
     },
     "execution_count": 13,
     "metadata": {},
     "output_type": "execute_result"
    }
   ],
   "source": [
    "sentiments['compound_norm'].shift(15).corr(sentiments['bitcoin_norm'], method='pearson')"
   ]
  },
  {
   "cell_type": "code",
   "execution_count": 14,
   "metadata": {},
   "outputs": [
    {
     "name": "stdout",
     "output_type": "stream",
     "text": [
      "\n",
      "Granger Causality\n",
      "number of lags (no zero) 1\n",
      "ssr based F test:         F=1.4705  , p=0.2264  , df_denom=250, df_num=1\n",
      "ssr based chi2 test:   chi2=1.4882  , p=0.2225  , df=1\n",
      "likelihood ratio test: chi2=1.4838  , p=0.2232  , df=1\n",
      "parameter F test:         F=1.4705  , p=0.2264  , df_denom=250, df_num=1\n",
      "\n",
      "Granger Causality\n",
      "number of lags (no zero) 2\n",
      "ssr based F test:         F=0.7669  , p=0.4656  , df_denom=247, df_num=2\n",
      "ssr based chi2 test:   chi2=1.5648  , p=0.4573  , df=2\n",
      "likelihood ratio test: chi2=1.5600  , p=0.4584  , df=2\n",
      "parameter F test:         F=0.7669  , p=0.4656  , df_denom=247, df_num=2\n",
      "\n",
      "Granger Causality\n",
      "number of lags (no zero) 3\n",
      "ssr based F test:         F=2.9098  , p=0.0352  , df_denom=244, df_num=3\n",
      "ssr based chi2 test:   chi2=8.9798  , p=0.0296  , df=3\n",
      "likelihood ratio test: chi2=8.8229  , p=0.0317  , df=3\n",
      "parameter F test:         F=2.9098  , p=0.0352  , df_denom=244, df_num=3\n",
      "\n",
      "Granger Causality\n",
      "number of lags (no zero) 4\n",
      "ssr based F test:         F=2.1602  , p=0.0741  , df_denom=241, df_num=4\n",
      "ssr based chi2 test:   chi2=8.9637  , p=0.0620  , df=4\n",
      "likelihood ratio test: chi2=8.8067  , p=0.0661  , df=4\n",
      "parameter F test:         F=2.1602  , p=0.0741  , df_denom=241, df_num=4\n",
      "\n",
      "Granger Causality\n",
      "number of lags (no zero) 5\n",
      "ssr based F test:         F=1.5654  , p=0.1706  , df_denom=238, df_num=5\n",
      "ssr based chi2 test:   chi2=8.1886  , p=0.1461  , df=5\n",
      "likelihood ratio test: chi2=8.0569  , p=0.1531  , df=5\n",
      "parameter F test:         F=1.5654  , p=0.1706  , df_denom=238, df_num=5\n",
      "\n",
      "Granger Causality\n",
      "number of lags (no zero) 6\n",
      "ssr based F test:         F=1.4227  , p=0.2066  , df_denom=235, df_num=6\n",
      "ssr based chi2 test:   chi2=9.0082  , p=0.1731  , df=6\n",
      "likelihood ratio test: chi2=8.8484  , p=0.1823  , df=6\n",
      "parameter F test:         F=1.4227  , p=0.2066  , df_denom=235, df_num=6\n",
      "\n",
      "Granger Causality\n",
      "number of lags (no zero) 7\n",
      "ssr based F test:         F=1.2433  , p=0.2799  , df_denom=232, df_num=7\n",
      "ssr based chi2 test:   chi2=9.2657  , p=0.2341  , df=7\n",
      "likelihood ratio test: chi2=9.0961  , p=0.2458  , df=7\n",
      "parameter F test:         F=1.2433  , p=0.2799  , df_denom=232, df_num=7\n",
      "\n",
      "Granger Causality\n",
      "number of lags (no zero) 8\n",
      "ssr based F test:         F=1.5476  , p=0.1419  , df_denom=229, df_num=8\n",
      "ssr based chi2 test:   chi2=13.2995 , p=0.1020  , df=8\n",
      "likelihood ratio test: chi2=12.9525 , p=0.1135  , df=8\n",
      "parameter F test:         F=1.5476  , p=0.1419  , df_denom=229, df_num=8\n",
      "\n",
      "Granger Causality\n",
      "number of lags (no zero) 9\n",
      "ssr based F test:         F=1.3614  , p=0.2069  , df_denom=226, df_num=9\n",
      "ssr based chi2 test:   chi2=13.2831 , p=0.1502  , df=9\n",
      "likelihood ratio test: chi2=12.9356 , p=0.1655  , df=9\n",
      "parameter F test:         F=1.3614  , p=0.2069  , df_denom=226, df_num=9\n",
      "\n",
      "Granger Causality\n",
      "number of lags (no zero) 10\n",
      "ssr based F test:         F=1.4693  , p=0.1521  , df_denom=223, df_num=10\n",
      "ssr based chi2 test:   chi2=16.0768 , p=0.0975  , df=10\n",
      "likelihood ratio test: chi2=15.5694 , p=0.1126  , df=10\n",
      "parameter F test:         F=1.4693  , p=0.1521  , df_denom=223, df_num=10\n",
      "\n",
      "Granger Causality\n",
      "number of lags (no zero) 11\n",
      "ssr based F test:         F=1.4698  , p=0.1442  , df_denom=220, df_num=11\n",
      "ssr based chi2 test:   chi2=17.8584 , p=0.0849  , df=11\n",
      "likelihood ratio test: chi2=17.2326 , p=0.1012  , df=11\n",
      "parameter F test:         F=1.4698  , p=0.1442  , df_denom=220, df_num=11\n",
      "\n",
      "Granger Causality\n",
      "number of lags (no zero) 12\n",
      "ssr based F test:         F=1.4076  , p=0.1638  , df_denom=217, df_num=12\n",
      "ssr based chi2 test:   chi2=18.8377 , p=0.0925  , df=12\n",
      "likelihood ratio test: chi2=18.1405 , p=0.1115  , df=12\n",
      "parameter F test:         F=1.4076  , p=0.1638  , df_denom=217, df_num=12\n",
      "\n",
      "Granger Causality\n",
      "number of lags (no zero) 13\n",
      "ssr based F test:         F=1.2560  , p=0.2419  , df_denom=214, df_num=13\n",
      "ssr based chi2 test:   chi2=18.3881 , p=0.1433  , df=13\n",
      "likelihood ratio test: chi2=17.7203 , p=0.1684  , df=13\n",
      "parameter F test:         F=1.2560  , p=0.2419  , df_denom=214, df_num=13\n",
      "\n",
      "Granger Causality\n",
      "number of lags (no zero) 14\n",
      "ssr based F test:         F=1.3103  , p=0.2030  , df_denom=211, df_num=14\n",
      "ssr based chi2 test:   chi2=20.8654 , p=0.1051  , df=14\n",
      "likelihood ratio test: chi2=20.0077 , p=0.1299  , df=14\n",
      "parameter F test:         F=1.3103  , p=0.2030  , df_denom=211, df_num=14\n",
      "\n",
      "Granger Causality\n",
      "number of lags (no zero) 15\n",
      "ssr based F test:         F=1.5316  , p=0.0963  , df_denom=208, df_num=15\n",
      "ssr based chi2 test:   chi2=26.3978 , p=0.0340  , df=15\n",
      "likelihood ratio test: chi2=25.0391 , p=0.0494  , df=15\n",
      "parameter F test:         F=1.5316  , p=0.0963  , df_denom=208, df_num=15\n",
      "\n",
      "Granger Causality\n",
      "number of lags (no zero) 16\n",
      "ssr based F test:         F=1.4358  , p=0.1276  , df_denom=205, df_num=16\n",
      "ssr based chi2 test:   chi2=26.6710 , p=0.0453  , df=16\n",
      "likelihood ratio test: chi2=25.2796 , p=0.0650  , df=16\n",
      "parameter F test:         F=1.4358  , p=0.1276  , df_denom=205, df_num=16\n",
      "\n",
      "Granger Causality\n",
      "number of lags (no zero) 17\n",
      "ssr based F test:         F=1.3323  , p=0.1753  , df_denom=202, df_num=17\n",
      "ssr based chi2 test:   chi2=26.5731 , p=0.0646  , df=17\n",
      "likelihood ratio test: chi2=25.1861 , p=0.0906  , df=17\n",
      "parameter F test:         F=1.3323  , p=0.1753  , df_denom=202, df_num=17\n",
      "\n",
      "Granger Causality\n",
      "number of lags (no zero) 18\n",
      "ssr based F test:         F=1.2119  , p=0.2541  , df_denom=199, df_num=18\n",
      "ssr based chi2 test:   chi2=25.8706 , p=0.1028  , df=18\n",
      "likelihood ratio test: chi2=24.5484 , p=0.1379  , df=18\n",
      "parameter F test:         F=1.2119  , p=0.2541  , df_denom=199, df_num=18\n",
      "\n",
      "Granger Causality\n",
      "number of lags (no zero) 19\n",
      "ssr based F test:         F=1.1393  , p=0.3147  , df_denom=196, df_num=19\n",
      "ssr based chi2 test:   chi2=25.9535 , p=0.1315  , df=19\n",
      "likelihood ratio test: chi2=24.6178 , p=0.1735  , df=19\n",
      "parameter F test:         F=1.1393  , p=0.3147  , df_denom=196, df_num=19\n",
      "\n",
      "Granger Causality\n",
      "number of lags (no zero) 20\n",
      "ssr based F test:         F=1.1043  , p=0.3477  , df_denom=193, df_num=20\n",
      "ssr based chi2 test:   chi2=26.7771 , p=0.1417  , df=20\n",
      "likelihood ratio test: chi2=25.3527 , p=0.1883  , df=20\n",
      "parameter F test:         F=1.1043  , p=0.3477  , df_denom=193, df_num=20\n",
      "\n",
      "Granger Causality\n",
      "number of lags (no zero) 21\n",
      "ssr based F test:         F=1.0658  , p=0.3883  , df_denom=190, df_num=21\n",
      "ssr based chi2 test:   chi2=27.4464 , p=0.1566  , df=21\n",
      "likelihood ratio test: chi2=25.9465 , p=0.2085  , df=21\n",
      "parameter F test:         F=1.0658  , p=0.3883  , df_denom=190, df_num=21\n",
      "\n",
      "Granger Causality\n",
      "number of lags (no zero) 22\n",
      "ssr based F test:         F=1.1293  , p=0.3192  , df_denom=187, df_num=22\n",
      "ssr based chi2 test:   chi2=30.8223 , p=0.0998  , df=22\n",
      "likelihood ratio test: chi2=28.9399 , p=0.1466  , df=22\n",
      "parameter F test:         F=1.1293  , p=0.3192  , df_denom=187, df_num=22\n",
      "\n",
      "Granger Causality\n",
      "number of lags (no zero) 23\n",
      "ssr based F test:         F=1.1509  , p=0.2956  , df_denom=184, df_num=23\n",
      "ssr based chi2 test:   chi2=33.2330 , p=0.0771  , df=23\n",
      "likelihood ratio test: chi2=31.0496 , p=0.1216  , df=23\n",
      "parameter F test:         F=1.1509  , p=0.2956  , df_denom=184, df_num=23\n",
      "\n",
      "Granger Causality\n",
      "number of lags (no zero) 24\n",
      "ssr based F test:         F=1.1220  , p=0.3237  , df_denom=181, df_num=24\n",
      "ssr based chi2 test:   chi2=34.2172 , p=0.0809  , df=24\n",
      "likelihood ratio test: chi2=31.8992 , p=0.1295  , df=24\n",
      "parameter F test:         F=1.1220  , p=0.3237  , df_denom=181, df_num=24\n",
      "\n",
      "Granger Causality\n",
      "number of lags (no zero) 25\n",
      "ssr based F test:         F=1.0406  , p=0.4176  , df_denom=178, df_num=25\n",
      "ssr based chi2 test:   chi2=33.4694 , p=0.1197  , df=25\n",
      "likelihood ratio test: chi2=31.2385 , p=0.1812  , df=25\n",
      "parameter F test:         F=1.0406  , p=0.4176  , df_denom=178, df_num=25\n",
      "\n",
      "Granger Causality\n",
      "number of lags (no zero) 26\n",
      "ssr based F test:         F=0.9924  , p=0.4808  , df_denom=175, df_num=26\n",
      "ssr based chi2 test:   chi2=33.6183 , p=0.1449  , df=26\n",
      "likelihood ratio test: chi2=31.3594 , p=0.2152  , df=26\n",
      "parameter F test:         F=0.9924  , p=0.4808  , df_denom=175, df_num=26\n",
      "\n",
      "Granger Causality\n",
      "number of lags (no zero) 27\n",
      "ssr based F test:         F=0.9979  , p=0.4744  , df_denom=172, df_num=27\n",
      "ssr based chi2 test:   chi2=35.5601 , p=0.1252  , df=27\n",
      "likelihood ratio test: chi2=33.0353 , p=0.1959  , df=27\n",
      "parameter F test:         F=0.9979  , p=0.4744  , df_denom=172, df_num=27\n",
      "\n",
      "Granger Causality\n",
      "number of lags (no zero) 28\n",
      "ssr based F test:         F=0.9953  , p=0.4790  , df_denom=169, df_num=28\n",
      "ssr based chi2 test:   chi2=37.2679 , p=0.1131  , df=28\n",
      "likelihood ratio test: chi2=34.4960 , p=0.1850  , df=28\n",
      "parameter F test:         F=0.9953  , p=0.4790  , df_denom=169, df_num=28\n",
      "\n",
      "Granger Causality\n",
      "number of lags (no zero) 29\n",
      "ssr based F test:         F=0.9323  , p=0.5700  , df_denom=166, df_num=29\n",
      "ssr based chi2 test:   chi2=36.6474 , p=0.1555  , df=29\n",
      "likelihood ratio test: chi2=33.9519 , p=0.2410  , df=29\n",
      "parameter F test:         F=0.9323  , p=0.5700  , df_denom=166, df_num=29\n",
      "\n",
      "Granger Causality\n",
      "number of lags (no zero) 30\n",
      "ssr based F test:         F=0.9095  , p=0.6057  , df_denom=163, df_num=30\n",
      "ssr based chi2 test:   chi2=37.4962 , p=0.1631  , df=30\n",
      "likelihood ratio test: chi2=34.6693 , p=0.2549  , df=30\n",
      "parameter F test:         F=0.9095  , p=0.6057  , df_denom=163, df_num=30\n"
     ]
    }
   ],
   "source": [
    "granger_results = grangercausalitytests(sentiments[['bitcoin_norm', 'compound_norm']], maxlag=30)"
   ]
  },
  {
   "cell_type": "code",
   "execution_count": 15,
   "metadata": {},
   "outputs": [
    {
     "data": {
      "application/vnd.plotly.v1+json": {
       "config": {
        "plotlyServerURL": "https://plot.ly"
       },
       "data": [
        {
         "hovertemplate": "variable=bitcoin_norm<br>date=%{x}<br>value=%{y}<extra></extra>",
         "legendgroup": "bitcoin_norm",
         "marker": {
          "color": "#636efa",
          "symbol": "circle"
         },
         "mode": "lines",
         "name": "bitcoin_norm",
         "orientation": "v",
         "showlegend": true,
         "type": "scatter",
         "x": [
          "2024-12-04T14:10:00",
          "2024-12-04T15:20:00",
          "2024-12-04T16:10:00",
          "2024-12-04T16:30:00",
          "2024-12-04T17:20:00",
          "2024-12-04T17:40:00",
          "2024-12-04T17:50:00",
          "2024-12-05T00:30:00",
          "2024-12-05T00:40:00",
          "2024-12-05T01:30:00",
          "2024-12-05T02:30:00",
          "2024-12-05T03:50:00",
          "2024-12-05T04:00:00",
          "2024-12-05T04:40:00",
          "2024-12-05T04:50:00",
          "2024-12-05T05:10:00",
          "2024-12-05T05:20:00",
          "2024-12-05T05:40:00",
          "2024-12-05T05:50:00",
          "2024-12-05T06:10:00",
          "2024-12-05T06:20:00",
          "2024-12-05T07:20:00",
          "2024-12-05T09:10:00",
          "2024-12-05T09:20:00",
          "2024-12-05T10:20:00",
          "2024-12-05T10:30:00",
          "2024-12-05T11:10:00",
          "2024-12-05T11:30:00",
          "2024-12-05T11:40:00",
          "2024-12-05T12:40:00",
          "2024-12-05T12:50:00",
          "2024-12-05T14:10:00",
          "2024-12-05T14:20:00",
          "2024-12-05T15:20:00",
          "2024-12-05T15:30:00",
          "2024-12-05T15:40:00",
          "2024-12-05T15:50:00",
          "2024-12-05T16:30:00",
          "2024-12-05T16:50:00",
          "2024-12-05T17:00:00",
          "2024-12-05T17:40:00",
          "2024-12-05T17:50:00",
          "2024-12-05T18:50:00",
          "2024-12-05T19:20:00",
          "2024-12-05T19:30:00",
          "2024-12-05T20:30:00",
          "2024-12-05T20:40:00",
          "2024-12-05T21:30:00",
          "2024-12-05T22:30:00",
          "2024-12-05T22:40:00",
          "2024-12-05T23:50:00",
          "2024-12-06T00:00:00",
          "2024-12-06T00:20:00",
          "2024-12-06T00:30:00",
          "2024-12-06T01:20:00",
          "2024-12-06T01:50:00",
          "2024-12-06T02:00:00",
          "2024-12-06T02:20:00",
          "2024-12-06T02:50:00",
          "2024-12-06T03:20:00",
          "2024-12-06T04:10:00",
          "2024-12-06T04:30:00",
          "2024-12-06T04:40:00",
          "2024-12-06T06:50:00",
          "2024-12-06T07:10:00",
          "2024-12-06T07:20:00",
          "2024-12-06T09:30:00",
          "2024-12-06T09:50:00",
          "2024-12-06T10:40:00",
          "2024-12-06T11:30:00",
          "2024-12-06T11:50:00",
          "2024-12-06T14:10:00",
          "2024-12-06T14:20:00",
          "2024-12-06T14:30:00",
          "2024-12-06T15:20:00",
          "2024-12-06T15:40:00",
          "2024-12-06T15:50:00",
          "2024-12-06T16:50:00",
          "2024-12-06T17:00:00",
          "2024-12-06T20:20:00",
          "2024-12-06T20:40:00",
          "2024-12-06T20:50:00",
          "2024-12-07T00:10:00",
          "2024-12-07T01:40:00",
          "2024-12-07T02:50:00",
          "2024-12-07T03:40:00",
          "2024-12-07T05:10:00",
          "2024-12-07T05:30:00",
          "2024-12-07T05:40:00",
          "2024-12-07T06:40:00",
          "2024-12-07T09:20:00",
          "2024-12-07T09:50:00",
          "2024-12-07T10:10:00",
          "2024-12-07T10:30:00",
          "2024-12-07T10:40:00",
          "2024-12-07T11:20:00",
          "2024-12-07T11:40:00",
          "2024-12-07T13:10:00",
          "2024-12-07T13:20:00",
          "2024-12-07T14:20:00",
          "2024-12-07T14:30:00",
          "2024-12-07T15:30:00",
          "2024-12-07T15:40:00",
          "2024-12-07T16:40:00",
          "2024-12-07T16:50:00",
          "2024-12-07T17:50:00",
          "2024-12-07T18:00:00",
          "2024-12-07T20:30:00",
          "2024-12-07T23:10:00",
          "2024-12-08T00:20:00",
          "2024-12-08T00:30:00",
          "2024-12-08T01:10:00",
          "2024-12-08T02:20:00",
          "2024-12-08T02:30:00",
          "2024-12-08T03:30:00",
          "2024-12-08T04:40:00",
          "2024-12-08T05:50:00",
          "2024-12-08T06:10:00",
          "2024-12-08T09:20:00",
          "2024-12-08T09:40:00",
          "2024-12-08T09:50:00",
          "2024-12-08T10:50:00",
          "2024-12-08T11:10:00",
          "2024-12-08T11:20:00",
          "2024-12-08T12:40:00",
          "2024-12-08T12:50:00",
          "2024-12-08T13:30:00",
          "2024-12-08T13:40:00",
          "2024-12-08T14:40:00",
          "2024-12-08T15:20:00",
          "2024-12-08T16:30:00",
          "2024-12-08T16:40:00",
          "2024-12-08T18:50:00",
          "2024-12-08T19:00:00",
          "2024-12-08T21:10:00",
          "2024-12-08T21:20:00",
          "2024-12-08T23:50:00",
          "2024-12-09T00:00:00",
          "2024-12-09T01:20:00",
          "2024-12-09T01:30:00",
          "2024-12-09T02:30:00",
          "2024-12-09T02:50:00",
          "2024-12-09T04:20:00",
          "2024-12-09T05:30:00",
          "2024-12-09T05:50:00",
          "2024-12-09T06:40:00",
          "2024-12-09T09:40:00",
          "2024-12-09T10:50:00",
          "2024-12-09T12:20:00",
          "2024-12-09T13:30:00",
          "2024-12-09T13:40:00",
          "2024-12-09T13:50:00",
          "2024-12-09T16:10:00",
          "2024-12-09T16:20:00",
          "2024-12-09T17:20:00",
          "2024-12-09T17:30:00",
          "2024-12-09T19:20:00",
          "2024-12-09T19:30:00",
          "2024-12-09T20:10:00",
          "2024-12-09T20:20:00",
          "2024-12-09T20:40:00",
          "2024-12-09T20:50:00",
          "2024-12-09T21:10:00",
          "2024-12-09T21:40:00",
          "2024-12-09T21:50:00",
          "2024-12-09T22:30:00",
          "2024-12-09T23:50:00",
          "2024-12-10T00:10:00",
          "2024-12-10T02:20:00",
          "2024-12-10T02:30:00",
          "2024-12-10T03:10:00",
          "2024-12-10T03:20:00",
          "2024-12-10T03:40:00",
          "2024-12-10T03:50:00",
          "2024-12-10T04:10:00",
          "2024-12-10T04:40:00",
          "2024-12-10T04:50:00",
          "2024-12-10T05:50:00",
          "2024-12-10T06:10:00",
          "2024-12-10T06:40:00",
          "2024-12-10T07:10:00",
          "2024-12-10T07:40:00",
          "2024-12-10T07:50:00",
          "2024-12-10T09:10:00",
          "2024-12-10T09:20:00",
          "2024-12-10T09:40:00",
          "2024-12-10T09:50:00",
          "2024-12-10T10:10:00",
          "2024-12-10T11:30:00",
          "2024-12-10T12:30:00",
          "2024-12-10T12:40:00",
          "2024-12-10T13:30:00",
          "2024-12-10T13:40:00",
          "2024-12-10T14:20:00",
          "2024-12-10T14:30:00",
          "2024-12-10T14:50:00",
          "2024-12-10T15:20:00",
          "2024-12-10T15:30:00",
          "2024-12-10T15:50:00",
          "2024-12-10T16:00:00",
          "2024-12-10T16:50:00",
          "2024-12-10T17:00:00",
          "2024-12-10T17:20:00",
          "2024-12-10T17:30:00",
          "2024-12-10T17:50:00",
          "2024-12-10T18:00:00",
          "2024-12-10T18:20:00",
          "2024-12-10T18:30:00",
          "2024-12-10T18:50:00",
          "2024-12-10T19:00:00",
          "2024-12-10T19:20:00",
          "2024-12-10T19:30:00",
          "2024-12-10T19:50:00",
          "2024-12-10T20:00:00",
          "2024-12-10T20:40:00",
          "2024-12-10T21:10:00",
          "2024-12-10T21:20:00",
          "2024-12-10T21:40:00",
          "2024-12-10T21:50:00",
          "2024-12-10T22:10:00",
          "2024-12-10T22:40:00",
          "2024-12-10T23:10:00",
          "2024-12-10T23:40:00",
          "2024-12-11T01:10:00",
          "2024-12-11T01:30:00",
          "2024-12-11T01:40:00",
          "2024-12-11T02:20:00",
          "2024-12-11T02:30:00",
          "2024-12-11T02:50:00",
          "2024-12-11T03:20:00",
          "2024-12-11T03:30:00",
          "2024-12-11T03:50:00",
          "2024-12-11T04:00:00",
          "2024-12-11T04:20:00",
          "2024-12-11T04:30:00",
          "2024-12-11T04:50:00",
          "2024-12-11T05:00:00",
          "2024-12-11T05:20:00",
          "2024-12-11T05:50:00",
          "2024-12-11T06:20:00",
          "2024-12-11T06:50:00",
          "2024-12-11T07:40:00",
          "2024-12-11T08:10:00",
          "2024-12-11T09:10:00",
          "2024-12-11T09:40:00",
          "2024-12-11T09:50:00",
          "2024-12-11T10:10:00",
          "2024-12-11T10:40:00",
          "2024-12-11T10:50:00",
          "2024-12-11T11:10:00",
          "2024-12-11T11:20:00",
          "2024-12-11T11:40:00",
          "2024-12-11T12:10:00",
          "2024-12-11T12:20:00"
         ],
         "xaxis": "x",
         "y": [
          0.12411111111111112,
          0.14455555555555555,
          0.11033333333333334,
          0.059666666666666666,
          0.04611111111111111,
          0.07977777777777778,
          0.06544444444444444,
          0.48544444444444446,
          0.448,
          0.43722222222222223,
          0.45844444444444443,
          0.9546666666666667,
          0.9856666666666667,
          0.8977777777777778,
          0.9308888888888889,
          0.9835555555555555,
          0.9634444444444444,
          0.9568888888888889,
          0.8386666666666667,
          0.8837777777777778,
          0.8218888888888889,
          0.755,
          0.9026666666666666,
          0.9522222222222222,
          0.9154444444444444,
          0.9056666666666666,
          0.8717777777777778,
          0.8731111111111111,
          0.8884444444444445,
          0.9292222222222222,
          0.9245555555555556,
          0.9146666666666666,
          0.9145555555555556,
          0.9817777777777777,
          0.8811111111111111,
          0.8192222222222222,
          0.8052222222222222,
          0.829,
          0.7817777777777778,
          0.7627777777777778,
          0.7165555555555555,
          0.7204444444444444,
          0.6908888888888889,
          0.6795555555555556,
          0.7067777777777777,
          0.437,
          0.4776666666666667,
          0.5296666666666666,
          0.417,
          0.0971111111111111,
          0.23622222222222222,
          0.29488888888888887,
          0.2833333333333333,
          0.2952222222222222,
          0.3188888888888889,
          0.44855555555555554,
          0.4702222222222222,
          0.37777777777777777,
          0.3632222222222222,
          0.32966666666666666,
          0.35588888888888887,
          0.33211111111111113,
          0.3728888888888889,
          0.38255555555555554,
          0.38966666666666666,
          0.37155555555555553,
          0.4176666666666667,
          0.418,
          0.388,
          0.4037777777777778,
          0.3808888888888889,
          0.43233333333333335,
          0.46166666666666667,
          0.49044444444444446,
          0.48377777777777775,
          0.49666666666666665,
          0.48055555555555557,
          0.4881111111111111,
          0.491,
          0.808,
          0.8256666666666667,
          0.7861111111111111,
          0.614,
          0.6357777777777778,
          0.6167777777777778,
          0.5658888888888889,
          0.5471111111111111,
          0.5641111111111111,
          0.5321111111111111,
          0.5433333333333333,
          0.574,
          0.5657777777777778,
          0.5794444444444444,
          0.5593333333333333,
          0.5511111111111111,
          0.557,
          0.5671111111111111,
          0.5482222222222223,
          0.5455555555555556,
          0.5168888888888888,
          0.5282222222222223,
          0.5578888888888889,
          0.5586666666666666,
          0.5632222222222222,
          0.5726666666666667,
          0.5686666666666667,
          0.5676666666666667,
          0.6361111111111111,
          0.5952222222222222,
          0.5776666666666667,
          0.5942222222222222,
          0.6227777777777778,
          0.6073333333333333,
          0.6338888888888888,
          0.6121111111111112,
          0.5813333333333334,
          0.5441111111111111,
          0.5448888888888889,
          0.5252222222222223,
          0.5245555555555556,
          0.5018888888888889,
          0.5305555555555556,
          0.5171111111111111,
          0.5314444444444445,
          0.5698888888888889,
          0.5941111111111111,
          0.6276666666666667,
          0.6218888888888889,
          0.6177777777777778,
          0.5601111111111111,
          0.5816666666666667,
          0.5907777777777777,
          0.5804444444444444,
          0.5786666666666667,
          0.5792222222222222,
          0.5843333333333334,
          0.6815555555555556,
          0.7524444444444445,
          0.5551111111111111,
          0.5724444444444444,
          0.525,
          0.5053333333333333,
          0.5252222222222223,
          0.5488888888888889,
          0.556,
          0.5037777777777778,
          0.42944444444444446,
          0.42233333333333334,
          0.41533333333333333,
          0.49333333333333335,
          0.5,
          0.49944444444444447,
          0.35988888888888887,
          0.39055555555555554,
          0.3672222222222222,
          0.3576666666666667,
          0.324,
          0.33055555555555555,
          0.26811111111111113,
          0.26266666666666666,
          0.23244444444444445,
          0.21122222222222223,
          0.197,
          0.30577777777777776,
          0.2408888888888889,
          0.28044444444444444,
          0.30977777777777776,
          0.2777777777777778,
          0.3675555555555556,
          0.31677777777777777,
          0.1981111111111111,
          0.17733333333333334,
          0.18433333333333332,
          0.263,
          0.21622222222222223,
          0.2638888888888889,
          0.25522222222222224,
          0.2568888888888889,
          0.2806666666666667,
          0.29744444444444446,
          0.29433333333333334,
          0.26211111111111113,
          0.29655555555555557,
          0.3343333333333333,
          0.3357777777777778,
          0.3312222222222222,
          0.30144444444444446,
          0.3451111111111111,
          0.3532222222222222,
          0.3041111111111111,
          0.28833333333333333,
          0.3273333333333333,
          0.34044444444444444,
          0.37866666666666665,
          0.3841111111111111,
          0.4092222222222222,
          0.33944444444444444,
          0.26266666666666666,
          0.17744444444444443,
          0.13266666666666665,
          0.023666666666666666,
          0.2131111111111111,
          0.025,
          0.009333333333333334,
          0.08588888888888889,
          0.00044444444444444447,
          0.06344444444444444,
          0.059444444444444446,
          0.10633333333333334,
          0.05388888888888889,
          0.11822222222222223,
          0.15955555555555556,
          0.11155555555555556,
          0.15333333333333332,
          0.1978888888888889,
          0.24644444444444444,
          0.22444444444444445,
          0.2683333333333333,
          0.2597777777777778,
          0.2693333333333333,
          0.26055555555555554,
          0.2776666666666667,
          0.26122222222222224,
          0.19077777777777777,
          0.161,
          0.2222222222222222,
          0.1771111111111111,
          0.18955555555555556,
          0.31555555555555553,
          0.3224444444444444,
          0.31344444444444447,
          0.31422222222222224,
          0.31422222222222224,
          0.30966666666666665,
          0.3015555555555556,
          0.30622222222222223,
          0.3318888888888889,
          0.31433333333333335,
          0.32355555555555554,
          0.33766666666666667,
          0.3397777777777778,
          0.32,
          0.34644444444444444,
          0.37866666666666665,
          0.3658888888888889,
          0.37477777777777777,
          0.3932222222222222,
          0.3791111111111111,
          0.3854444444444444,
          0.4112222222222222,
          0.429,
          0.41955555555555557,
          0.4246666666666667,
          0.43344444444444447
         ],
         "yaxis": "y"
        },
        {
         "hovertemplate": "variable=compound_norm_shifted<br>date=%{x}<br>value=%{y}<extra></extra>",
         "legendgroup": "compound_norm_shifted",
         "marker": {
          "color": "#EF553B",
          "symbol": "circle"
         },
         "mode": "lines",
         "name": "compound_norm_shifted",
         "orientation": "v",
         "showlegend": true,
         "type": "scatter",
         "x": [
          "2024-12-04T14:10:00",
          "2024-12-04T15:20:00",
          "2024-12-04T16:10:00",
          "2024-12-04T16:30:00",
          "2024-12-04T17:20:00",
          "2024-12-04T17:40:00",
          "2024-12-04T17:50:00",
          "2024-12-05T00:30:00",
          "2024-12-05T00:40:00",
          "2024-12-05T01:30:00",
          "2024-12-05T02:30:00",
          "2024-12-05T03:50:00",
          "2024-12-05T04:00:00",
          "2024-12-05T04:40:00",
          "2024-12-05T04:50:00",
          "2024-12-05T05:10:00",
          "2024-12-05T05:20:00",
          "2024-12-05T05:40:00",
          "2024-12-05T05:50:00",
          "2024-12-05T06:10:00",
          "2024-12-05T06:20:00",
          "2024-12-05T07:20:00",
          "2024-12-05T09:10:00",
          "2024-12-05T09:20:00",
          "2024-12-05T10:20:00",
          "2024-12-05T10:30:00",
          "2024-12-05T11:10:00",
          "2024-12-05T11:30:00",
          "2024-12-05T11:40:00",
          "2024-12-05T12:40:00",
          "2024-12-05T12:50:00",
          "2024-12-05T14:10:00",
          "2024-12-05T14:20:00",
          "2024-12-05T15:20:00",
          "2024-12-05T15:30:00",
          "2024-12-05T15:40:00",
          "2024-12-05T15:50:00",
          "2024-12-05T16:30:00",
          "2024-12-05T16:50:00",
          "2024-12-05T17:00:00",
          "2024-12-05T17:40:00",
          "2024-12-05T17:50:00",
          "2024-12-05T18:50:00",
          "2024-12-05T19:20:00",
          "2024-12-05T19:30:00",
          "2024-12-05T20:30:00",
          "2024-12-05T20:40:00",
          "2024-12-05T21:30:00",
          "2024-12-05T22:30:00",
          "2024-12-05T22:40:00",
          "2024-12-05T23:50:00",
          "2024-12-06T00:00:00",
          "2024-12-06T00:20:00",
          "2024-12-06T00:30:00",
          "2024-12-06T01:20:00",
          "2024-12-06T01:50:00",
          "2024-12-06T02:00:00",
          "2024-12-06T02:20:00",
          "2024-12-06T02:50:00",
          "2024-12-06T03:20:00",
          "2024-12-06T04:10:00",
          "2024-12-06T04:30:00",
          "2024-12-06T04:40:00",
          "2024-12-06T06:50:00",
          "2024-12-06T07:10:00",
          "2024-12-06T07:20:00",
          "2024-12-06T09:30:00",
          "2024-12-06T09:50:00",
          "2024-12-06T10:40:00",
          "2024-12-06T11:30:00",
          "2024-12-06T11:50:00",
          "2024-12-06T14:10:00",
          "2024-12-06T14:20:00",
          "2024-12-06T14:30:00",
          "2024-12-06T15:20:00",
          "2024-12-06T15:40:00",
          "2024-12-06T15:50:00",
          "2024-12-06T16:50:00",
          "2024-12-06T17:00:00",
          "2024-12-06T20:20:00",
          "2024-12-06T20:40:00",
          "2024-12-06T20:50:00",
          "2024-12-07T00:10:00",
          "2024-12-07T01:40:00",
          "2024-12-07T02:50:00",
          "2024-12-07T03:40:00",
          "2024-12-07T05:10:00",
          "2024-12-07T05:30:00",
          "2024-12-07T05:40:00",
          "2024-12-07T06:40:00",
          "2024-12-07T09:20:00",
          "2024-12-07T09:50:00",
          "2024-12-07T10:10:00",
          "2024-12-07T10:30:00",
          "2024-12-07T10:40:00",
          "2024-12-07T11:20:00",
          "2024-12-07T11:40:00",
          "2024-12-07T13:10:00",
          "2024-12-07T13:20:00",
          "2024-12-07T14:20:00",
          "2024-12-07T14:30:00",
          "2024-12-07T15:30:00",
          "2024-12-07T15:40:00",
          "2024-12-07T16:40:00",
          "2024-12-07T16:50:00",
          "2024-12-07T17:50:00",
          "2024-12-07T18:00:00",
          "2024-12-07T20:30:00",
          "2024-12-07T23:10:00",
          "2024-12-08T00:20:00",
          "2024-12-08T00:30:00",
          "2024-12-08T01:10:00",
          "2024-12-08T02:20:00",
          "2024-12-08T02:30:00",
          "2024-12-08T03:30:00",
          "2024-12-08T04:40:00",
          "2024-12-08T05:50:00",
          "2024-12-08T06:10:00",
          "2024-12-08T09:20:00",
          "2024-12-08T09:40:00",
          "2024-12-08T09:50:00",
          "2024-12-08T10:50:00",
          "2024-12-08T11:10:00",
          "2024-12-08T11:20:00",
          "2024-12-08T12:40:00",
          "2024-12-08T12:50:00",
          "2024-12-08T13:30:00",
          "2024-12-08T13:40:00",
          "2024-12-08T14:40:00",
          "2024-12-08T15:20:00",
          "2024-12-08T16:30:00",
          "2024-12-08T16:40:00",
          "2024-12-08T18:50:00",
          "2024-12-08T19:00:00",
          "2024-12-08T21:10:00",
          "2024-12-08T21:20:00",
          "2024-12-08T23:50:00",
          "2024-12-09T00:00:00",
          "2024-12-09T01:20:00",
          "2024-12-09T01:30:00",
          "2024-12-09T02:30:00",
          "2024-12-09T02:50:00",
          "2024-12-09T04:20:00",
          "2024-12-09T05:30:00",
          "2024-12-09T05:50:00",
          "2024-12-09T06:40:00",
          "2024-12-09T09:40:00",
          "2024-12-09T10:50:00",
          "2024-12-09T12:20:00",
          "2024-12-09T13:30:00",
          "2024-12-09T13:40:00",
          "2024-12-09T13:50:00",
          "2024-12-09T16:10:00",
          "2024-12-09T16:20:00",
          "2024-12-09T17:20:00",
          "2024-12-09T17:30:00",
          "2024-12-09T19:20:00",
          "2024-12-09T19:30:00",
          "2024-12-09T20:10:00",
          "2024-12-09T20:20:00",
          "2024-12-09T20:40:00",
          "2024-12-09T20:50:00",
          "2024-12-09T21:10:00",
          "2024-12-09T21:40:00",
          "2024-12-09T21:50:00",
          "2024-12-09T22:30:00",
          "2024-12-09T23:50:00",
          "2024-12-10T00:10:00",
          "2024-12-10T02:20:00",
          "2024-12-10T02:30:00",
          "2024-12-10T03:10:00",
          "2024-12-10T03:20:00",
          "2024-12-10T03:40:00",
          "2024-12-10T03:50:00",
          "2024-12-10T04:10:00",
          "2024-12-10T04:40:00",
          "2024-12-10T04:50:00",
          "2024-12-10T05:50:00",
          "2024-12-10T06:10:00",
          "2024-12-10T06:40:00",
          "2024-12-10T07:10:00",
          "2024-12-10T07:40:00",
          "2024-12-10T07:50:00",
          "2024-12-10T09:10:00",
          "2024-12-10T09:20:00",
          "2024-12-10T09:40:00",
          "2024-12-10T09:50:00",
          "2024-12-10T10:10:00",
          "2024-12-10T11:30:00",
          "2024-12-10T12:30:00",
          "2024-12-10T12:40:00",
          "2024-12-10T13:30:00",
          "2024-12-10T13:40:00",
          "2024-12-10T14:20:00",
          "2024-12-10T14:30:00",
          "2024-12-10T14:50:00",
          "2024-12-10T15:20:00",
          "2024-12-10T15:30:00",
          "2024-12-10T15:50:00",
          "2024-12-10T16:00:00",
          "2024-12-10T16:50:00",
          "2024-12-10T17:00:00",
          "2024-12-10T17:20:00",
          "2024-12-10T17:30:00",
          "2024-12-10T17:50:00",
          "2024-12-10T18:00:00",
          "2024-12-10T18:20:00",
          "2024-12-10T18:30:00",
          "2024-12-10T18:50:00",
          "2024-12-10T19:00:00",
          "2024-12-10T19:20:00",
          "2024-12-10T19:30:00",
          "2024-12-10T19:50:00",
          "2024-12-10T20:00:00",
          "2024-12-10T20:40:00",
          "2024-12-10T21:10:00",
          "2024-12-10T21:20:00",
          "2024-12-10T21:40:00",
          "2024-12-10T21:50:00",
          "2024-12-10T22:10:00",
          "2024-12-10T22:40:00",
          "2024-12-10T23:10:00",
          "2024-12-10T23:40:00",
          "2024-12-11T01:10:00",
          "2024-12-11T01:30:00",
          "2024-12-11T01:40:00",
          "2024-12-11T02:20:00",
          "2024-12-11T02:30:00",
          "2024-12-11T02:50:00",
          "2024-12-11T03:20:00",
          "2024-12-11T03:30:00",
          "2024-12-11T03:50:00",
          "2024-12-11T04:00:00",
          "2024-12-11T04:20:00",
          "2024-12-11T04:30:00",
          "2024-12-11T04:50:00",
          "2024-12-11T05:00:00",
          "2024-12-11T05:20:00",
          "2024-12-11T05:50:00",
          "2024-12-11T06:20:00",
          "2024-12-11T06:50:00",
          "2024-12-11T07:40:00",
          "2024-12-11T08:10:00",
          "2024-12-11T09:10:00",
          "2024-12-11T09:40:00",
          "2024-12-11T09:50:00",
          "2024-12-11T10:10:00",
          "2024-12-11T10:40:00",
          "2024-12-11T10:50:00",
          "2024-12-11T11:10:00",
          "2024-12-11T11:20:00",
          "2024-12-11T11:40:00",
          "2024-12-11T12:10:00",
          "2024-12-11T12:20:00"
         ],
         "xaxis": "x",
         "y": [
          null,
          null,
          null,
          null,
          null,
          null,
          null,
          null,
          null,
          null,
          null,
          null,
          null,
          null,
          null,
          0.6614277777777778,
          0.56608,
          0.76595,
          0.56608,
          0.6673,
          0.50186875,
          0.5611333333333334,
          0.9804999999999999,
          0.05149999999999999,
          0.6634166666666667,
          0.6806,
          0.6647416666666667,
          0.5893416666666667,
          0.61283625,
          0.5720583333333333,
          0.5908765957446809,
          0.57025,
          0.6021418918918919,
          0.5,
          0.6802146341463414,
          0.62644,
          0.5476416666666667,
          0.6440851851851852,
          0.26492499999999997,
          0.5032603448275862,
          0.4097,
          0.7788999999999999,
          0.5619,
          0.5,
          0.6542,
          0.5464875,
          0.7256666666666667,
          0.5,
          0.5931275862068965,
          0.6423136363636364,
          0.7012973684210526,
          0.5908,
          0.6905384615384615,
          0.7152612903225807,
          0.59335,
          0.5717153846153846,
          0.8121833333333333,
          0.6279769230769231,
          0.5766666666666667,
          0.53055,
          0.52498,
          0.49435,
          0.5531333333333334,
          0.6486562499999999,
          0.40759,
          0.6715139999999999,
          0.72675,
          0.5164944444444445,
          0.38455,
          0.6521363636363636,
          0.5662785714285714,
          0.5386,
          0.64449,
          0.6350133333333333,
          0.75766,
          0.5,
          0.6035791666666667,
          0.7539,
          0.5083666666666666,
          0.69685,
          0.79295,
          0.6622666666666667,
          0.7434166666666666,
          0.9995499999999999,
          0.9335,
          0.692775,
          0.4422,
          0.07164999999999999,
          0.5911444444444445,
          0.7851772727272728,
          0.7254916666666666,
          0.24524999999999997,
          0.45028999999999997,
          0.3853,
          0.62765,
          0.64903,
          0.6909,
          0.86425,
          0.67378,
          0.5354625,
          0.69345,
          0.8075333333333333,
          0.5264866666666667,
          0.51935,
          0.61495,
          0.5121666666666667,
          0.7969999999999999,
          0.72985,
          0.5340333333333334,
          0.8569,
          0.6999,
          0.4892142857142857,
          0.39077142857142855,
          0.46595,
          0.6012062499999999,
          0.50595,
          0.468525,
          0.28995000000000004,
          0.4897722222222222,
          0.5,
          0.5387714285714286,
          0.4487,
          0.6642722222222223,
          0.736675,
          0.5789291666666667,
          0.53585,
          0.57983,
          0.55753,
          0.23225,
          0.8405833333333332,
          0.7184900000000001,
          0.692925,
          0.6348833333333334,
          0.5898857142857142,
          0.5,
          0.5,
          0.63935,
          0.74595,
          0.30979999999999996,
          0.56153125,
          0.8825000000000001,
          0.68860625,
          0.394625,
          0.46213333333333334,
          0.5253583333333334,
          0.5084785714285714,
          0.5,
          0.3900423076923077,
          0.52837,
          0.91525,
          0.5,
          0.3486,
          0.70095,
          0.587025,
          0.545925,
          0.58895,
          0.6086166666666667,
          0.34191666666666665,
          0.7066399999999999,
          0.28215,
          0.607675,
          0.9375,
          0.9981,
          0.5619636363636363,
          0.6800333333333334,
          0.5921,
          0.7916571428571428,
          0.7484,
          0.5951,
          0.5767615384615384,
          0.6166285714285714,
          0.5452323529411764,
          0.35109999999999997,
          0.629065,
          0.387375,
          0.7255964285714286,
          0.9037,
          0.7082125,
          0.4691547619047619,
          0.5,
          0.6980227272727273,
          0.635575,
          0.5,
          0.6071,
          0.733725,
          0.5999444444444444,
          0.7271000000000001,
          0.5716227272727272,
          0.5719333333333333,
          0.42878461538461543,
          0.66300625,
          0.5,
          0.8825000000000001,
          0.639475,
          0.69361,
          0.66313,
          0.48905000000000004,
          0.426,
          0.53955,
          0.5,
          0.6187,
          0.88915,
          0.7637,
          0.5169333333333334,
          0.47534375,
          0.16952499999999998,
          0.5301,
          0.61315,
          0.5122454545454546,
          0.9169,
          0.82684,
          0.5955333333333334,
          0.6177272727272727,
          0.7713466666666666,
          0.81245,
          0.5600499999999999,
          0.453775,
          0.619621875,
          0.4436333333333333,
          0.57135,
          0.42693333333333333,
          0.5829166666666666,
          0.543675,
          0.6466000000000001,
          0.7070083333333333,
          0.583871875,
          0.1126833333333333,
          0.5854,
          0.395025,
          0.785725,
          0.6656117647058823,
          0.6030833333333333,
          0.5802363636363637,
          0.16475,
          0.5739285714285715,
          0.55135,
          0.8503227272727273,
          0.6908833333333333,
          0.9997,
          0.9757499999999999,
          0.5,
          0.738475,
          0.634,
          0.6486833333333333,
          0.6036833333333333,
          0.57655,
          0.6199461538461538,
          0.574,
          0.5919884615384615,
          0.36224999999999996,
          0.5453875,
          0.648,
          0.61574,
          0.3902333333333333
         ],
         "yaxis": "y"
        }
       ],
       "layout": {
        "legend": {
         "title": {
          "text": "variable"
         },
         "tracegroupgap": 0
        },
        "template": {
         "data": {
          "bar": [
           {
            "error_x": {
             "color": "#2a3f5f"
            },
            "error_y": {
             "color": "#2a3f5f"
            },
            "marker": {
             "line": {
              "color": "#E5ECF6",
              "width": 0.5
             },
             "pattern": {
              "fillmode": "overlay",
              "size": 10,
              "solidity": 0.2
             }
            },
            "type": "bar"
           }
          ],
          "barpolar": [
           {
            "marker": {
             "line": {
              "color": "#E5ECF6",
              "width": 0.5
             },
             "pattern": {
              "fillmode": "overlay",
              "size": 10,
              "solidity": 0.2
             }
            },
            "type": "barpolar"
           }
          ],
          "carpet": [
           {
            "aaxis": {
             "endlinecolor": "#2a3f5f",
             "gridcolor": "white",
             "linecolor": "white",
             "minorgridcolor": "white",
             "startlinecolor": "#2a3f5f"
            },
            "baxis": {
             "endlinecolor": "#2a3f5f",
             "gridcolor": "white",
             "linecolor": "white",
             "minorgridcolor": "white",
             "startlinecolor": "#2a3f5f"
            },
            "type": "carpet"
           }
          ],
          "choropleth": [
           {
            "colorbar": {
             "outlinewidth": 0,
             "ticks": ""
            },
            "type": "choropleth"
           }
          ],
          "contour": [
           {
            "colorbar": {
             "outlinewidth": 0,
             "ticks": ""
            },
            "colorscale": [
             [
              0,
              "#0d0887"
             ],
             [
              0.1111111111111111,
              "#46039f"
             ],
             [
              0.2222222222222222,
              "#7201a8"
             ],
             [
              0.3333333333333333,
              "#9c179e"
             ],
             [
              0.4444444444444444,
              "#bd3786"
             ],
             [
              0.5555555555555556,
              "#d8576b"
             ],
             [
              0.6666666666666666,
              "#ed7953"
             ],
             [
              0.7777777777777778,
              "#fb9f3a"
             ],
             [
              0.8888888888888888,
              "#fdca26"
             ],
             [
              1,
              "#f0f921"
             ]
            ],
            "type": "contour"
           }
          ],
          "contourcarpet": [
           {
            "colorbar": {
             "outlinewidth": 0,
             "ticks": ""
            },
            "type": "contourcarpet"
           }
          ],
          "heatmap": [
           {
            "colorbar": {
             "outlinewidth": 0,
             "ticks": ""
            },
            "colorscale": [
             [
              0,
              "#0d0887"
             ],
             [
              0.1111111111111111,
              "#46039f"
             ],
             [
              0.2222222222222222,
              "#7201a8"
             ],
             [
              0.3333333333333333,
              "#9c179e"
             ],
             [
              0.4444444444444444,
              "#bd3786"
             ],
             [
              0.5555555555555556,
              "#d8576b"
             ],
             [
              0.6666666666666666,
              "#ed7953"
             ],
             [
              0.7777777777777778,
              "#fb9f3a"
             ],
             [
              0.8888888888888888,
              "#fdca26"
             ],
             [
              1,
              "#f0f921"
             ]
            ],
            "type": "heatmap"
           }
          ],
          "heatmapgl": [
           {
            "colorbar": {
             "outlinewidth": 0,
             "ticks": ""
            },
            "colorscale": [
             [
              0,
              "#0d0887"
             ],
             [
              0.1111111111111111,
              "#46039f"
             ],
             [
              0.2222222222222222,
              "#7201a8"
             ],
             [
              0.3333333333333333,
              "#9c179e"
             ],
             [
              0.4444444444444444,
              "#bd3786"
             ],
             [
              0.5555555555555556,
              "#d8576b"
             ],
             [
              0.6666666666666666,
              "#ed7953"
             ],
             [
              0.7777777777777778,
              "#fb9f3a"
             ],
             [
              0.8888888888888888,
              "#fdca26"
             ],
             [
              1,
              "#f0f921"
             ]
            ],
            "type": "heatmapgl"
           }
          ],
          "histogram": [
           {
            "marker": {
             "pattern": {
              "fillmode": "overlay",
              "size": 10,
              "solidity": 0.2
             }
            },
            "type": "histogram"
           }
          ],
          "histogram2d": [
           {
            "colorbar": {
             "outlinewidth": 0,
             "ticks": ""
            },
            "colorscale": [
             [
              0,
              "#0d0887"
             ],
             [
              0.1111111111111111,
              "#46039f"
             ],
             [
              0.2222222222222222,
              "#7201a8"
             ],
             [
              0.3333333333333333,
              "#9c179e"
             ],
             [
              0.4444444444444444,
              "#bd3786"
             ],
             [
              0.5555555555555556,
              "#d8576b"
             ],
             [
              0.6666666666666666,
              "#ed7953"
             ],
             [
              0.7777777777777778,
              "#fb9f3a"
             ],
             [
              0.8888888888888888,
              "#fdca26"
             ],
             [
              1,
              "#f0f921"
             ]
            ],
            "type": "histogram2d"
           }
          ],
          "histogram2dcontour": [
           {
            "colorbar": {
             "outlinewidth": 0,
             "ticks": ""
            },
            "colorscale": [
             [
              0,
              "#0d0887"
             ],
             [
              0.1111111111111111,
              "#46039f"
             ],
             [
              0.2222222222222222,
              "#7201a8"
             ],
             [
              0.3333333333333333,
              "#9c179e"
             ],
             [
              0.4444444444444444,
              "#bd3786"
             ],
             [
              0.5555555555555556,
              "#d8576b"
             ],
             [
              0.6666666666666666,
              "#ed7953"
             ],
             [
              0.7777777777777778,
              "#fb9f3a"
             ],
             [
              0.8888888888888888,
              "#fdca26"
             ],
             [
              1,
              "#f0f921"
             ]
            ],
            "type": "histogram2dcontour"
           }
          ],
          "mesh3d": [
           {
            "colorbar": {
             "outlinewidth": 0,
             "ticks": ""
            },
            "type": "mesh3d"
           }
          ],
          "parcoords": [
           {
            "line": {
             "colorbar": {
              "outlinewidth": 0,
              "ticks": ""
             }
            },
            "type": "parcoords"
           }
          ],
          "pie": [
           {
            "automargin": true,
            "type": "pie"
           }
          ],
          "scatter": [
           {
            "fillpattern": {
             "fillmode": "overlay",
             "size": 10,
             "solidity": 0.2
            },
            "type": "scatter"
           }
          ],
          "scatter3d": [
           {
            "line": {
             "colorbar": {
              "outlinewidth": 0,
              "ticks": ""
             }
            },
            "marker": {
             "colorbar": {
              "outlinewidth": 0,
              "ticks": ""
             }
            },
            "type": "scatter3d"
           }
          ],
          "scattercarpet": [
           {
            "marker": {
             "colorbar": {
              "outlinewidth": 0,
              "ticks": ""
             }
            },
            "type": "scattercarpet"
           }
          ],
          "scattergeo": [
           {
            "marker": {
             "colorbar": {
              "outlinewidth": 0,
              "ticks": ""
             }
            },
            "type": "scattergeo"
           }
          ],
          "scattergl": [
           {
            "marker": {
             "colorbar": {
              "outlinewidth": 0,
              "ticks": ""
             }
            },
            "type": "scattergl"
           }
          ],
          "scattermapbox": [
           {
            "marker": {
             "colorbar": {
              "outlinewidth": 0,
              "ticks": ""
             }
            },
            "type": "scattermapbox"
           }
          ],
          "scatterpolar": [
           {
            "marker": {
             "colorbar": {
              "outlinewidth": 0,
              "ticks": ""
             }
            },
            "type": "scatterpolar"
           }
          ],
          "scatterpolargl": [
           {
            "marker": {
             "colorbar": {
              "outlinewidth": 0,
              "ticks": ""
             }
            },
            "type": "scatterpolargl"
           }
          ],
          "scatterternary": [
           {
            "marker": {
             "colorbar": {
              "outlinewidth": 0,
              "ticks": ""
             }
            },
            "type": "scatterternary"
           }
          ],
          "surface": [
           {
            "colorbar": {
             "outlinewidth": 0,
             "ticks": ""
            },
            "colorscale": [
             [
              0,
              "#0d0887"
             ],
             [
              0.1111111111111111,
              "#46039f"
             ],
             [
              0.2222222222222222,
              "#7201a8"
             ],
             [
              0.3333333333333333,
              "#9c179e"
             ],
             [
              0.4444444444444444,
              "#bd3786"
             ],
             [
              0.5555555555555556,
              "#d8576b"
             ],
             [
              0.6666666666666666,
              "#ed7953"
             ],
             [
              0.7777777777777778,
              "#fb9f3a"
             ],
             [
              0.8888888888888888,
              "#fdca26"
             ],
             [
              1,
              "#f0f921"
             ]
            ],
            "type": "surface"
           }
          ],
          "table": [
           {
            "cells": {
             "fill": {
              "color": "#EBF0F8"
             },
             "line": {
              "color": "white"
             }
            },
            "header": {
             "fill": {
              "color": "#C8D4E3"
             },
             "line": {
              "color": "white"
             }
            },
            "type": "table"
           }
          ]
         },
         "layout": {
          "annotationdefaults": {
           "arrowcolor": "#2a3f5f",
           "arrowhead": 0,
           "arrowwidth": 1
          },
          "autotypenumbers": "strict",
          "coloraxis": {
           "colorbar": {
            "outlinewidth": 0,
            "ticks": ""
           }
          },
          "colorscale": {
           "diverging": [
            [
             0,
             "#8e0152"
            ],
            [
             0.1,
             "#c51b7d"
            ],
            [
             0.2,
             "#de77ae"
            ],
            [
             0.3,
             "#f1b6da"
            ],
            [
             0.4,
             "#fde0ef"
            ],
            [
             0.5,
             "#f7f7f7"
            ],
            [
             0.6,
             "#e6f5d0"
            ],
            [
             0.7,
             "#b8e186"
            ],
            [
             0.8,
             "#7fbc41"
            ],
            [
             0.9,
             "#4d9221"
            ],
            [
             1,
             "#276419"
            ]
           ],
           "sequential": [
            [
             0,
             "#0d0887"
            ],
            [
             0.1111111111111111,
             "#46039f"
            ],
            [
             0.2222222222222222,
             "#7201a8"
            ],
            [
             0.3333333333333333,
             "#9c179e"
            ],
            [
             0.4444444444444444,
             "#bd3786"
            ],
            [
             0.5555555555555556,
             "#d8576b"
            ],
            [
             0.6666666666666666,
             "#ed7953"
            ],
            [
             0.7777777777777778,
             "#fb9f3a"
            ],
            [
             0.8888888888888888,
             "#fdca26"
            ],
            [
             1,
             "#f0f921"
            ]
           ],
           "sequentialminus": [
            [
             0,
             "#0d0887"
            ],
            [
             0.1111111111111111,
             "#46039f"
            ],
            [
             0.2222222222222222,
             "#7201a8"
            ],
            [
             0.3333333333333333,
             "#9c179e"
            ],
            [
             0.4444444444444444,
             "#bd3786"
            ],
            [
             0.5555555555555556,
             "#d8576b"
            ],
            [
             0.6666666666666666,
             "#ed7953"
            ],
            [
             0.7777777777777778,
             "#fb9f3a"
            ],
            [
             0.8888888888888888,
             "#fdca26"
            ],
            [
             1,
             "#f0f921"
            ]
           ]
          },
          "colorway": [
           "#636efa",
           "#EF553B",
           "#00cc96",
           "#ab63fa",
           "#FFA15A",
           "#19d3f3",
           "#FF6692",
           "#B6E880",
           "#FF97FF",
           "#FECB52"
          ],
          "font": {
           "color": "#2a3f5f"
          },
          "geo": {
           "bgcolor": "white",
           "lakecolor": "white",
           "landcolor": "#E5ECF6",
           "showlakes": true,
           "showland": true,
           "subunitcolor": "white"
          },
          "hoverlabel": {
           "align": "left"
          },
          "hovermode": "closest",
          "mapbox": {
           "style": "light"
          },
          "paper_bgcolor": "white",
          "plot_bgcolor": "#E5ECF6",
          "polar": {
           "angularaxis": {
            "gridcolor": "white",
            "linecolor": "white",
            "ticks": ""
           },
           "bgcolor": "#E5ECF6",
           "radialaxis": {
            "gridcolor": "white",
            "linecolor": "white",
            "ticks": ""
           }
          },
          "scene": {
           "xaxis": {
            "backgroundcolor": "#E5ECF6",
            "gridcolor": "white",
            "gridwidth": 2,
            "linecolor": "white",
            "showbackground": true,
            "ticks": "",
            "zerolinecolor": "white"
           },
           "yaxis": {
            "backgroundcolor": "#E5ECF6",
            "gridcolor": "white",
            "gridwidth": 2,
            "linecolor": "white",
            "showbackground": true,
            "ticks": "",
            "zerolinecolor": "white"
           },
           "zaxis": {
            "backgroundcolor": "#E5ECF6",
            "gridcolor": "white",
            "gridwidth": 2,
            "linecolor": "white",
            "showbackground": true,
            "ticks": "",
            "zerolinecolor": "white"
           }
          },
          "shapedefaults": {
           "line": {
            "color": "#2a3f5f"
           }
          },
          "ternary": {
           "aaxis": {
            "gridcolor": "white",
            "linecolor": "white",
            "ticks": ""
           },
           "baxis": {
            "gridcolor": "white",
            "linecolor": "white",
            "ticks": ""
           },
           "bgcolor": "#E5ECF6",
           "caxis": {
            "gridcolor": "white",
            "linecolor": "white",
            "ticks": ""
           }
          },
          "title": {
           "x": 0.05
          },
          "xaxis": {
           "automargin": true,
           "gridcolor": "white",
           "linecolor": "white",
           "ticks": "",
           "title": {
            "standoff": 15
           },
           "zerolinecolor": "white",
           "zerolinewidth": 2
          },
          "yaxis": {
           "automargin": true,
           "gridcolor": "white",
           "linecolor": "white",
           "ticks": "",
           "title": {
            "standoff": 15
           },
           "zerolinecolor": "white",
           "zerolinewidth": 2
          }
         }
        },
        "title": {
         "text": "Bitcoin price vs Shifted Sentiment"
        },
        "xaxis": {
         "anchor": "y",
         "domain": [
          0,
          1
         ],
         "title": {
          "text": "date"
         }
        },
        "yaxis": {
         "anchor": "x",
         "domain": [
          0,
          1
         ],
         "title": {
          "text": "value"
         }
        }
       }
      }
     },
     "metadata": {},
     "output_type": "display_data"
    }
   ],
   "source": [
    "sentiments['compound_norm_shifted'] = sentiments['compound_norm'].shift(15)\n",
    "fig = px.scatter(sentiments, x='date', y=['bitcoin_norm', 'compound_norm_shifted'], title='Bitcoin price vs Shifted Sentiment', labels={'compound_norm_shifted': 'Shifted Sentiment', 'bitcoin_norm': 'Bitcoin price'})\n",
    "fig.update_traces(mode='lines')\n",
    "fig.show()"
   ]
  },
  {
   "cell_type": "code",
   "execution_count": 19,
   "metadata": {},
   "outputs": [
    {
     "data": {
      "application/vnd.plotly.v1+json": {
       "config": {
        "plotlyServerURL": "https://plot.ly"
       },
       "data": [
        {
         "alignmentgroup": "True",
         "hovertemplate": "date=%{x}<br>people=%{text}<extra></extra>",
         "legendgroup": "",
         "marker": {
          "color": "orange",
          "pattern": {
           "shape": ""
          }
         },
         "name": "",
         "offsetgroup": "",
         "orientation": "v",
         "showlegend": false,
         "text": [
          45,
          690,
          195,
          148,
          141,
          179,
          373,
          138
         ],
         "textposition": "auto",
         "type": "bar",
         "x": [
          "2024-12-04",
          "2024-12-05",
          "2024-12-06",
          "2024-12-07",
          "2024-12-08",
          "2024-12-09",
          "2024-12-10",
          "2024-12-11"
         ],
         "xaxis": "x",
         "y": [
          45,
          690,
          195,
          148,
          141,
          179,
          373,
          138
         ],
         "yaxis": "y"
        }
       ],
       "layout": {
        "barmode": "relative",
        "legend": {
         "tracegroupgap": 0
        },
        "template": {
         "data": {
          "bar": [
           {
            "error_x": {
             "color": "#2a3f5f"
            },
            "error_y": {
             "color": "#2a3f5f"
            },
            "marker": {
             "line": {
              "color": "#E5ECF6",
              "width": 0.5
             },
             "pattern": {
              "fillmode": "overlay",
              "size": 10,
              "solidity": 0.2
             }
            },
            "type": "bar"
           }
          ],
          "barpolar": [
           {
            "marker": {
             "line": {
              "color": "#E5ECF6",
              "width": 0.5
             },
             "pattern": {
              "fillmode": "overlay",
              "size": 10,
              "solidity": 0.2
             }
            },
            "type": "barpolar"
           }
          ],
          "carpet": [
           {
            "aaxis": {
             "endlinecolor": "#2a3f5f",
             "gridcolor": "white",
             "linecolor": "white",
             "minorgridcolor": "white",
             "startlinecolor": "#2a3f5f"
            },
            "baxis": {
             "endlinecolor": "#2a3f5f",
             "gridcolor": "white",
             "linecolor": "white",
             "minorgridcolor": "white",
             "startlinecolor": "#2a3f5f"
            },
            "type": "carpet"
           }
          ],
          "choropleth": [
           {
            "colorbar": {
             "outlinewidth": 0,
             "ticks": ""
            },
            "type": "choropleth"
           }
          ],
          "contour": [
           {
            "colorbar": {
             "outlinewidth": 0,
             "ticks": ""
            },
            "colorscale": [
             [
              0,
              "#0d0887"
             ],
             [
              0.1111111111111111,
              "#46039f"
             ],
             [
              0.2222222222222222,
              "#7201a8"
             ],
             [
              0.3333333333333333,
              "#9c179e"
             ],
             [
              0.4444444444444444,
              "#bd3786"
             ],
             [
              0.5555555555555556,
              "#d8576b"
             ],
             [
              0.6666666666666666,
              "#ed7953"
             ],
             [
              0.7777777777777778,
              "#fb9f3a"
             ],
             [
              0.8888888888888888,
              "#fdca26"
             ],
             [
              1,
              "#f0f921"
             ]
            ],
            "type": "contour"
           }
          ],
          "contourcarpet": [
           {
            "colorbar": {
             "outlinewidth": 0,
             "ticks": ""
            },
            "type": "contourcarpet"
           }
          ],
          "heatmap": [
           {
            "colorbar": {
             "outlinewidth": 0,
             "ticks": ""
            },
            "colorscale": [
             [
              0,
              "#0d0887"
             ],
             [
              0.1111111111111111,
              "#46039f"
             ],
             [
              0.2222222222222222,
              "#7201a8"
             ],
             [
              0.3333333333333333,
              "#9c179e"
             ],
             [
              0.4444444444444444,
              "#bd3786"
             ],
             [
              0.5555555555555556,
              "#d8576b"
             ],
             [
              0.6666666666666666,
              "#ed7953"
             ],
             [
              0.7777777777777778,
              "#fb9f3a"
             ],
             [
              0.8888888888888888,
              "#fdca26"
             ],
             [
              1,
              "#f0f921"
             ]
            ],
            "type": "heatmap"
           }
          ],
          "heatmapgl": [
           {
            "colorbar": {
             "outlinewidth": 0,
             "ticks": ""
            },
            "colorscale": [
             [
              0,
              "#0d0887"
             ],
             [
              0.1111111111111111,
              "#46039f"
             ],
             [
              0.2222222222222222,
              "#7201a8"
             ],
             [
              0.3333333333333333,
              "#9c179e"
             ],
             [
              0.4444444444444444,
              "#bd3786"
             ],
             [
              0.5555555555555556,
              "#d8576b"
             ],
             [
              0.6666666666666666,
              "#ed7953"
             ],
             [
              0.7777777777777778,
              "#fb9f3a"
             ],
             [
              0.8888888888888888,
              "#fdca26"
             ],
             [
              1,
              "#f0f921"
             ]
            ],
            "type": "heatmapgl"
           }
          ],
          "histogram": [
           {
            "marker": {
             "pattern": {
              "fillmode": "overlay",
              "size": 10,
              "solidity": 0.2
             }
            },
            "type": "histogram"
           }
          ],
          "histogram2d": [
           {
            "colorbar": {
             "outlinewidth": 0,
             "ticks": ""
            },
            "colorscale": [
             [
              0,
              "#0d0887"
             ],
             [
              0.1111111111111111,
              "#46039f"
             ],
             [
              0.2222222222222222,
              "#7201a8"
             ],
             [
              0.3333333333333333,
              "#9c179e"
             ],
             [
              0.4444444444444444,
              "#bd3786"
             ],
             [
              0.5555555555555556,
              "#d8576b"
             ],
             [
              0.6666666666666666,
              "#ed7953"
             ],
             [
              0.7777777777777778,
              "#fb9f3a"
             ],
             [
              0.8888888888888888,
              "#fdca26"
             ],
             [
              1,
              "#f0f921"
             ]
            ],
            "type": "histogram2d"
           }
          ],
          "histogram2dcontour": [
           {
            "colorbar": {
             "outlinewidth": 0,
             "ticks": ""
            },
            "colorscale": [
             [
              0,
              "#0d0887"
             ],
             [
              0.1111111111111111,
              "#46039f"
             ],
             [
              0.2222222222222222,
              "#7201a8"
             ],
             [
              0.3333333333333333,
              "#9c179e"
             ],
             [
              0.4444444444444444,
              "#bd3786"
             ],
             [
              0.5555555555555556,
              "#d8576b"
             ],
             [
              0.6666666666666666,
              "#ed7953"
             ],
             [
              0.7777777777777778,
              "#fb9f3a"
             ],
             [
              0.8888888888888888,
              "#fdca26"
             ],
             [
              1,
              "#f0f921"
             ]
            ],
            "type": "histogram2dcontour"
           }
          ],
          "mesh3d": [
           {
            "colorbar": {
             "outlinewidth": 0,
             "ticks": ""
            },
            "type": "mesh3d"
           }
          ],
          "parcoords": [
           {
            "line": {
             "colorbar": {
              "outlinewidth": 0,
              "ticks": ""
             }
            },
            "type": "parcoords"
           }
          ],
          "pie": [
           {
            "automargin": true,
            "type": "pie"
           }
          ],
          "scatter": [
           {
            "fillpattern": {
             "fillmode": "overlay",
             "size": 10,
             "solidity": 0.2
            },
            "type": "scatter"
           }
          ],
          "scatter3d": [
           {
            "line": {
             "colorbar": {
              "outlinewidth": 0,
              "ticks": ""
             }
            },
            "marker": {
             "colorbar": {
              "outlinewidth": 0,
              "ticks": ""
             }
            },
            "type": "scatter3d"
           }
          ],
          "scattercarpet": [
           {
            "marker": {
             "colorbar": {
              "outlinewidth": 0,
              "ticks": ""
             }
            },
            "type": "scattercarpet"
           }
          ],
          "scattergeo": [
           {
            "marker": {
             "colorbar": {
              "outlinewidth": 0,
              "ticks": ""
             }
            },
            "type": "scattergeo"
           }
          ],
          "scattergl": [
           {
            "marker": {
             "colorbar": {
              "outlinewidth": 0,
              "ticks": ""
             }
            },
            "type": "scattergl"
           }
          ],
          "scattermapbox": [
           {
            "marker": {
             "colorbar": {
              "outlinewidth": 0,
              "ticks": ""
             }
            },
            "type": "scattermapbox"
           }
          ],
          "scatterpolar": [
           {
            "marker": {
             "colorbar": {
              "outlinewidth": 0,
              "ticks": ""
             }
            },
            "type": "scatterpolar"
           }
          ],
          "scatterpolargl": [
           {
            "marker": {
             "colorbar": {
              "outlinewidth": 0,
              "ticks": ""
             }
            },
            "type": "scatterpolargl"
           }
          ],
          "scatterternary": [
           {
            "marker": {
             "colorbar": {
              "outlinewidth": 0,
              "ticks": ""
             }
            },
            "type": "scatterternary"
           }
          ],
          "surface": [
           {
            "colorbar": {
             "outlinewidth": 0,
             "ticks": ""
            },
            "colorscale": [
             [
              0,
              "#0d0887"
             ],
             [
              0.1111111111111111,
              "#46039f"
             ],
             [
              0.2222222222222222,
              "#7201a8"
             ],
             [
              0.3333333333333333,
              "#9c179e"
             ],
             [
              0.4444444444444444,
              "#bd3786"
             ],
             [
              0.5555555555555556,
              "#d8576b"
             ],
             [
              0.6666666666666666,
              "#ed7953"
             ],
             [
              0.7777777777777778,
              "#fb9f3a"
             ],
             [
              0.8888888888888888,
              "#fdca26"
             ],
             [
              1,
              "#f0f921"
             ]
            ],
            "type": "surface"
           }
          ],
          "table": [
           {
            "cells": {
             "fill": {
              "color": "#EBF0F8"
             },
             "line": {
              "color": "white"
             }
            },
            "header": {
             "fill": {
              "color": "#C8D4E3"
             },
             "line": {
              "color": "white"
             }
            },
            "type": "table"
           }
          ]
         },
         "layout": {
          "annotationdefaults": {
           "arrowcolor": "#2a3f5f",
           "arrowhead": 0,
           "arrowwidth": 1
          },
          "autotypenumbers": "strict",
          "coloraxis": {
           "colorbar": {
            "outlinewidth": 0,
            "ticks": ""
           }
          },
          "colorscale": {
           "diverging": [
            [
             0,
             "#8e0152"
            ],
            [
             0.1,
             "#c51b7d"
            ],
            [
             0.2,
             "#de77ae"
            ],
            [
             0.3,
             "#f1b6da"
            ],
            [
             0.4,
             "#fde0ef"
            ],
            [
             0.5,
             "#f7f7f7"
            ],
            [
             0.6,
             "#e6f5d0"
            ],
            [
             0.7,
             "#b8e186"
            ],
            [
             0.8,
             "#7fbc41"
            ],
            [
             0.9,
             "#4d9221"
            ],
            [
             1,
             "#276419"
            ]
           ],
           "sequential": [
            [
             0,
             "#0d0887"
            ],
            [
             0.1111111111111111,
             "#46039f"
            ],
            [
             0.2222222222222222,
             "#7201a8"
            ],
            [
             0.3333333333333333,
             "#9c179e"
            ],
            [
             0.4444444444444444,
             "#bd3786"
            ],
            [
             0.5555555555555556,
             "#d8576b"
            ],
            [
             0.6666666666666666,
             "#ed7953"
            ],
            [
             0.7777777777777778,
             "#fb9f3a"
            ],
            [
             0.8888888888888888,
             "#fdca26"
            ],
            [
             1,
             "#f0f921"
            ]
           ],
           "sequentialminus": [
            [
             0,
             "#0d0887"
            ],
            [
             0.1111111111111111,
             "#46039f"
            ],
            [
             0.2222222222222222,
             "#7201a8"
            ],
            [
             0.3333333333333333,
             "#9c179e"
            ],
            [
             0.4444444444444444,
             "#bd3786"
            ],
            [
             0.5555555555555556,
             "#d8576b"
            ],
            [
             0.6666666666666666,
             "#ed7953"
            ],
            [
             0.7777777777777778,
             "#fb9f3a"
            ],
            [
             0.8888888888888888,
             "#fdca26"
            ],
            [
             1,
             "#f0f921"
            ]
           ]
          },
          "colorway": [
           "#636efa",
           "#EF553B",
           "#00cc96",
           "#ab63fa",
           "#FFA15A",
           "#19d3f3",
           "#FF6692",
           "#B6E880",
           "#FF97FF",
           "#FECB52"
          ],
          "font": {
           "color": "#2a3f5f"
          },
          "geo": {
           "bgcolor": "white",
           "lakecolor": "white",
           "landcolor": "#E5ECF6",
           "showlakes": true,
           "showland": true,
           "subunitcolor": "white"
          },
          "hoverlabel": {
           "align": "left"
          },
          "hovermode": "closest",
          "mapbox": {
           "style": "light"
          },
          "paper_bgcolor": "white",
          "plot_bgcolor": "#E5ECF6",
          "polar": {
           "angularaxis": {
            "gridcolor": "white",
            "linecolor": "white",
            "ticks": ""
           },
           "bgcolor": "#E5ECF6",
           "radialaxis": {
            "gridcolor": "white",
            "linecolor": "white",
            "ticks": ""
           }
          },
          "scene": {
           "xaxis": {
            "backgroundcolor": "#E5ECF6",
            "gridcolor": "white",
            "gridwidth": 2,
            "linecolor": "white",
            "showbackground": true,
            "ticks": "",
            "zerolinecolor": "white"
           },
           "yaxis": {
            "backgroundcolor": "#E5ECF6",
            "gridcolor": "white",
            "gridwidth": 2,
            "linecolor": "white",
            "showbackground": true,
            "ticks": "",
            "zerolinecolor": "white"
           },
           "zaxis": {
            "backgroundcolor": "#E5ECF6",
            "gridcolor": "white",
            "gridwidth": 2,
            "linecolor": "white",
            "showbackground": true,
            "ticks": "",
            "zerolinecolor": "white"
           }
          },
          "shapedefaults": {
           "line": {
            "color": "#2a3f5f"
           }
          },
          "ternary": {
           "aaxis": {
            "gridcolor": "white",
            "linecolor": "white",
            "ticks": ""
           },
           "baxis": {
            "gridcolor": "white",
            "linecolor": "white",
            "ticks": ""
           },
           "bgcolor": "#E5ECF6",
           "caxis": {
            "gridcolor": "white",
            "linecolor": "white",
            "ticks": ""
           }
          },
          "title": {
           "x": 0.05
          },
          "xaxis": {
           "automargin": true,
           "gridcolor": "white",
           "linecolor": "white",
           "ticks": "",
           "title": {
            "standoff": 15
           },
           "zerolinecolor": "white",
           "zerolinewidth": 2
          },
          "yaxis": {
           "automargin": true,
           "gridcolor": "white",
           "linecolor": "white",
           "ticks": "",
           "title": {
            "standoff": 15
           },
           "zerolinecolor": "white",
           "zerolinewidth": 2
          }
         }
        },
        "title": {
         "text": "People per Day"
        },
        "xaxis": {
         "anchor": "y",
         "domain": [
          0,
          1
         ],
         "title": {
          "text": "date"
         }
        },
        "yaxis": {
         "anchor": "x",
         "domain": [
          0,
          1
         ],
         "title": {
          "text": "people"
         }
        }
       }
      }
     },
     "metadata": {},
     "output_type": "display_data"
    }
   ],
   "source": [
    "# Group by day and sum the 'people' column\n",
    "sentiments['people'] = sentiments[['positive_count','negative_count', 'neutral_count']].sum(axis=1)\n",
    "daily_people = sentiments.groupby(sentiments['date'].dt.date)['people'].sum().reset_index()\n",
    "# Plot the bar chart\n",
    "fig = px.bar(daily_people, x='date', y='people', title='People per Day', color_discrete_sequence=['orange'], text='people')\n",
    "fig.show()"
   ]
  },
  {
   "cell_type": "code",
   "execution_count": 22,
   "metadata": {},
   "outputs": [
    {
     "data": {
      "application/vnd.plotly.v1+json": {
       "config": {
        "plotlyServerURL": "https://plot.ly"
       },
       "data": [
        {
         "hovertemplate": "variable=bitcoin_norm<br>date=%{x}<br>value=%{y}<extra></extra>",
         "legendgroup": "bitcoin_norm",
         "marker": {
          "color": "#636efa",
          "symbol": "circle"
         },
         "mode": "lines",
         "name": "bitcoin_norm",
         "orientation": "v",
         "showlegend": true,
         "type": "scatter",
         "x": [
          "2024-12-04T14:10:00",
          "2024-12-04T15:20:00",
          "2024-12-04T16:10:00",
          "2024-12-04T16:30:00",
          "2024-12-04T17:20:00",
          "2024-12-04T17:40:00",
          "2024-12-04T17:50:00",
          "2024-12-05T00:30:00",
          "2024-12-05T00:40:00",
          "2024-12-05T01:30:00",
          "2024-12-05T02:30:00",
          "2024-12-05T03:50:00",
          "2024-12-05T04:00:00",
          "2024-12-05T04:40:00",
          "2024-12-05T04:50:00",
          "2024-12-05T05:10:00",
          "2024-12-05T05:20:00",
          "2024-12-05T05:40:00",
          "2024-12-05T05:50:00",
          "2024-12-05T06:10:00",
          "2024-12-05T06:20:00",
          "2024-12-05T07:20:00",
          "2024-12-05T09:10:00",
          "2024-12-05T09:20:00",
          "2024-12-05T10:20:00",
          "2024-12-05T10:30:00",
          "2024-12-05T11:10:00",
          "2024-12-05T11:30:00",
          "2024-12-05T11:40:00",
          "2024-12-05T12:40:00",
          "2024-12-05T12:50:00",
          "2024-12-05T14:10:00",
          "2024-12-05T14:20:00",
          "2024-12-05T15:20:00",
          "2024-12-05T15:30:00",
          "2024-12-05T15:40:00",
          "2024-12-05T15:50:00",
          "2024-12-05T16:30:00",
          "2024-12-05T16:50:00",
          "2024-12-05T17:00:00",
          "2024-12-05T17:40:00",
          "2024-12-05T17:50:00",
          "2024-12-05T18:50:00",
          "2024-12-05T19:20:00",
          "2024-12-05T19:30:00",
          "2024-12-05T20:30:00",
          "2024-12-05T20:40:00",
          "2024-12-05T21:30:00",
          "2024-12-05T22:30:00",
          "2024-12-05T22:40:00",
          "2024-12-05T23:50:00",
          "2024-12-06T00:00:00",
          "2024-12-06T00:20:00",
          "2024-12-06T00:30:00",
          "2024-12-06T01:20:00",
          "2024-12-06T01:50:00",
          "2024-12-06T02:00:00",
          "2024-12-06T02:20:00",
          "2024-12-06T02:50:00",
          "2024-12-06T03:20:00",
          "2024-12-06T04:10:00",
          "2024-12-06T04:30:00",
          "2024-12-06T04:40:00",
          "2024-12-06T06:50:00",
          "2024-12-06T07:10:00",
          "2024-12-06T07:20:00",
          "2024-12-06T09:30:00",
          "2024-12-06T09:50:00",
          "2024-12-06T10:40:00",
          "2024-12-06T11:30:00",
          "2024-12-06T11:50:00",
          "2024-12-06T14:10:00",
          "2024-12-06T14:20:00",
          "2024-12-06T14:30:00",
          "2024-12-06T15:20:00",
          "2024-12-06T15:40:00",
          "2024-12-06T15:50:00",
          "2024-12-06T16:50:00",
          "2024-12-06T17:00:00",
          "2024-12-06T20:20:00",
          "2024-12-06T20:40:00",
          "2024-12-06T20:50:00",
          "2024-12-07T00:10:00",
          "2024-12-07T01:40:00",
          "2024-12-07T02:50:00",
          "2024-12-07T03:40:00",
          "2024-12-07T05:10:00",
          "2024-12-07T05:30:00",
          "2024-12-07T05:40:00",
          "2024-12-07T06:40:00",
          "2024-12-07T09:20:00",
          "2024-12-07T09:50:00",
          "2024-12-07T10:10:00",
          "2024-12-07T10:30:00",
          "2024-12-07T10:40:00",
          "2024-12-07T11:20:00",
          "2024-12-07T11:40:00",
          "2024-12-07T13:10:00",
          "2024-12-07T13:20:00",
          "2024-12-07T14:20:00",
          "2024-12-07T14:30:00",
          "2024-12-07T15:30:00",
          "2024-12-07T15:40:00",
          "2024-12-07T16:40:00",
          "2024-12-07T16:50:00",
          "2024-12-07T17:50:00",
          "2024-12-07T18:00:00",
          "2024-12-07T20:30:00",
          "2024-12-07T23:10:00",
          "2024-12-08T00:20:00",
          "2024-12-08T00:30:00",
          "2024-12-08T01:10:00",
          "2024-12-08T02:20:00",
          "2024-12-08T02:30:00",
          "2024-12-08T03:30:00",
          "2024-12-08T04:40:00",
          "2024-12-08T05:50:00",
          "2024-12-08T06:10:00",
          "2024-12-08T09:20:00",
          "2024-12-08T09:40:00",
          "2024-12-08T09:50:00",
          "2024-12-08T10:50:00",
          "2024-12-08T11:10:00",
          "2024-12-08T11:20:00",
          "2024-12-08T12:40:00",
          "2024-12-08T12:50:00",
          "2024-12-08T13:30:00",
          "2024-12-08T13:40:00",
          "2024-12-08T14:40:00",
          "2024-12-08T15:20:00",
          "2024-12-08T16:30:00",
          "2024-12-08T16:40:00",
          "2024-12-08T18:50:00",
          "2024-12-08T19:00:00",
          "2024-12-08T21:10:00",
          "2024-12-08T21:20:00",
          "2024-12-08T23:50:00",
          "2024-12-09T00:00:00",
          "2024-12-09T01:20:00",
          "2024-12-09T01:30:00",
          "2024-12-09T02:30:00",
          "2024-12-09T02:50:00",
          "2024-12-09T04:20:00",
          "2024-12-09T05:30:00",
          "2024-12-09T05:50:00",
          "2024-12-09T06:40:00",
          "2024-12-09T09:40:00",
          "2024-12-09T10:50:00",
          "2024-12-09T12:20:00",
          "2024-12-09T13:30:00",
          "2024-12-09T13:40:00",
          "2024-12-09T13:50:00",
          "2024-12-09T16:10:00",
          "2024-12-09T16:20:00",
          "2024-12-09T17:20:00",
          "2024-12-09T17:30:00",
          "2024-12-09T19:20:00",
          "2024-12-09T19:30:00",
          "2024-12-09T20:10:00",
          "2024-12-09T20:20:00",
          "2024-12-09T20:40:00",
          "2024-12-09T20:50:00",
          "2024-12-09T21:10:00",
          "2024-12-09T21:40:00",
          "2024-12-09T21:50:00",
          "2024-12-09T22:30:00",
          "2024-12-09T23:50:00",
          "2024-12-10T00:10:00",
          "2024-12-10T02:20:00",
          "2024-12-10T02:30:00",
          "2024-12-10T03:10:00",
          "2024-12-10T03:20:00",
          "2024-12-10T03:40:00",
          "2024-12-10T03:50:00",
          "2024-12-10T04:10:00",
          "2024-12-10T04:40:00",
          "2024-12-10T04:50:00",
          "2024-12-10T05:50:00",
          "2024-12-10T06:10:00",
          "2024-12-10T06:40:00",
          "2024-12-10T07:10:00",
          "2024-12-10T07:40:00",
          "2024-12-10T07:50:00",
          "2024-12-10T09:10:00",
          "2024-12-10T09:20:00",
          "2024-12-10T09:40:00",
          "2024-12-10T09:50:00",
          "2024-12-10T10:10:00",
          "2024-12-10T11:30:00",
          "2024-12-10T12:30:00",
          "2024-12-10T12:40:00",
          "2024-12-10T13:30:00",
          "2024-12-10T13:40:00",
          "2024-12-10T14:20:00",
          "2024-12-10T14:30:00",
          "2024-12-10T14:50:00",
          "2024-12-10T15:20:00",
          "2024-12-10T15:30:00",
          "2024-12-10T15:50:00",
          "2024-12-10T16:00:00",
          "2024-12-10T16:50:00",
          "2024-12-10T17:00:00",
          "2024-12-10T17:20:00",
          "2024-12-10T17:30:00",
          "2024-12-10T17:50:00",
          "2024-12-10T18:00:00",
          "2024-12-10T18:20:00",
          "2024-12-10T18:30:00",
          "2024-12-10T18:50:00",
          "2024-12-10T19:00:00",
          "2024-12-10T19:20:00",
          "2024-12-10T19:30:00",
          "2024-12-10T19:50:00",
          "2024-12-10T20:00:00",
          "2024-12-10T20:40:00",
          "2024-12-10T21:10:00",
          "2024-12-10T21:20:00",
          "2024-12-10T21:40:00",
          "2024-12-10T21:50:00",
          "2024-12-10T22:10:00",
          "2024-12-10T22:40:00",
          "2024-12-10T23:10:00",
          "2024-12-10T23:40:00",
          "2024-12-11T01:10:00",
          "2024-12-11T01:30:00",
          "2024-12-11T01:40:00",
          "2024-12-11T02:20:00",
          "2024-12-11T02:30:00",
          "2024-12-11T02:50:00",
          "2024-12-11T03:20:00",
          "2024-12-11T03:30:00",
          "2024-12-11T03:50:00",
          "2024-12-11T04:00:00",
          "2024-12-11T04:20:00",
          "2024-12-11T04:30:00",
          "2024-12-11T04:50:00",
          "2024-12-11T05:00:00",
          "2024-12-11T05:20:00",
          "2024-12-11T05:50:00",
          "2024-12-11T06:20:00",
          "2024-12-11T06:50:00",
          "2024-12-11T07:40:00",
          "2024-12-11T08:10:00",
          "2024-12-11T09:10:00",
          "2024-12-11T09:40:00",
          "2024-12-11T09:50:00",
          "2024-12-11T10:10:00",
          "2024-12-11T10:40:00",
          "2024-12-11T10:50:00",
          "2024-12-11T11:10:00",
          "2024-12-11T11:20:00",
          "2024-12-11T11:40:00",
          "2024-12-11T12:10:00",
          "2024-12-11T12:20:00"
         ],
         "xaxis": "x",
         "y": [
          0.12411111111111112,
          0.14455555555555555,
          0.11033333333333334,
          0.059666666666666666,
          0.04611111111111111,
          0.07977777777777778,
          0.06544444444444444,
          0.48544444444444446,
          0.448,
          0.43722222222222223,
          0.45844444444444443,
          0.9546666666666667,
          0.9856666666666667,
          0.8977777777777778,
          0.9308888888888889,
          0.9835555555555555,
          0.9634444444444444,
          0.9568888888888889,
          0.8386666666666667,
          0.8837777777777778,
          0.8218888888888889,
          0.755,
          0.9026666666666666,
          0.9522222222222222,
          0.9154444444444444,
          0.9056666666666666,
          0.8717777777777778,
          0.8731111111111111,
          0.8884444444444445,
          0.9292222222222222,
          0.9245555555555556,
          0.9146666666666666,
          0.9145555555555556,
          0.9817777777777777,
          0.8811111111111111,
          0.8192222222222222,
          0.8052222222222222,
          0.829,
          0.7817777777777778,
          0.7627777777777778,
          0.7165555555555555,
          0.7204444444444444,
          0.6908888888888889,
          0.6795555555555556,
          0.7067777777777777,
          0.437,
          0.4776666666666667,
          0.5296666666666666,
          0.417,
          0.0971111111111111,
          0.23622222222222222,
          0.29488888888888887,
          0.2833333333333333,
          0.2952222222222222,
          0.3188888888888889,
          0.44855555555555554,
          0.4702222222222222,
          0.37777777777777777,
          0.3632222222222222,
          0.32966666666666666,
          0.35588888888888887,
          0.33211111111111113,
          0.3728888888888889,
          0.38255555555555554,
          0.38966666666666666,
          0.37155555555555553,
          0.4176666666666667,
          0.418,
          0.388,
          0.4037777777777778,
          0.3808888888888889,
          0.43233333333333335,
          0.46166666666666667,
          0.49044444444444446,
          0.48377777777777775,
          0.49666666666666665,
          0.48055555555555557,
          0.4881111111111111,
          0.491,
          0.808,
          0.8256666666666667,
          0.7861111111111111,
          0.614,
          0.6357777777777778,
          0.6167777777777778,
          0.5658888888888889,
          0.5471111111111111,
          0.5641111111111111,
          0.5321111111111111,
          0.5433333333333333,
          0.574,
          0.5657777777777778,
          0.5794444444444444,
          0.5593333333333333,
          0.5511111111111111,
          0.557,
          0.5671111111111111,
          0.5482222222222223,
          0.5455555555555556,
          0.5168888888888888,
          0.5282222222222223,
          0.5578888888888889,
          0.5586666666666666,
          0.5632222222222222,
          0.5726666666666667,
          0.5686666666666667,
          0.5676666666666667,
          0.6361111111111111,
          0.5952222222222222,
          0.5776666666666667,
          0.5942222222222222,
          0.6227777777777778,
          0.6073333333333333,
          0.6338888888888888,
          0.6121111111111112,
          0.5813333333333334,
          0.5441111111111111,
          0.5448888888888889,
          0.5252222222222223,
          0.5245555555555556,
          0.5018888888888889,
          0.5305555555555556,
          0.5171111111111111,
          0.5314444444444445,
          0.5698888888888889,
          0.5941111111111111,
          0.6276666666666667,
          0.6218888888888889,
          0.6177777777777778,
          0.5601111111111111,
          0.5816666666666667,
          0.5907777777777777,
          0.5804444444444444,
          0.5786666666666667,
          0.5792222222222222,
          0.5843333333333334,
          0.6815555555555556,
          0.7524444444444445,
          0.5551111111111111,
          0.5724444444444444,
          0.525,
          0.5053333333333333,
          0.5252222222222223,
          0.5488888888888889,
          0.556,
          0.5037777777777778,
          0.42944444444444446,
          0.42233333333333334,
          0.41533333333333333,
          0.49333333333333335,
          0.5,
          0.49944444444444447,
          0.35988888888888887,
          0.39055555555555554,
          0.3672222222222222,
          0.3576666666666667,
          0.324,
          0.33055555555555555,
          0.26811111111111113,
          0.26266666666666666,
          0.23244444444444445,
          0.21122222222222223,
          0.197,
          0.30577777777777776,
          0.2408888888888889,
          0.28044444444444444,
          0.30977777777777776,
          0.2777777777777778,
          0.3675555555555556,
          0.31677777777777777,
          0.1981111111111111,
          0.17733333333333334,
          0.18433333333333332,
          0.263,
          0.21622222222222223,
          0.2638888888888889,
          0.25522222222222224,
          0.2568888888888889,
          0.2806666666666667,
          0.29744444444444446,
          0.29433333333333334,
          0.26211111111111113,
          0.29655555555555557,
          0.3343333333333333,
          0.3357777777777778,
          0.3312222222222222,
          0.30144444444444446,
          0.3451111111111111,
          0.3532222222222222,
          0.3041111111111111,
          0.28833333333333333,
          0.3273333333333333,
          0.34044444444444444,
          0.37866666666666665,
          0.3841111111111111,
          0.4092222222222222,
          0.33944444444444444,
          0.26266666666666666,
          0.17744444444444443,
          0.13266666666666665,
          0.023666666666666666,
          0.2131111111111111,
          0.025,
          0.009333333333333334,
          0.08588888888888889,
          0.00044444444444444447,
          0.06344444444444444,
          0.059444444444444446,
          0.10633333333333334,
          0.05388888888888889,
          0.11822222222222223,
          0.15955555555555556,
          0.11155555555555556,
          0.15333333333333332,
          0.1978888888888889,
          0.24644444444444444,
          0.22444444444444445,
          0.2683333333333333,
          0.2597777777777778,
          0.2693333333333333,
          0.26055555555555554,
          0.2776666666666667,
          0.26122222222222224,
          0.19077777777777777,
          0.161,
          0.2222222222222222,
          0.1771111111111111,
          0.18955555555555556,
          0.31555555555555553,
          0.3224444444444444,
          0.31344444444444447,
          0.31422222222222224,
          0.31422222222222224,
          0.30966666666666665,
          0.3015555555555556,
          0.30622222222222223,
          0.3318888888888889,
          0.31433333333333335,
          0.32355555555555554,
          0.33766666666666667,
          0.3397777777777778,
          0.32,
          0.34644444444444444,
          0.37866666666666665,
          0.3658888888888889,
          0.37477777777777777,
          0.3932222222222222,
          0.3791111111111111,
          0.3854444444444444,
          0.4112222222222222,
          0.429,
          0.41955555555555557,
          0.4246666666666667,
          0.43344444444444447
         ],
         "yaxis": "y"
        },
        {
         "hovertemplate": "variable=people_norm<br>date=%{x}<br>value=%{y}<extra></extra>",
         "legendgroup": "people_norm",
         "marker": {
          "color": "#EF553B",
          "symbol": "circle"
         },
         "mode": "lines",
         "name": "people_norm",
         "orientation": "v",
         "showlegend": true,
         "type": "scatter",
         "x": [
          "2024-12-04T14:10:00",
          "2024-12-04T15:20:00",
          "2024-12-04T16:10:00",
          "2024-12-04T16:30:00",
          "2024-12-04T17:20:00",
          "2024-12-04T17:40:00",
          "2024-12-04T17:50:00",
          "2024-12-05T00:30:00",
          "2024-12-05T00:40:00",
          "2024-12-05T01:30:00",
          "2024-12-05T02:30:00",
          "2024-12-05T03:50:00",
          "2024-12-05T04:00:00",
          "2024-12-05T04:40:00",
          "2024-12-05T04:50:00",
          "2024-12-05T05:10:00",
          "2024-12-05T05:20:00",
          "2024-12-05T05:40:00",
          "2024-12-05T05:50:00",
          "2024-12-05T06:10:00",
          "2024-12-05T06:20:00",
          "2024-12-05T07:20:00",
          "2024-12-05T09:10:00",
          "2024-12-05T09:20:00",
          "2024-12-05T10:20:00",
          "2024-12-05T10:30:00",
          "2024-12-05T11:10:00",
          "2024-12-05T11:30:00",
          "2024-12-05T11:40:00",
          "2024-12-05T12:40:00",
          "2024-12-05T12:50:00",
          "2024-12-05T14:10:00",
          "2024-12-05T14:20:00",
          "2024-12-05T15:20:00",
          "2024-12-05T15:30:00",
          "2024-12-05T15:40:00",
          "2024-12-05T15:50:00",
          "2024-12-05T16:30:00",
          "2024-12-05T16:50:00",
          "2024-12-05T17:00:00",
          "2024-12-05T17:40:00",
          "2024-12-05T17:50:00",
          "2024-12-05T18:50:00",
          "2024-12-05T19:20:00",
          "2024-12-05T19:30:00",
          "2024-12-05T20:30:00",
          "2024-12-05T20:40:00",
          "2024-12-05T21:30:00",
          "2024-12-05T22:30:00",
          "2024-12-05T22:40:00",
          "2024-12-05T23:50:00",
          "2024-12-06T00:00:00",
          "2024-12-06T00:20:00",
          "2024-12-06T00:30:00",
          "2024-12-06T01:20:00",
          "2024-12-06T01:50:00",
          "2024-12-06T02:00:00",
          "2024-12-06T02:20:00",
          "2024-12-06T02:50:00",
          "2024-12-06T03:20:00",
          "2024-12-06T04:10:00",
          "2024-12-06T04:30:00",
          "2024-12-06T04:40:00",
          "2024-12-06T06:50:00",
          "2024-12-06T07:10:00",
          "2024-12-06T07:20:00",
          "2024-12-06T09:30:00",
          "2024-12-06T09:50:00",
          "2024-12-06T10:40:00",
          "2024-12-06T11:30:00",
          "2024-12-06T11:50:00",
          "2024-12-06T14:10:00",
          "2024-12-06T14:20:00",
          "2024-12-06T14:30:00",
          "2024-12-06T15:20:00",
          "2024-12-06T15:40:00",
          "2024-12-06T15:50:00",
          "2024-12-06T16:50:00",
          "2024-12-06T17:00:00",
          "2024-12-06T20:20:00",
          "2024-12-06T20:40:00",
          "2024-12-06T20:50:00",
          "2024-12-07T00:10:00",
          "2024-12-07T01:40:00",
          "2024-12-07T02:50:00",
          "2024-12-07T03:40:00",
          "2024-12-07T05:10:00",
          "2024-12-07T05:30:00",
          "2024-12-07T05:40:00",
          "2024-12-07T06:40:00",
          "2024-12-07T09:20:00",
          "2024-12-07T09:50:00",
          "2024-12-07T10:10:00",
          "2024-12-07T10:30:00",
          "2024-12-07T10:40:00",
          "2024-12-07T11:20:00",
          "2024-12-07T11:40:00",
          "2024-12-07T13:10:00",
          "2024-12-07T13:20:00",
          "2024-12-07T14:20:00",
          "2024-12-07T14:30:00",
          "2024-12-07T15:30:00",
          "2024-12-07T15:40:00",
          "2024-12-07T16:40:00",
          "2024-12-07T16:50:00",
          "2024-12-07T17:50:00",
          "2024-12-07T18:00:00",
          "2024-12-07T20:30:00",
          "2024-12-07T23:10:00",
          "2024-12-08T00:20:00",
          "2024-12-08T00:30:00",
          "2024-12-08T01:10:00",
          "2024-12-08T02:20:00",
          "2024-12-08T02:30:00",
          "2024-12-08T03:30:00",
          "2024-12-08T04:40:00",
          "2024-12-08T05:50:00",
          "2024-12-08T06:10:00",
          "2024-12-08T09:20:00",
          "2024-12-08T09:40:00",
          "2024-12-08T09:50:00",
          "2024-12-08T10:50:00",
          "2024-12-08T11:10:00",
          "2024-12-08T11:20:00",
          "2024-12-08T12:40:00",
          "2024-12-08T12:50:00",
          "2024-12-08T13:30:00",
          "2024-12-08T13:40:00",
          "2024-12-08T14:40:00",
          "2024-12-08T15:20:00",
          "2024-12-08T16:30:00",
          "2024-12-08T16:40:00",
          "2024-12-08T18:50:00",
          "2024-12-08T19:00:00",
          "2024-12-08T21:10:00",
          "2024-12-08T21:20:00",
          "2024-12-08T23:50:00",
          "2024-12-09T00:00:00",
          "2024-12-09T01:20:00",
          "2024-12-09T01:30:00",
          "2024-12-09T02:30:00",
          "2024-12-09T02:50:00",
          "2024-12-09T04:20:00",
          "2024-12-09T05:30:00",
          "2024-12-09T05:50:00",
          "2024-12-09T06:40:00",
          "2024-12-09T09:40:00",
          "2024-12-09T10:50:00",
          "2024-12-09T12:20:00",
          "2024-12-09T13:30:00",
          "2024-12-09T13:40:00",
          "2024-12-09T13:50:00",
          "2024-12-09T16:10:00",
          "2024-12-09T16:20:00",
          "2024-12-09T17:20:00",
          "2024-12-09T17:30:00",
          "2024-12-09T19:20:00",
          "2024-12-09T19:30:00",
          "2024-12-09T20:10:00",
          "2024-12-09T20:20:00",
          "2024-12-09T20:40:00",
          "2024-12-09T20:50:00",
          "2024-12-09T21:10:00",
          "2024-12-09T21:40:00",
          "2024-12-09T21:50:00",
          "2024-12-09T22:30:00",
          "2024-12-09T23:50:00",
          "2024-12-10T00:10:00",
          "2024-12-10T02:20:00",
          "2024-12-10T02:30:00",
          "2024-12-10T03:10:00",
          "2024-12-10T03:20:00",
          "2024-12-10T03:40:00",
          "2024-12-10T03:50:00",
          "2024-12-10T04:10:00",
          "2024-12-10T04:40:00",
          "2024-12-10T04:50:00",
          "2024-12-10T05:50:00",
          "2024-12-10T06:10:00",
          "2024-12-10T06:40:00",
          "2024-12-10T07:10:00",
          "2024-12-10T07:40:00",
          "2024-12-10T07:50:00",
          "2024-12-10T09:10:00",
          "2024-12-10T09:20:00",
          "2024-12-10T09:40:00",
          "2024-12-10T09:50:00",
          "2024-12-10T10:10:00",
          "2024-12-10T11:30:00",
          "2024-12-10T12:30:00",
          "2024-12-10T12:40:00",
          "2024-12-10T13:30:00",
          "2024-12-10T13:40:00",
          "2024-12-10T14:20:00",
          "2024-12-10T14:30:00",
          "2024-12-10T14:50:00",
          "2024-12-10T15:20:00",
          "2024-12-10T15:30:00",
          "2024-12-10T15:50:00",
          "2024-12-10T16:00:00",
          "2024-12-10T16:50:00",
          "2024-12-10T17:00:00",
          "2024-12-10T17:20:00",
          "2024-12-10T17:30:00",
          "2024-12-10T17:50:00",
          "2024-12-10T18:00:00",
          "2024-12-10T18:20:00",
          "2024-12-10T18:30:00",
          "2024-12-10T18:50:00",
          "2024-12-10T19:00:00",
          "2024-12-10T19:20:00",
          "2024-12-10T19:30:00",
          "2024-12-10T19:50:00",
          "2024-12-10T20:00:00",
          "2024-12-10T20:40:00",
          "2024-12-10T21:10:00",
          "2024-12-10T21:20:00",
          "2024-12-10T21:40:00",
          "2024-12-10T21:50:00",
          "2024-12-10T22:10:00",
          "2024-12-10T22:40:00",
          "2024-12-10T23:10:00",
          "2024-12-10T23:40:00",
          "2024-12-11T01:10:00",
          "2024-12-11T01:30:00",
          "2024-12-11T01:40:00",
          "2024-12-11T02:20:00",
          "2024-12-11T02:30:00",
          "2024-12-11T02:50:00",
          "2024-12-11T03:20:00",
          "2024-12-11T03:30:00",
          "2024-12-11T03:50:00",
          "2024-12-11T04:00:00",
          "2024-12-11T04:20:00",
          "2024-12-11T04:30:00",
          "2024-12-11T04:50:00",
          "2024-12-11T05:00:00",
          "2024-12-11T05:20:00",
          "2024-12-11T05:50:00",
          "2024-12-11T06:20:00",
          "2024-12-11T06:50:00",
          "2024-12-11T07:40:00",
          "2024-12-11T08:10:00",
          "2024-12-11T09:10:00",
          "2024-12-11T09:40:00",
          "2024-12-11T09:50:00",
          "2024-12-11T10:10:00",
          "2024-12-11T10:40:00",
          "2024-12-11T10:50:00",
          "2024-12-11T11:10:00",
          "2024-12-11T11:20:00",
          "2024-12-11T11:40:00",
          "2024-12-11T12:10:00",
          "2024-12-11T12:20:00"
         ],
         "xaxis": "x",
         "y": [
          0.12307692307692308,
          0.06153846153846154,
          0,
          0.13846153846153847,
          0,
          0.23076923076923078,
          0.03076923076923077,
          0,
          0,
          0.07692307692307693,
          0,
          1,
          0.07692307692307693,
          0.6,
          0.07692307692307693,
          0.7076923076923077,
          0.03076923076923077,
          0.5538461538461539,
          0,
          0.6153846153846154,
          0.06153846153846154,
          0.26153846153846155,
          0.4,
          0.015384615384615385,
          0.4307692307692308,
          0.015384615384615385,
          0.015384615384615385,
          0.3230769230769231,
          0,
          0.27692307692307694,
          0.046153846153846156,
          0.5384615384615384,
          0,
          0.4307692307692308,
          0.15384615384615385,
          0.27692307692307694,
          0.03076923076923077,
          0.18461538461538463,
          0.46153846153846156,
          0.015384615384615385,
          0.38461538461538464,
          0.03076923076923077,
          0.18461538461538463,
          0.2153846153846154,
          0.015384615384615385,
          0.4461538461538462,
          0.046153846153846156,
          0.4,
          0.1076923076923077,
          0.06153846153846154,
          0.36923076923076925,
          0.03076923076923077,
          0.12307692307692308,
          0.015384615384615385,
          0.15384615384615385,
          0.4153846153846154,
          0,
          0.2153846153846154,
          0.2153846153846154,
          0.06153846153846154,
          0,
          0.16923076923076924,
          0.015384615384615385,
          0.03076923076923077,
          0.06153846153846154,
          0,
          0.03076923076923077,
          0.12307692307692308,
          0,
          0,
          0.07692307692307693,
          0.1076923076923077,
          0,
          0.12307692307692308,
          0.15384615384615385,
          0.07692307692307693,
          0.015384615384615385,
          0.06153846153846154,
          0.015384615384615385,
          0.015384615384615385,
          0.2153846153846154,
          0,
          0.015384615384615385,
          0.13846153846153847,
          0.1076923076923077,
          0,
          0.03076923076923077,
          0.2153846153846154,
          0,
          0.16923076923076924,
          0.03076923076923077,
          0,
          0.06153846153846154,
          0.16923076923076924,
          0.015384615384615385,
          0.046153846153846156,
          0.09230769230769231,
          0.09230769230769231,
          0.046153846153846156,
          0.1076923076923077,
          0.06153846153846154,
          0.015384615384615385,
          0,
          0.12307692307692308,
          0,
          0.09230769230769231,
          0.06153846153846154,
          0.12307692307692308,
          0.046153846153846156,
          0.16923076923076924,
          0,
          0.06153846153846154,
          0.13846153846153847,
          0.015384615384615385,
          0.03076923076923077,
          0.06153846153846154,
          0.046153846153846156,
          0.03076923076923077,
          0.09230769230769231,
          0.015384615384615385,
          0,
          0.015384615384615385,
          0.015384615384615385,
          0,
          0.1076923076923077,
          0,
          0.1076923076923077,
          0.015384615384615385,
          0.07692307692307693,
          0.07692307692307693,
          0.09230769230769231,
          0,
          0.38461538461538464,
          0.06153846153846154,
          0.09230769230769231,
          0,
          0.03076923076923077,
          0,
          0.13846153846153847,
          0.015384615384615385,
          0,
          0.03076923076923077,
          0.03076923076923077,
          0.06153846153846154,
          0.015384615384615385,
          0.046153846153846156,
          0,
          0,
          0.15384615384615385,
          0.16923076923076924,
          0.046153846153846156,
          0.09230769230769231,
          0.015384615384615385,
          0.03076923076923077,
          0.18461538461538463,
          0.09230769230769231,
          0.24615384615384617,
          0.015384615384615385,
          0.13846153846153847,
          0.015384615384615385,
          0.2,
          0.03076923076923077,
          0.046153846153846156,
          0.3076923076923077,
          0,
          0.15384615384615385,
          0.015384615384615385,
          0.015384615384615385,
          0.046153846153846156,
          0.015384615384615385,
          0.12307692307692308,
          0.015384615384615385,
          0.3230769230769231,
          0.07692307692307693,
          0.18461538461538463,
          0.1076923076923077,
          0,
          0,
          0.07692307692307693,
          0.06153846153846154,
          0.06153846153846154,
          0.15384615384615385,
          0.015384615384615385,
          0.046153846153846156,
          0,
          0.09230769230769231,
          0,
          0.1076923076923077,
          0.03076923076923077,
          0.1076923076923077,
          0.015384615384615385,
          0.15384615384615385,
          0,
          0.15384615384615385,
          0,
          0.06153846153846154,
          0.16923076923076924,
          0.15384615384615385,
          0.2153846153846154,
          0,
          0.24615384615384617,
          0.046153846153846156,
          0.23076923076923078,
          0.07692307692307693,
          0.03076923076923077,
          0.03076923076923077,
          0.07692307692307693,
          0.015384615384615385,
          0.36923076923076925,
          0.07692307692307693,
          0.23076923076923078,
          0.03076923076923077,
          0.03076923076923077,
          0.015384615384615385,
          0.07692307692307693,
          0.24615384615384617,
          0.03076923076923077,
          0.15384615384615385,
          0,
          0.09230769230769231,
          0,
          0.15384615384615385,
          0.03076923076923077,
          0.015384615384615385,
          0.03076923076923077,
          0,
          0.046153846153846156,
          0.015384615384615385,
          0.03076923076923077,
          0.12307692307692308,
          0,
          0.18461538461538463,
          0.015384615384615385,
          0.18461538461538463,
          0,
          0.046153846153846156,
          0,
          0.06153846153846154,
          0.03076923076923077,
          0.12307692307692308,
          0.13846153846153847,
          0.03076923076923077,
          0,
          0.03076923076923077,
          0,
          0,
          0.03076923076923077,
          0.18461538461538463,
          0,
          0.15384615384615385,
          0,
          0.07692307692307693,
          0.06153846153846154,
          0.03076923076923077
         ],
         "yaxis": "y"
        }
       ],
       "layout": {
        "legend": {
         "title": {
          "text": "variable"
         },
         "tracegroupgap": 0
        },
        "template": {
         "data": {
          "bar": [
           {
            "error_x": {
             "color": "#2a3f5f"
            },
            "error_y": {
             "color": "#2a3f5f"
            },
            "marker": {
             "line": {
              "color": "#E5ECF6",
              "width": 0.5
             },
             "pattern": {
              "fillmode": "overlay",
              "size": 10,
              "solidity": 0.2
             }
            },
            "type": "bar"
           }
          ],
          "barpolar": [
           {
            "marker": {
             "line": {
              "color": "#E5ECF6",
              "width": 0.5
             },
             "pattern": {
              "fillmode": "overlay",
              "size": 10,
              "solidity": 0.2
             }
            },
            "type": "barpolar"
           }
          ],
          "carpet": [
           {
            "aaxis": {
             "endlinecolor": "#2a3f5f",
             "gridcolor": "white",
             "linecolor": "white",
             "minorgridcolor": "white",
             "startlinecolor": "#2a3f5f"
            },
            "baxis": {
             "endlinecolor": "#2a3f5f",
             "gridcolor": "white",
             "linecolor": "white",
             "minorgridcolor": "white",
             "startlinecolor": "#2a3f5f"
            },
            "type": "carpet"
           }
          ],
          "choropleth": [
           {
            "colorbar": {
             "outlinewidth": 0,
             "ticks": ""
            },
            "type": "choropleth"
           }
          ],
          "contour": [
           {
            "colorbar": {
             "outlinewidth": 0,
             "ticks": ""
            },
            "colorscale": [
             [
              0,
              "#0d0887"
             ],
             [
              0.1111111111111111,
              "#46039f"
             ],
             [
              0.2222222222222222,
              "#7201a8"
             ],
             [
              0.3333333333333333,
              "#9c179e"
             ],
             [
              0.4444444444444444,
              "#bd3786"
             ],
             [
              0.5555555555555556,
              "#d8576b"
             ],
             [
              0.6666666666666666,
              "#ed7953"
             ],
             [
              0.7777777777777778,
              "#fb9f3a"
             ],
             [
              0.8888888888888888,
              "#fdca26"
             ],
             [
              1,
              "#f0f921"
             ]
            ],
            "type": "contour"
           }
          ],
          "contourcarpet": [
           {
            "colorbar": {
             "outlinewidth": 0,
             "ticks": ""
            },
            "type": "contourcarpet"
           }
          ],
          "heatmap": [
           {
            "colorbar": {
             "outlinewidth": 0,
             "ticks": ""
            },
            "colorscale": [
             [
              0,
              "#0d0887"
             ],
             [
              0.1111111111111111,
              "#46039f"
             ],
             [
              0.2222222222222222,
              "#7201a8"
             ],
             [
              0.3333333333333333,
              "#9c179e"
             ],
             [
              0.4444444444444444,
              "#bd3786"
             ],
             [
              0.5555555555555556,
              "#d8576b"
             ],
             [
              0.6666666666666666,
              "#ed7953"
             ],
             [
              0.7777777777777778,
              "#fb9f3a"
             ],
             [
              0.8888888888888888,
              "#fdca26"
             ],
             [
              1,
              "#f0f921"
             ]
            ],
            "type": "heatmap"
           }
          ],
          "heatmapgl": [
           {
            "colorbar": {
             "outlinewidth": 0,
             "ticks": ""
            },
            "colorscale": [
             [
              0,
              "#0d0887"
             ],
             [
              0.1111111111111111,
              "#46039f"
             ],
             [
              0.2222222222222222,
              "#7201a8"
             ],
             [
              0.3333333333333333,
              "#9c179e"
             ],
             [
              0.4444444444444444,
              "#bd3786"
             ],
             [
              0.5555555555555556,
              "#d8576b"
             ],
             [
              0.6666666666666666,
              "#ed7953"
             ],
             [
              0.7777777777777778,
              "#fb9f3a"
             ],
             [
              0.8888888888888888,
              "#fdca26"
             ],
             [
              1,
              "#f0f921"
             ]
            ],
            "type": "heatmapgl"
           }
          ],
          "histogram": [
           {
            "marker": {
             "pattern": {
              "fillmode": "overlay",
              "size": 10,
              "solidity": 0.2
             }
            },
            "type": "histogram"
           }
          ],
          "histogram2d": [
           {
            "colorbar": {
             "outlinewidth": 0,
             "ticks": ""
            },
            "colorscale": [
             [
              0,
              "#0d0887"
             ],
             [
              0.1111111111111111,
              "#46039f"
             ],
             [
              0.2222222222222222,
              "#7201a8"
             ],
             [
              0.3333333333333333,
              "#9c179e"
             ],
             [
              0.4444444444444444,
              "#bd3786"
             ],
             [
              0.5555555555555556,
              "#d8576b"
             ],
             [
              0.6666666666666666,
              "#ed7953"
             ],
             [
              0.7777777777777778,
              "#fb9f3a"
             ],
             [
              0.8888888888888888,
              "#fdca26"
             ],
             [
              1,
              "#f0f921"
             ]
            ],
            "type": "histogram2d"
           }
          ],
          "histogram2dcontour": [
           {
            "colorbar": {
             "outlinewidth": 0,
             "ticks": ""
            },
            "colorscale": [
             [
              0,
              "#0d0887"
             ],
             [
              0.1111111111111111,
              "#46039f"
             ],
             [
              0.2222222222222222,
              "#7201a8"
             ],
             [
              0.3333333333333333,
              "#9c179e"
             ],
             [
              0.4444444444444444,
              "#bd3786"
             ],
             [
              0.5555555555555556,
              "#d8576b"
             ],
             [
              0.6666666666666666,
              "#ed7953"
             ],
             [
              0.7777777777777778,
              "#fb9f3a"
             ],
             [
              0.8888888888888888,
              "#fdca26"
             ],
             [
              1,
              "#f0f921"
             ]
            ],
            "type": "histogram2dcontour"
           }
          ],
          "mesh3d": [
           {
            "colorbar": {
             "outlinewidth": 0,
             "ticks": ""
            },
            "type": "mesh3d"
           }
          ],
          "parcoords": [
           {
            "line": {
             "colorbar": {
              "outlinewidth": 0,
              "ticks": ""
             }
            },
            "type": "parcoords"
           }
          ],
          "pie": [
           {
            "automargin": true,
            "type": "pie"
           }
          ],
          "scatter": [
           {
            "fillpattern": {
             "fillmode": "overlay",
             "size": 10,
             "solidity": 0.2
            },
            "type": "scatter"
           }
          ],
          "scatter3d": [
           {
            "line": {
             "colorbar": {
              "outlinewidth": 0,
              "ticks": ""
             }
            },
            "marker": {
             "colorbar": {
              "outlinewidth": 0,
              "ticks": ""
             }
            },
            "type": "scatter3d"
           }
          ],
          "scattercarpet": [
           {
            "marker": {
             "colorbar": {
              "outlinewidth": 0,
              "ticks": ""
             }
            },
            "type": "scattercarpet"
           }
          ],
          "scattergeo": [
           {
            "marker": {
             "colorbar": {
              "outlinewidth": 0,
              "ticks": ""
             }
            },
            "type": "scattergeo"
           }
          ],
          "scattergl": [
           {
            "marker": {
             "colorbar": {
              "outlinewidth": 0,
              "ticks": ""
             }
            },
            "type": "scattergl"
           }
          ],
          "scattermapbox": [
           {
            "marker": {
             "colorbar": {
              "outlinewidth": 0,
              "ticks": ""
             }
            },
            "type": "scattermapbox"
           }
          ],
          "scatterpolar": [
           {
            "marker": {
             "colorbar": {
              "outlinewidth": 0,
              "ticks": ""
             }
            },
            "type": "scatterpolar"
           }
          ],
          "scatterpolargl": [
           {
            "marker": {
             "colorbar": {
              "outlinewidth": 0,
              "ticks": ""
             }
            },
            "type": "scatterpolargl"
           }
          ],
          "scatterternary": [
           {
            "marker": {
             "colorbar": {
              "outlinewidth": 0,
              "ticks": ""
             }
            },
            "type": "scatterternary"
           }
          ],
          "surface": [
           {
            "colorbar": {
             "outlinewidth": 0,
             "ticks": ""
            },
            "colorscale": [
             [
              0,
              "#0d0887"
             ],
             [
              0.1111111111111111,
              "#46039f"
             ],
             [
              0.2222222222222222,
              "#7201a8"
             ],
             [
              0.3333333333333333,
              "#9c179e"
             ],
             [
              0.4444444444444444,
              "#bd3786"
             ],
             [
              0.5555555555555556,
              "#d8576b"
             ],
             [
              0.6666666666666666,
              "#ed7953"
             ],
             [
              0.7777777777777778,
              "#fb9f3a"
             ],
             [
              0.8888888888888888,
              "#fdca26"
             ],
             [
              1,
              "#f0f921"
             ]
            ],
            "type": "surface"
           }
          ],
          "table": [
           {
            "cells": {
             "fill": {
              "color": "#EBF0F8"
             },
             "line": {
              "color": "white"
             }
            },
            "header": {
             "fill": {
              "color": "#C8D4E3"
             },
             "line": {
              "color": "white"
             }
            },
            "type": "table"
           }
          ]
         },
         "layout": {
          "annotationdefaults": {
           "arrowcolor": "#2a3f5f",
           "arrowhead": 0,
           "arrowwidth": 1
          },
          "autotypenumbers": "strict",
          "coloraxis": {
           "colorbar": {
            "outlinewidth": 0,
            "ticks": ""
           }
          },
          "colorscale": {
           "diverging": [
            [
             0,
             "#8e0152"
            ],
            [
             0.1,
             "#c51b7d"
            ],
            [
             0.2,
             "#de77ae"
            ],
            [
             0.3,
             "#f1b6da"
            ],
            [
             0.4,
             "#fde0ef"
            ],
            [
             0.5,
             "#f7f7f7"
            ],
            [
             0.6,
             "#e6f5d0"
            ],
            [
             0.7,
             "#b8e186"
            ],
            [
             0.8,
             "#7fbc41"
            ],
            [
             0.9,
             "#4d9221"
            ],
            [
             1,
             "#276419"
            ]
           ],
           "sequential": [
            [
             0,
             "#0d0887"
            ],
            [
             0.1111111111111111,
             "#46039f"
            ],
            [
             0.2222222222222222,
             "#7201a8"
            ],
            [
             0.3333333333333333,
             "#9c179e"
            ],
            [
             0.4444444444444444,
             "#bd3786"
            ],
            [
             0.5555555555555556,
             "#d8576b"
            ],
            [
             0.6666666666666666,
             "#ed7953"
            ],
            [
             0.7777777777777778,
             "#fb9f3a"
            ],
            [
             0.8888888888888888,
             "#fdca26"
            ],
            [
             1,
             "#f0f921"
            ]
           ],
           "sequentialminus": [
            [
             0,
             "#0d0887"
            ],
            [
             0.1111111111111111,
             "#46039f"
            ],
            [
             0.2222222222222222,
             "#7201a8"
            ],
            [
             0.3333333333333333,
             "#9c179e"
            ],
            [
             0.4444444444444444,
             "#bd3786"
            ],
            [
             0.5555555555555556,
             "#d8576b"
            ],
            [
             0.6666666666666666,
             "#ed7953"
            ],
            [
             0.7777777777777778,
             "#fb9f3a"
            ],
            [
             0.8888888888888888,
             "#fdca26"
            ],
            [
             1,
             "#f0f921"
            ]
           ]
          },
          "colorway": [
           "#636efa",
           "#EF553B",
           "#00cc96",
           "#ab63fa",
           "#FFA15A",
           "#19d3f3",
           "#FF6692",
           "#B6E880",
           "#FF97FF",
           "#FECB52"
          ],
          "font": {
           "color": "#2a3f5f"
          },
          "geo": {
           "bgcolor": "white",
           "lakecolor": "white",
           "landcolor": "#E5ECF6",
           "showlakes": true,
           "showland": true,
           "subunitcolor": "white"
          },
          "hoverlabel": {
           "align": "left"
          },
          "hovermode": "closest",
          "mapbox": {
           "style": "light"
          },
          "paper_bgcolor": "white",
          "plot_bgcolor": "#E5ECF6",
          "polar": {
           "angularaxis": {
            "gridcolor": "white",
            "linecolor": "white",
            "ticks": ""
           },
           "bgcolor": "#E5ECF6",
           "radialaxis": {
            "gridcolor": "white",
            "linecolor": "white",
            "ticks": ""
           }
          },
          "scene": {
           "xaxis": {
            "backgroundcolor": "#E5ECF6",
            "gridcolor": "white",
            "gridwidth": 2,
            "linecolor": "white",
            "showbackground": true,
            "ticks": "",
            "zerolinecolor": "white"
           },
           "yaxis": {
            "backgroundcolor": "#E5ECF6",
            "gridcolor": "white",
            "gridwidth": 2,
            "linecolor": "white",
            "showbackground": true,
            "ticks": "",
            "zerolinecolor": "white"
           },
           "zaxis": {
            "backgroundcolor": "#E5ECF6",
            "gridcolor": "white",
            "gridwidth": 2,
            "linecolor": "white",
            "showbackground": true,
            "ticks": "",
            "zerolinecolor": "white"
           }
          },
          "shapedefaults": {
           "line": {
            "color": "#2a3f5f"
           }
          },
          "ternary": {
           "aaxis": {
            "gridcolor": "white",
            "linecolor": "white",
            "ticks": ""
           },
           "baxis": {
            "gridcolor": "white",
            "linecolor": "white",
            "ticks": ""
           },
           "bgcolor": "#E5ECF6",
           "caxis": {
            "gridcolor": "white",
            "linecolor": "white",
            "ticks": ""
           }
          },
          "title": {
           "x": 0.05
          },
          "xaxis": {
           "automargin": true,
           "gridcolor": "white",
           "linecolor": "white",
           "ticks": "",
           "title": {
            "standoff": 15
           },
           "zerolinecolor": "white",
           "zerolinewidth": 2
          },
          "yaxis": {
           "automargin": true,
           "gridcolor": "white",
           "linecolor": "white",
           "ticks": "",
           "title": {
            "standoff": 15
           },
           "zerolinecolor": "white",
           "zerolinewidth": 2
          }
         }
        },
        "title": {
         "text": "Bitcoin price vs Shifted Sentiment"
        },
        "xaxis": {
         "anchor": "y",
         "domain": [
          0,
          1
         ],
         "title": {
          "text": "date"
         }
        },
        "yaxis": {
         "anchor": "x",
         "domain": [
          0,
          1
         ],
         "title": {
          "text": "value"
         }
        }
       }
      }
     },
     "metadata": {},
     "output_type": "display_data"
    }
   ],
   "source": [
    "sentiments['people_norm'] = (sentiments['people'] - sentiments['people'].min()) / (sentiments['people'].max() - sentiments['people'].min())\n",
    "fig = px.scatter(sentiments, x='date', y=['bitcoin_norm', 'people_norm'], title='Bitcoin price vs Shifted Sentiment', labels={'compound_norm_shifted': 'Shifted Sentiment', 'bitcoin_norm': 'Bitcoin price'})\n",
    "fig.update_traces(mode='lines')\n",
    "fig.show()"
   ]
  },
  {
   "cell_type": "code",
   "execution_count": null,
   "metadata": {},
   "outputs": [],
   "source": [
    "import statsmodels.api as sm\n",
    "\n",
    "model_with_people = sm.OLS()"
   ]
  },
  {
   "cell_type": "code",
   "execution_count": null,
   "metadata": {},
   "outputs": [],
   "source": [
    "px.scatter(sentiments, x='date', y=['people', 'bitcoin_norm'], title='People per Day')"
   ]
  },
  {
   "cell_type": "code",
   "execution_count": 47,
   "metadata": {},
   "outputs": [],
   "source": [
    "# sentiments['compound_norm_shifted'].iloc[:20]"
   ]
  },
  {
   "cell_type": "code",
   "execution_count": null,
   "metadata": {},
   "outputs": [],
   "source": [
    "# Calculate Pearson and Spearman correlation\n",
    "bitcoin_norm = bitcoin_data['bitcoin_norm']\n",
    "correlation_pearson = bitcoin_norm.corr(sentiment_norm, method='pearson')\n",
    "correlation_spearman = bitcoin_norm.corr(sentiment_norm, method='spearman')\n"
   ]
  },
  {
   "cell_type": "code",
   "execution_count": 54,
   "metadata": {},
   "outputs": [],
   "source": [
    "import statsmodels.api as sm\n",
    "from sklearn.model_selection import train_test_split"
   ]
  },
  {
   "cell_type": "code",
   "execution_count": 60,
   "metadata": {},
   "outputs": [],
   "source": [
    "X = sentiments['compound_norm']\n",
    "y = sentiments['bitcoin_norm']\n",
    "X_train, X_test, y_train, y_test = train_test_split(X, y, test_size=0.2, random_state=42)\n",
    "X = sm.add_constant(X)\n",
    "X_train = sm.add_constant(X_train)\n",
    "model = sm.OLS(y_train, X_train).fit()"
   ]
  },
  {
   "cell_type": "code",
   "execution_count": null,
   "metadata": {},
   "outputs": [],
   "source": [
    "model.summary() "
   ]
  },
  {
   "cell_type": "code",
   "execution_count": null,
   "metadata": {},
   "outputs": [],
   "source": [
    "# sentiments_shifted = sentiments.copy()\n",
    "# sentiments_shifted.dropna(inplace=True)\n",
    "# X = sentiments['compound_norm_shifted']\n",
    "# y = sentiments_shifted['bitcoin_norm']\n",
    "# X_train, X_test, y_train, y_test = train_test_split(X, y, test_size=0.2, random_state=42)\n",
    "\n",
    "# Assume `data` is your DataFrame with a time series index\n",
    "train_size = int(len(sentiments) * 0.8)  # 80% for training, 20% for testing\n",
    "train, test = sentiments[:train_size], sentiments[train_size:]\n",
    "X_train = train['compound_norm']\n",
    "y_train = train['bitcoin_norm'] \n",
    "X_test = test['compound_norm']\n",
    "y_test = test['bitcoin_norm']\n",
    "\n",
    "\n",
    "X_train_with_constant = sm.add_constant(X_train)\n",
    "model = sm.OLS(y_train, X_train_with_constant).fit()\n",
    "model.summary()"
   ]
  },
  {
   "cell_type": "code",
   "execution_count": null,
   "metadata": {},
   "outputs": [],
   "source": [
    "train_size = int(len(sentiments) * 0.8)  # 80% for training, 20% for testing\n",
    "train, test = sentiments[:train_size], sentiments[train_size:]\n",
    "\n",
    "X_train = train[['compound_norm', 'people']]\n",
    "y_train = train['bitcoin_norm'] \n",
    "X_test = test[['compound_norm', 'people']]\n",
    "y_test = test['bitcoin_norm']\n",
    "\n",
    "\n",
    "X_train_with_constant = sm.add_constant(X_train)\n",
    "modelp = sm.OLS(y_train, X_train_with_constant).fit()\n",
    "modelp.summary()"
   ]
  },
  {
   "cell_type": "code",
   "execution_count": 23,
   "metadata": {},
   "outputs": [],
   "source": []
  },
  {
   "cell_type": "code",
   "execution_count": 75,
   "metadata": {},
   "outputs": [],
   "source": [
    "from sklearn.ensemble import RandomForestRegressor"
   ]
  },
  {
   "cell_type": "code",
   "execution_count": null,
   "metadata": {},
   "outputs": [],
   "source": [
    "# X_train_reshaped = X_train.values.reshape(-1, 1)\n",
    "rfr = RandomForestRegressor(n_estimators=100, random_state=42, max_depth=5).fit(X_train, y_train)\n",
    "rfr.score(X_train, y_train)"
   ]
  },
  {
   "cell_type": "code",
   "execution_count": null,
   "metadata": {},
   "outputs": [],
   "source": [
    "rfr.feature_importances_"
   ]
  },
  {
   "cell_type": "code",
   "execution_count": null,
   "metadata": {},
   "outputs": [],
   "source": [
    "rfr.score(X_test, y_test)"
   ]
  },
  {
   "cell_type": "code",
   "execution_count": 160,
   "metadata": {},
   "outputs": [],
   "source": [
    "gbitcoin = pd.read_csv('bitcoin_google_search.csv')#['Category: All categories']\n",
    "gbitcoin.rename(columns={'bitcoin': 'bitcoin_search'}, inplace=True)"
   ]
  },
  {
   "cell_type": "code",
   "execution_count": null,
   "metadata": {},
   "outputs": [],
   "source": [
    "# Convert 'Time' in gbitcoin to datetime if not already done\n",
    "gbitcoin['Time'] = pd.to_datetime(gbitcoin['Time'])\n",
    "\n",
    "# Find the closest date in sentiments for each Time in gbitcoin\n",
    "gbitcoin['closest_date'] = gbitcoin['Time'].apply(lambda x: sentiments.iloc[(sentiments['date'] - x).abs().argsort()[:1]]['date'].values[0])\n",
    "\n",
    "# Merge the dataframes on the closest date\n",
    "merged_data = pd.merge_asof(gbitcoin.sort_values('closest_date'), sentiments.sort_values('date'), left_on='closest_date', right_on='date', direction='nearest')\n",
    "\n",
    "# Drop the extra date columns if necessary\n",
    "merged_data.drop(columns=['closest_date', 'date'], inplace=True)\n",
    "\n",
    "print(merged_data)\n",
    "# Forward fill missing values in the merged data\n",
    "merged_data.ffill(inplace=True)\n",
    "\n",
    "print(merged_data)"
   ]
  },
  {
   "cell_type": "code",
   "execution_count": null,
   "metadata": {},
   "outputs": [],
   "source": [
    "# Convert 'Time' in gbitcoin to datetime\n",
    "gbitcoin['Time'] = pd.to_datetime(gbitcoin['Time'])\n",
    "\n",
    "# Find the closest date in sentiments for each Time in gbitcoin\n",
    "gbitcoin['closest_date'] = gbitcoin['Time'].apply(lambda x: sentiments.iloc[(sentiments['date'] - x).abs().argsort()[:1]]['date'].values[0])\n",
    "# Forward fill missing values in the merged data\n",
    "merged_data.ffill(inplace=True)\n",
    "# Merge the dataframes on the closest date\n",
    "merged_data = gbitcoin.merge(sentiments, left_on='closest_date', right_on='date', suffixes=('_gbitcoin', '_sentiments'))\n",
    "\n",
    "# Drop the extra date columns\n",
    "merged_data.drop(columns=['closest_date', 'date'], inplace=True)\n",
    "\n",
    "print(merged_data)"
   ]
  },
  {
   "cell_type": "code",
   "execution_count": 27,
   "metadata": {},
   "outputs": [
    {
     "data": {
      "text/html": [
       "<div>\n",
       "<style scoped>\n",
       "    .dataframe tbody tr th:only-of-type {\n",
       "        vertical-align: middle;\n",
       "    }\n",
       "\n",
       "    .dataframe tbody tr th {\n",
       "        vertical-align: top;\n",
       "    }\n",
       "\n",
       "    .dataframe thead th {\n",
       "        text-align: right;\n",
       "    }\n",
       "</style>\n",
       "<table border=\"1\" class=\"dataframe\">\n",
       "  <thead>\n",
       "    <tr style=\"text-align: right;\">\n",
       "      <th></th>\n",
       "      <th>Time</th>\n",
       "      <th>bitcoin</th>\n",
       "      <th>positive_count</th>\n",
       "      <th>negative_count</th>\n",
       "      <th>neutral_count</th>\n",
       "      <th>compound_mean</th>\n",
       "      <th>compound_norm</th>\n",
       "      <th>bitcoin_norm</th>\n",
       "      <th>compound_norm_shifted</th>\n",
       "      <th>people</th>\n",
       "      <th>people_norm</th>\n",
       "    </tr>\n",
       "  </thead>\n",
       "  <tbody>\n",
       "    <tr>\n",
       "      <th>0</th>\n",
       "      <td>2024-12-04 23:00:00</td>\n",
       "      <td>28</td>\n",
       "      <td>1</td>\n",
       "      <td>0</td>\n",
       "      <td>0</td>\n",
       "      <td>0.961000</td>\n",
       "      <td>0.980500</td>\n",
       "      <td>0.485444</td>\n",
       "      <td>NaN</td>\n",
       "      <td>1</td>\n",
       "      <td>0.000000</td>\n",
       "    </tr>\n",
       "    <tr>\n",
       "      <th>1</th>\n",
       "      <td>2024-12-05 00:00:00</td>\n",
       "      <td>23</td>\n",
       "      <td>1</td>\n",
       "      <td>0</td>\n",
       "      <td>0</td>\n",
       "      <td>0.961000</td>\n",
       "      <td>0.980500</td>\n",
       "      <td>0.485444</td>\n",
       "      <td>NaN</td>\n",
       "      <td>1</td>\n",
       "      <td>0.000000</td>\n",
       "    </tr>\n",
       "    <tr>\n",
       "      <th>2</th>\n",
       "      <td>2024-12-05 01:00:00</td>\n",
       "      <td>21</td>\n",
       "      <td>0</td>\n",
       "      <td>1</td>\n",
       "      <td>0</td>\n",
       "      <td>-0.897000</td>\n",
       "      <td>0.051500</td>\n",
       "      <td>0.448000</td>\n",
       "      <td>NaN</td>\n",
       "      <td>1</td>\n",
       "      <td>0.000000</td>\n",
       "    </tr>\n",
       "    <tr>\n",
       "      <th>3</th>\n",
       "      <td>2024-12-05 02:00:00</td>\n",
       "      <td>48</td>\n",
       "      <td>1</td>\n",
       "      <td>0</td>\n",
       "      <td>0</td>\n",
       "      <td>0.361200</td>\n",
       "      <td>0.680600</td>\n",
       "      <td>0.458444</td>\n",
       "      <td>NaN</td>\n",
       "      <td>1</td>\n",
       "      <td>0.000000</td>\n",
       "    </tr>\n",
       "    <tr>\n",
       "      <th>4</th>\n",
       "      <td>2024-12-05 03:00:00</td>\n",
       "      <td>100</td>\n",
       "      <td>1</td>\n",
       "      <td>0</td>\n",
       "      <td>0</td>\n",
       "      <td>0.361200</td>\n",
       "      <td>0.680600</td>\n",
       "      <td>0.458444</td>\n",
       "      <td>NaN</td>\n",
       "      <td>1</td>\n",
       "      <td>0.000000</td>\n",
       "    </tr>\n",
       "    <tr>\n",
       "      <th>...</th>\n",
       "      <td>...</td>\n",
       "      <td>...</td>\n",
       "      <td>...</td>\n",
       "      <td>...</td>\n",
       "      <td>...</td>\n",
       "      <td>...</td>\n",
       "      <td>...</td>\n",
       "      <td>...</td>\n",
       "      <td>...</td>\n",
       "      <td>...</td>\n",
       "      <td>...</td>\n",
       "    </tr>\n",
       "    <tr>\n",
       "      <th>164</th>\n",
       "      <td>2024-12-11 15:00:00</td>\n",
       "      <td>24</td>\n",
       "      <td>1</td>\n",
       "      <td>0</td>\n",
       "      <td>2</td>\n",
       "      <td>0.106067</td>\n",
       "      <td>0.553033</td>\n",
       "      <td>0.433444</td>\n",
       "      <td>0.390233</td>\n",
       "      <td>3</td>\n",
       "      <td>0.030769</td>\n",
       "    </tr>\n",
       "    <tr>\n",
       "      <th>165</th>\n",
       "      <td>2024-12-11 14:00:00</td>\n",
       "      <td>21</td>\n",
       "      <td>1</td>\n",
       "      <td>0</td>\n",
       "      <td>2</td>\n",
       "      <td>0.106067</td>\n",
       "      <td>0.553033</td>\n",
       "      <td>0.433444</td>\n",
       "      <td>0.390233</td>\n",
       "      <td>3</td>\n",
       "      <td>0.030769</td>\n",
       "    </tr>\n",
       "    <tr>\n",
       "      <th>166</th>\n",
       "      <td>2024-12-11 22:00:00</td>\n",
       "      <td>29</td>\n",
       "      <td>1</td>\n",
       "      <td>0</td>\n",
       "      <td>2</td>\n",
       "      <td>0.106067</td>\n",
       "      <td>0.553033</td>\n",
       "      <td>0.433444</td>\n",
       "      <td>0.390233</td>\n",
       "      <td>3</td>\n",
       "      <td>0.030769</td>\n",
       "    </tr>\n",
       "    <tr>\n",
       "      <th>167</th>\n",
       "      <td>2024-12-11 17:00:00</td>\n",
       "      <td>25</td>\n",
       "      <td>1</td>\n",
       "      <td>0</td>\n",
       "      <td>2</td>\n",
       "      <td>0.106067</td>\n",
       "      <td>0.553033</td>\n",
       "      <td>0.433444</td>\n",
       "      <td>0.390233</td>\n",
       "      <td>3</td>\n",
       "      <td>0.030769</td>\n",
       "    </tr>\n",
       "    <tr>\n",
       "      <th>168</th>\n",
       "      <td>2024-12-11 23:00:00</td>\n",
       "      <td>23</td>\n",
       "      <td>1</td>\n",
       "      <td>0</td>\n",
       "      <td>2</td>\n",
       "      <td>0.106067</td>\n",
       "      <td>0.553033</td>\n",
       "      <td>0.433444</td>\n",
       "      <td>0.390233</td>\n",
       "      <td>3</td>\n",
       "      <td>0.030769</td>\n",
       "    </tr>\n",
       "  </tbody>\n",
       "</table>\n",
       "<p>169 rows × 11 columns</p>\n",
       "</div>"
      ],
      "text/plain": [
       "                   Time  bitcoin  positive_count  negative_count  \\\n",
       "0   2024-12-04 23:00:00       28               1               0   \n",
       "1   2024-12-05 00:00:00       23               1               0   \n",
       "2   2024-12-05 01:00:00       21               0               1   \n",
       "3   2024-12-05 02:00:00       48               1               0   \n",
       "4   2024-12-05 03:00:00      100               1               0   \n",
       "..                  ...      ...             ...             ...   \n",
       "164 2024-12-11 15:00:00       24               1               0   \n",
       "165 2024-12-11 14:00:00       21               1               0   \n",
       "166 2024-12-11 22:00:00       29               1               0   \n",
       "167 2024-12-11 17:00:00       25               1               0   \n",
       "168 2024-12-11 23:00:00       23               1               0   \n",
       "\n",
       "     neutral_count  compound_mean  compound_norm  bitcoin_norm  \\\n",
       "0                0       0.961000       0.980500      0.485444   \n",
       "1                0       0.961000       0.980500      0.485444   \n",
       "2                0      -0.897000       0.051500      0.448000   \n",
       "3                0       0.361200       0.680600      0.458444   \n",
       "4                0       0.361200       0.680600      0.458444   \n",
       "..             ...            ...            ...           ...   \n",
       "164              2       0.106067       0.553033      0.433444   \n",
       "165              2       0.106067       0.553033      0.433444   \n",
       "166              2       0.106067       0.553033      0.433444   \n",
       "167              2       0.106067       0.553033      0.433444   \n",
       "168              2       0.106067       0.553033      0.433444   \n",
       "\n",
       "     compound_norm_shifted  people  people_norm  \n",
       "0                      NaN       1     0.000000  \n",
       "1                      NaN       1     0.000000  \n",
       "2                      NaN       1     0.000000  \n",
       "3                      NaN       1     0.000000  \n",
       "4                      NaN       1     0.000000  \n",
       "..                     ...     ...          ...  \n",
       "164               0.390233       3     0.030769  \n",
       "165               0.390233       3     0.030769  \n",
       "166               0.390233       3     0.030769  \n",
       "167               0.390233       3     0.030769  \n",
       "168               0.390233       3     0.030769  \n",
       "\n",
       "[169 rows x 11 columns]"
      ]
     },
     "execution_count": 27,
     "metadata": {},
     "output_type": "execute_result"
    }
   ],
   "source": [
    "gsearch = pd.read_csv('bitcoin_google_search.csv')\n",
    "# Convert 'Time' in gsearch to datetime if not already done\n",
    "gsearch['Time'] = pd.to_datetime(gsearch['Time'])\n",
    "\n",
    "# Find the closest date in sentiments for each Time in gsearch\n",
    "gsearch['closest_date'] = gsearch['Time'].apply(lambda x: sentiments.iloc[(sentiments['date'] - x).abs().argsort()[:1]]['date'].values[0])\n",
    "\n",
    "# Merge the dataframes on the closest date\n",
    "merged_gsearch_sentiments = pd.merge_asof(gsearch.sort_values('closest_date'), sentiments.sort_values('date'), left_on='closest_date', right_on='date', direction='nearest')\n",
    "\n",
    "# Drop the extra date columns if necessary\n",
    "merged_gsearch_sentiments.drop(columns=['closest_date', 'date'], inplace=True)\n",
    "\n",
    "merged_gsearch_sentiments"
   ]
  },
  {
   "cell_type": "code",
   "execution_count": 25,
   "metadata": {},
   "outputs": [
    {
     "data": {
      "text/html": [
       "<div>\n",
       "<style scoped>\n",
       "    .dataframe tbody tr th:only-of-type {\n",
       "        vertical-align: middle;\n",
       "    }\n",
       "\n",
       "    .dataframe tbody tr th {\n",
       "        vertical-align: top;\n",
       "    }\n",
       "\n",
       "    .dataframe thead th {\n",
       "        text-align: right;\n",
       "    }\n",
       "</style>\n",
       "<table border=\"1\" class=\"dataframe\">\n",
       "  <thead>\n",
       "    <tr style=\"text-align: right;\">\n",
       "      <th></th>\n",
       "      <th>positive_count</th>\n",
       "      <th>negative_count</th>\n",
       "      <th>neutral_count</th>\n",
       "      <th>compound_mean</th>\n",
       "      <th>date</th>\n",
       "      <th>compound_norm</th>\n",
       "      <th>bitcoin_norm</th>\n",
       "      <th>compound_norm_shifted</th>\n",
       "      <th>people</th>\n",
       "      <th>people_norm</th>\n",
       "    </tr>\n",
       "  </thead>\n",
       "  <tbody>\n",
       "    <tr>\n",
       "      <th>0</th>\n",
       "      <td>5</td>\n",
       "      <td>0</td>\n",
       "      <td>4</td>\n",
       "      <td>0.322856</td>\n",
       "      <td>2024-12-04 14:10:00</td>\n",
       "      <td>0.661428</td>\n",
       "      <td>0.124111</td>\n",
       "      <td>NaN</td>\n",
       "      <td>9</td>\n",
       "      <td>0.123077</td>\n",
       "    </tr>\n",
       "    <tr>\n",
       "      <th>1</th>\n",
       "      <td>2</td>\n",
       "      <td>1</td>\n",
       "      <td>2</td>\n",
       "      <td>0.132160</td>\n",
       "      <td>2024-12-04 15:20:00</td>\n",
       "      <td>0.566080</td>\n",
       "      <td>0.144556</td>\n",
       "      <td>NaN</td>\n",
       "      <td>5</td>\n",
       "      <td>0.061538</td>\n",
       "    </tr>\n",
       "    <tr>\n",
       "      <th>2</th>\n",
       "      <td>1</td>\n",
       "      <td>0</td>\n",
       "      <td>0</td>\n",
       "      <td>0.531900</td>\n",
       "      <td>2024-12-04 16:10:00</td>\n",
       "      <td>0.765950</td>\n",
       "      <td>0.110333</td>\n",
       "      <td>NaN</td>\n",
       "      <td>1</td>\n",
       "      <td>0.000000</td>\n",
       "    </tr>\n",
       "    <tr>\n",
       "      <th>3</th>\n",
       "      <td>4</td>\n",
       "      <td>3</td>\n",
       "      <td>3</td>\n",
       "      <td>0.132160</td>\n",
       "      <td>2024-12-04 16:30:00</td>\n",
       "      <td>0.566080</td>\n",
       "      <td>0.059667</td>\n",
       "      <td>NaN</td>\n",
       "      <td>10</td>\n",
       "      <td>0.138462</td>\n",
       "    </tr>\n",
       "    <tr>\n",
       "      <th>4</th>\n",
       "      <td>1</td>\n",
       "      <td>0</td>\n",
       "      <td>0</td>\n",
       "      <td>0.334600</td>\n",
       "      <td>2024-12-04 17:20:00</td>\n",
       "      <td>0.667300</td>\n",
       "      <td>0.046111</td>\n",
       "      <td>NaN</td>\n",
       "      <td>1</td>\n",
       "      <td>0.000000</td>\n",
       "    </tr>\n",
       "    <tr>\n",
       "      <th>...</th>\n",
       "      <td>...</td>\n",
       "      <td>...</td>\n",
       "      <td>...</td>\n",
       "      <td>...</td>\n",
       "      <td>...</td>\n",
       "      <td>...</td>\n",
       "      <td>...</td>\n",
       "      <td>...</td>\n",
       "      <td>...</td>\n",
       "      <td>...</td>\n",
       "    </tr>\n",
       "    <tr>\n",
       "      <th>249</th>\n",
       "      <td>8</td>\n",
       "      <td>1</td>\n",
       "      <td>2</td>\n",
       "      <td>0.484609</td>\n",
       "      <td>2024-12-11 11:10:00</td>\n",
       "      <td>0.742305</td>\n",
       "      <td>0.411222</td>\n",
       "      <td>0.362250</td>\n",
       "      <td>11</td>\n",
       "      <td>0.153846</td>\n",
       "    </tr>\n",
       "    <tr>\n",
       "      <th>250</th>\n",
       "      <td>0</td>\n",
       "      <td>1</td>\n",
       "      <td>0</td>\n",
       "      <td>-0.381800</td>\n",
       "      <td>2024-12-11 11:20:00</td>\n",
       "      <td>0.309100</td>\n",
       "      <td>0.429000</td>\n",
       "      <td>0.545388</td>\n",
       "      <td>1</td>\n",
       "      <td>0.000000</td>\n",
       "    </tr>\n",
       "    <tr>\n",
       "      <th>251</th>\n",
       "      <td>2</td>\n",
       "      <td>0</td>\n",
       "      <td>4</td>\n",
       "      <td>0.157267</td>\n",
       "      <td>2024-12-11 11:40:00</td>\n",
       "      <td>0.578633</td>\n",
       "      <td>0.419556</td>\n",
       "      <td>0.648000</td>\n",
       "      <td>6</td>\n",
       "      <td>0.076923</td>\n",
       "    </tr>\n",
       "    <tr>\n",
       "      <th>252</th>\n",
       "      <td>2</td>\n",
       "      <td>0</td>\n",
       "      <td>3</td>\n",
       "      <td>0.258900</td>\n",
       "      <td>2024-12-11 12:10:00</td>\n",
       "      <td>0.629450</td>\n",
       "      <td>0.424667</td>\n",
       "      <td>0.615740</td>\n",
       "      <td>5</td>\n",
       "      <td>0.061538</td>\n",
       "    </tr>\n",
       "    <tr>\n",
       "      <th>253</th>\n",
       "      <td>1</td>\n",
       "      <td>0</td>\n",
       "      <td>2</td>\n",
       "      <td>0.106067</td>\n",
       "      <td>2024-12-11 12:20:00</td>\n",
       "      <td>0.553033</td>\n",
       "      <td>0.433444</td>\n",
       "      <td>0.390233</td>\n",
       "      <td>3</td>\n",
       "      <td>0.030769</td>\n",
       "    </tr>\n",
       "  </tbody>\n",
       "</table>\n",
       "<p>254 rows × 10 columns</p>\n",
       "</div>"
      ],
      "text/plain": [
       "     positive_count  negative_count  neutral_count  compound_mean  \\\n",
       "0                 5               0              4       0.322856   \n",
       "1                 2               1              2       0.132160   \n",
       "2                 1               0              0       0.531900   \n",
       "3                 4               3              3       0.132160   \n",
       "4                 1               0              0       0.334600   \n",
       "..              ...             ...            ...            ...   \n",
       "249               8               1              2       0.484609   \n",
       "250               0               1              0      -0.381800   \n",
       "251               2               0              4       0.157267   \n",
       "252               2               0              3       0.258900   \n",
       "253               1               0              2       0.106067   \n",
       "\n",
       "                   date  compound_norm  bitcoin_norm  compound_norm_shifted  \\\n",
       "0   2024-12-04 14:10:00       0.661428      0.124111                    NaN   \n",
       "1   2024-12-04 15:20:00       0.566080      0.144556                    NaN   \n",
       "2   2024-12-04 16:10:00       0.765950      0.110333                    NaN   \n",
       "3   2024-12-04 16:30:00       0.566080      0.059667                    NaN   \n",
       "4   2024-12-04 17:20:00       0.667300      0.046111                    NaN   \n",
       "..                  ...            ...           ...                    ...   \n",
       "249 2024-12-11 11:10:00       0.742305      0.411222               0.362250   \n",
       "250 2024-12-11 11:20:00       0.309100      0.429000               0.545388   \n",
       "251 2024-12-11 11:40:00       0.578633      0.419556               0.648000   \n",
       "252 2024-12-11 12:10:00       0.629450      0.424667               0.615740   \n",
       "253 2024-12-11 12:20:00       0.553033      0.433444               0.390233   \n",
       "\n",
       "     people  people_norm  \n",
       "0         9     0.123077  \n",
       "1         5     0.061538  \n",
       "2         1     0.000000  \n",
       "3        10     0.138462  \n",
       "4         1     0.000000  \n",
       "..      ...          ...  \n",
       "249      11     0.153846  \n",
       "250       1     0.000000  \n",
       "251       6     0.076923  \n",
       "252       5     0.061538  \n",
       "253       3     0.030769  \n",
       "\n",
       "[254 rows x 10 columns]"
      ]
     },
     "execution_count": 25,
     "metadata": {},
     "output_type": "execute_result"
    }
   ],
   "source": []
  },
  {
   "cell_type": "code",
   "execution_count": null,
   "metadata": {},
   "outputs": [],
   "source": [
    "gbitcoin"
   ]
  },
  {
   "cell_type": "code",
   "execution_count": null,
   "metadata": {},
   "outputs": [],
   "source": [
    "sentiments"
   ]
  },
  {
   "cell_type": "code",
   "execution_count": null,
   "metadata": {},
   "outputs": [],
   "source": [
    "# Mock data creation for Bitcoin Norm and Sentiment Norm (replace with actual data)\n",
    "np.random.seed(42)\n",
    "dates = pd.date_range(start=\"2024-12-05\", end=\"2024-12-11\", freq='H')\n",
    "bitcoin_norm = pd.Series(np.sin(np.linspace(0, 10, len(dates))) + np.random.normal(0, 0.1, len(dates)), index=dates)\n",
    "sentiment_norm = pd.Series(np.cos(np.linspace(0, 10, len(dates))) + np.random.normal(0, 0.1, len(dates)), index=dates)\n",
    "\n",
    "# Calculate Pearson and Spearman correlation\n",
    "correlation_pearson = bitcoin_norm.corr(sentiment_norm, method='pearson')\n",
    "correlation_spearman = bitcoin_norm.corr(sentiment_norm, method='spearman')\n",
    "\n",
    "# Print Correlation results\n",
    "print(f\"Pearson Correlation: {correlation_pearson}\")\n",
    "print(f\"Spearman Correlation: {correlation_spearman}\")\n",
    "\n",
    "# Lag Analysis\n",
    "lagged_correlations = {}\n",
    "for lag in range(-10, 11):  # Lags from -10 to +10\n",
    "    shifted_sentiment = sentiment_norm.shift(lag)\n",
    "    correlation = bitcoin_norm.corr(shifted_sentiment)\n",
    "    lagged_correlations[lag] = correlation\n",
    "\n",
    "# Plot lagged correlations\n",
    "plt.figure(figsize=(10, 6))\n",
    "plt.plot(list(lagged_correlations.keys()), list(lagged_correlations.values()), marker='o')\n",
    "plt.axhline(0, color='gray', linestyle='--')\n",
    "plt.title('Lagged Correlation between Bitcoin Norm and Sentiment Norm')\n",
    "plt.xlabel('Lag')\n",
    "plt.ylabel('Correlation')\n",
    "plt.show()\n",
    "\n",
    "# Granger Causality Test\n",
    "data = pd.concat([bitcoin_norm, sentiment_norm], axis=1)\n",
    "data.columns = ['Bitcoin', 'Sentiment']\n",
    "granger_results = grangercausalitytests(data.dropna(), maxlag=10)\n",
    "\n",
    "# Linear Regression Analysis\n",
    "X = sentiment_norm.values.reshape(-1, 1)\n",
    "y = bitcoin_norm.values\n",
    "X_train, X_test, y_train, y_test = train_test_split(X, y, test_size=0.2, random_state=42)\n",
    "\n",
    "model = LinearRegression()\n",
    "model.fit(X_train, y_train)\n",
    "\n",
    "# Regression Results\n",
    "print(f\"Regression Coefficient: {model.coef_[0]}\")\n",
    "print(f\"Intercept: {model.intercept_}\")\n",
    "\n",
    "# Plotting Regression\n",
    "plt.figure(figsize=(10, 6))\n",
    "plt.scatter(sentiment_norm, bitcoin_norm, alpha=0.5, label=\"Data Points\")\n",
    "plt.plot(sentiment_norm, model.predict(X), color='red', label=\"Regression Line\")\n",
    "plt.title(\"Regression Analysis: Bitcoin Norm vs Sentiment Norm\")\n",
    "plt.xlabel(\"Sentiment Norm\")\n",
    "plt.ylabel(\"Bitcoin Norm\")\n",
    "plt.legend()\n",
    "plt.show()\n"
   ]
  }
 ],
 "metadata": {
  "kernelspec": {
   "display_name": "base",
   "language": "python",
   "name": "python3"
  },
  "language_info": {
   "codemirror_mode": {
    "name": "ipython",
    "version": 3
   },
   "file_extension": ".py",
   "mimetype": "text/x-python",
   "name": "python",
   "nbconvert_exporter": "python",
   "pygments_lexer": "ipython3",
   "version": "3.12.3"
  }
 },
 "nbformat": 4,
 "nbformat_minor": 2
}
